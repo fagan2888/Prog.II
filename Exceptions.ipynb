{
 "cells": [
  {
   "cell_type": "markdown",
   "metadata": {},
   "source": [
    "## Excepções\n",
    "\n",
    "Uma excepção é um objecto criado quando uma situação anómala ocorre, acompanhado por uma interrupção da execução normal de um programa. A motivação básica deste conceito é que ao descobrir um erro num método, mesmo que ainda não saibamos o que fazer, sabemos de certeza que não podemos continuar a executar as próximas instruções como se nada tivesse acontecido. \n",
    "\n",
    "Um exemplo simples ocorre quando tentamos aceder a um índice inválido de uma lista. Neste caso, o Python detém a execução normal e lança uma excepção designada <code>IndexError</code>:\n",
    "\n",
    "<!-- [Folha 10 problems](#problems) -->"
   ]
  },
  {
   "cell_type": "code",
   "execution_count": 13,
   "metadata": {
    "collapsed": false
   },
   "outputs": [
    {
     "ename": "IndexError",
     "evalue": "list index out of range",
     "output_type": "error",
     "traceback": [
      "\u001b[1;31m---------------------------------------------------------------------------\u001b[0m",
      "\u001b[1;31mIndexError\u001b[0m                                Traceback (most recent call last)",
      "\u001b[1;32m<ipython-input-13-de84653c0152>\u001b[0m in \u001b[0;36m<module>\u001b[1;34m()\u001b[0m\n\u001b[0;32m      1\u001b[0m \u001b[0mi\u001b[0m\u001b[1;33m,\u001b[0m \u001b[0mtest\u001b[0m \u001b[1;33m=\u001b[0m \u001b[1;36m3\u001b[0m\u001b[1;33m,\u001b[0m \u001b[1;33m[\u001b[0m\u001b[1;36m1\u001b[0m\u001b[1;33m,\u001b[0m\u001b[1;36m2\u001b[0m\u001b[1;33m,\u001b[0m\u001b[1;36m3\u001b[0m\u001b[1;33m]\u001b[0m\u001b[1;33m\u001b[0m\u001b[0m\n\u001b[1;32m----> 2\u001b[1;33m \u001b[0mtest\u001b[0m\u001b[1;33m[\u001b[0m\u001b[0mi\u001b[0m\u001b[1;33m]\u001b[0m\u001b[1;33m\u001b[0m\u001b[0m\n\u001b[0m",
      "\u001b[1;31mIndexError\u001b[0m: list index out of range"
     ]
    }
   ],
   "source": [
    "i, test = 3, [1,2,3]\n",
    "test[i]"
   ]
  },
  {
   "cell_type": "markdown",
   "metadata": {},
   "source": [
    "Podemos tentar controlar o problema 'embrulhando' as instruções problemáticas num bloco <code>try ... except</code>:"
   ]
  },
  {
   "cell_type": "code",
   "execution_count": 14,
   "metadata": {
    "collapsed": false
   },
   "outputs": [
    {
     "name": "stdout",
     "output_type": "stream",
     "text": [
      "ATENÇÃO: detectámos um problema no acesso da lista!\n"
     ]
    }
   ],
   "source": [
    "i, test = 3, [1,2,3]\n",
    "\n",
    "try:\n",
    "    test[i]\n",
    "except IndexError:\n",
    "    print 'ATENÇÃO: detectámos um problema no acesso da lista!'"
   ]
  },
  {
   "cell_type": "markdown",
   "metadata": {},
   "source": [
    "O que colocamos no bloco <code>except</code> depende, claro está, do contexto.\n",
    "\n",
    "Outra fonte de problemas é quando uma função recebe dados num formato inválido:"
   ]
  },
  {
   "cell_type": "code",
   "execution_count": 15,
   "metadata": {
    "collapsed": true
   },
   "outputs": [],
   "source": [
    "def sumDigits(s):\n",
    "    \"\"\"Assumes s is a string\n",
    "    Returns the sum of the decimal digits in s\n",
    "    For example, if s is 'a2b3c' it returns 5\"\"\"\n",
    "    \n",
    "    digitSum = 0\n",
    "    for d in s:\n",
    "        digitSum += int(d)\n",
    "    return digitSum"
   ]
  },
  {
   "cell_type": "code",
   "execution_count": 16,
   "metadata": {
    "collapsed": false
   },
   "outputs": [
    {
     "name": "stdout",
     "output_type": "stream",
     "text": [
      "8\n"
     ]
    },
    {
     "ename": "ValueError",
     "evalue": "invalid literal for int() with base 10: 'a'",
     "output_type": "error",
     "traceback": [
      "\u001b[1;31m---------------------------------------------------------------------------\u001b[0m",
      "\u001b[1;31mValueError\u001b[0m                                Traceback (most recent call last)",
      "\u001b[1;32m<ipython-input-16-f02d8a5f9b0a>\u001b[0m in \u001b[0;36m<module>\u001b[1;34m()\u001b[0m\n\u001b[0;32m      1\u001b[0m \u001b[1;32mprint\u001b[0m \u001b[0msumDigits\u001b[0m\u001b[1;33m(\u001b[0m\u001b[1;34m'143'\u001b[0m\u001b[1;33m)\u001b[0m\u001b[1;33m\u001b[0m\u001b[0m\n\u001b[1;32m----> 2\u001b[1;33m \u001b[1;32mprint\u001b[0m \u001b[0msumDigits\u001b[0m\u001b[1;33m(\u001b[0m\u001b[1;34m'14a'\u001b[0m\u001b[1;33m)\u001b[0m\u001b[1;33m\u001b[0m\u001b[0m\n\u001b[0m",
      "\u001b[1;32m<ipython-input-15-d14966447316>\u001b[0m in \u001b[0;36msumDigits\u001b[1;34m(s)\u001b[0m\n\u001b[0;32m      6\u001b[0m     \u001b[0mdigitSum\u001b[0m \u001b[1;33m=\u001b[0m \u001b[1;36m0\u001b[0m\u001b[1;33m\u001b[0m\u001b[0m\n\u001b[0;32m      7\u001b[0m     \u001b[1;32mfor\u001b[0m \u001b[0md\u001b[0m \u001b[1;32min\u001b[0m \u001b[0ms\u001b[0m\u001b[1;33m:\u001b[0m\u001b[1;33m\u001b[0m\u001b[0m\n\u001b[1;32m----> 8\u001b[1;33m         \u001b[0mdigitSum\u001b[0m \u001b[1;33m+=\u001b[0m \u001b[0mint\u001b[0m\u001b[1;33m(\u001b[0m\u001b[0md\u001b[0m\u001b[1;33m)\u001b[0m\u001b[1;33m\u001b[0m\u001b[0m\n\u001b[0m\u001b[0;32m      9\u001b[0m     \u001b[1;32mreturn\u001b[0m \u001b[0mdigitSum\u001b[0m\u001b[1;33m\u001b[0m\u001b[0m\n",
      "\u001b[1;31mValueError\u001b[0m: invalid literal for int() with base 10: 'a'"
     ]
    }
   ],
   "source": [
    "print sumDigits('143')\n",
    "print sumDigits('14a')"
   ]
  },
  {
   "cell_type": "markdown",
   "metadata": {},
   "source": [
    "Podemos reestruturar a função para quando surge um não dígito. O novo comportamento é simplesmente passar para o próximo caracter:"
   ]
  },
  {
   "cell_type": "code",
   "execution_count": 17,
   "metadata": {
    "collapsed": false
   },
   "outputs": [],
   "source": [
    "def sumDigits(s):\n",
    "    \"\"\"Assumes s is a string\n",
    "    Returns the sum of the decimal digits in s\n",
    "    For example, if s is 'a2b3c' it returns 5\"\"\"\n",
    "    \n",
    "    digitSum = 0\n",
    "    for d in s:\n",
    "        try:\n",
    "            digitSum += int(d)\n",
    "        except ValueError:     # if not digit...\n",
    "            pass               # ... do nothing\n",
    "    return digitSum"
   ]
  },
  {
   "cell_type": "code",
   "execution_count": 18,
   "metadata": {
    "collapsed": false
   },
   "outputs": [
    {
     "name": "stdout",
     "output_type": "stream",
     "text": [
      "8\n",
      "5\n"
     ]
    }
   ],
   "source": [
    "print sumDigits('143')\n",
    "print sumDigits('14a')"
   ]
  },
  {
   "cell_type": "markdown",
   "metadata": {},
   "source": [
    "O que têm as excepções a ver com a programação defensiva?\n",
    "\n",
    "Tanto as excepções como a programação defensiva procuram controlar acontecimentos inesperados, e evitar que o programa termine em erro. \n",
    "\n",
    "A programação defensiva tem um problema de escalabilidade. É possível que o número de erros inesperados seja demasiado, o que implica ter de carregar as nossas funções de imensos condicionais que tratam variados problemas. A alternativa, considerada como melhor prática, é a de incluir pré-condições na respectiva função. Estas pré-condições são contratos que fazem parte da documentação. Quem usa a função tem de ter o cuidado para evitar quebrá-las, correndo o risco de criar problemas na execução do código. Desta forma controlam-se melhor este tipo de problemas.\n",
    "\n",
    "As excepções são normalmente utilizadas num contexto mais limitado. Elas são úteis em situações onde os dados são recebidos sem qualquer controlo prévio (por exemplo, o utilizador insere texto que o programa lhe pediu, é lido um ficheiro externo com dados). E é necessário ao programa ser suficientemente robusto para validar o tipo e conteúdo da informação recebida de modo a que possa proseguir num estado válido.\n",
    "\n",
    "Um exemplo típico é pedir para ler um inteiro de forma robusta, ie, validar de imediato se os dados recebidos são do tipo inteiro, e não sendo, pedir novamente:"
   ]
  },
  {
   "cell_type": "code",
   "execution_count": 19,
   "metadata": {
    "collapsed": true
   },
   "outputs": [],
   "source": [
    "def readIntRobust():\n",
    "    valid = False\n",
    "    while not valid:\n",
    "        val = raw_input('Enter an integer: ')\n",
    "        try:\n",
    "            val = int(val)\n",
    "            valid = True\n",
    "        except ValueError:\n",
    "            print val, 'is not an integer'\n",
    "    return val"
   ]
  },
  {
   "cell_type": "code",
   "execution_count": 20,
   "metadata": {
    "collapsed": false
   },
   "outputs": [
    {
     "name": "stdout",
     "output_type": "stream",
     "text": [
      "Enter an integer: 1p\n",
      "1p is not an integer\n",
      "Enter an integer: 10\n",
      "10\n"
     ]
    }
   ],
   "source": [
    "a = readIntRobust()\n",
    "print a"
   ]
  },
  {
   "cell_type": "markdown",
   "metadata": {},
   "source": [
    "Podemos redefinir a função para ser mais genérica:"
   ]
  },
  {
   "cell_type": "code",
   "execution_count": 21,
   "metadata": {
    "collapsed": true
   },
   "outputs": [],
   "source": [
    "def readRobust(valType, requestMsg=\"Insert value: \", errorMsg=\" is an incorrect value\"):\n",
    "    valid = False\n",
    "    while not valid:\n",
    "        val = raw_input(requestMsg)\n",
    "        try:\n",
    "            val = valType(val)\n",
    "            valid = True\n",
    "        except ValueError:\n",
    "            print val, errorMsg\n",
    "    return val"
   ]
  },
  {
   "cell_type": "markdown",
   "metadata": {},
   "source": [
    "E agora usamos a mesma função para requerer um inteiro e um float:"
   ]
  },
  {
   "cell_type": "code",
   "execution_count": 22,
   "metadata": {
    "collapsed": false
   },
   "outputs": [
    {
     "name": "stdout",
     "output_type": "stream",
     "text": [
      "Insert value: q\n",
      "q  is an incorrect value\n",
      "Insert value: 12\n",
      "12\n",
      "Insert Float1.0.0\n",
      "1.0.0  is an incorrect value\n",
      "Insert Float1.0\n",
      "1.0\n"
     ]
    }
   ],
   "source": [
    "a = readRobust(int)\n",
    "print a\n",
    "b = readRobust(float, requestMsg=\"Insert Float\")\n",
    "print b"
   ]
  },
  {
   "cell_type": "markdown",
   "metadata": {},
   "source": [
    "Para receber mais que uma excepção usa-se esta sintaxe:\n",
    "    <pre><code>except(Error1, Error2):</code></pre>\n",
    "\n",
    "Para receber qualquer excepção:\n",
    "    <pre><code>except:</code></pre>\n",
    "    \n",
    "Exemplo que apanha vários tipos de excepção:"
   ]
  },
  {
   "cell_type": "code",
   "execution_count": 23,
   "metadata": {
    "collapsed": true
   },
   "outputs": [],
   "source": [
    "def getRatios(vect1, vect2):\n",
    "    \"\"\"Assumes: vect1 and vect2 are lists of equal length of numbers\n",
    "    Returns: a list containing the meaningful values of\n",
    "    vect1[i]/vect2[i]\"\"\"\n",
    "    ratios = []\n",
    "    for index in range(len(vect1)):\n",
    "        try:\n",
    "            ratios.append(vect1[index]/float(vect2[index]))\n",
    "        except ZeroDivisionError:\n",
    "            ratios.append(float('nan')) #nan = Not a Number\n",
    "        except:\n",
    "            raise ValueError('getRatios called with bad arguments')\n",
    "    return ratios"
   ]
  },
  {
   "cell_type": "code",
   "execution_count": 24,
   "metadata": {
    "collapsed": false
   },
   "outputs": [
    {
     "name": "stdout",
     "output_type": "stream",
     "text": [
      "[1.0, 0.6666666666666666, 0.3333333333333333, 0.5]\n",
      "[nan, 0.6666666666666666, 0.3333333333333333, 0.5]\n"
     ]
    },
    {
     "ename": "ValueError",
     "evalue": "getRatios called with bad arguments",
     "output_type": "error",
     "traceback": [
      "\u001b[1;31m---------------------------------------------------------------------------\u001b[0m",
      "\u001b[1;31mValueError\u001b[0m                                Traceback (most recent call last)",
      "\u001b[1;32m<ipython-input-24-73a0e969156a>\u001b[0m in \u001b[0;36m<module>\u001b[1;34m()\u001b[0m\n\u001b[0;32m      1\u001b[0m \u001b[1;32mprint\u001b[0m \u001b[0mgetRatios\u001b[0m\u001b[1;33m(\u001b[0m\u001b[1;33m[\u001b[0m\u001b[1;36m1\u001b[0m\u001b[1;33m,\u001b[0m\u001b[1;36m2\u001b[0m\u001b[1;33m,\u001b[0m\u001b[1;36m3\u001b[0m\u001b[1;33m,\u001b[0m\u001b[1;36m4\u001b[0m\u001b[1;33m]\u001b[0m\u001b[1;33m,\u001b[0m\u001b[1;33m[\u001b[0m\u001b[1;36m1\u001b[0m\u001b[1;33m,\u001b[0m\u001b[1;36m3\u001b[0m\u001b[1;33m,\u001b[0m\u001b[1;36m9\u001b[0m\u001b[1;33m,\u001b[0m\u001b[1;36m8\u001b[0m\u001b[1;33m]\u001b[0m\u001b[1;33m)\u001b[0m\u001b[1;33m\u001b[0m\u001b[0m\n\u001b[0;32m      2\u001b[0m \u001b[1;32mprint\u001b[0m \u001b[0mgetRatios\u001b[0m\u001b[1;33m(\u001b[0m\u001b[1;33m[\u001b[0m\u001b[1;36m1\u001b[0m\u001b[1;33m,\u001b[0m\u001b[1;36m2\u001b[0m\u001b[1;33m,\u001b[0m\u001b[1;36m3\u001b[0m\u001b[1;33m,\u001b[0m\u001b[1;36m4\u001b[0m\u001b[1;33m]\u001b[0m\u001b[1;33m,\u001b[0m\u001b[1;33m[\u001b[0m\u001b[1;36m0\u001b[0m\u001b[1;33m,\u001b[0m\u001b[1;36m3\u001b[0m\u001b[1;33m,\u001b[0m\u001b[1;36m9\u001b[0m\u001b[1;33m,\u001b[0m\u001b[1;36m8\u001b[0m\u001b[1;33m]\u001b[0m\u001b[1;33m)\u001b[0m\u001b[1;33m\u001b[0m\u001b[0m\n\u001b[1;32m----> 3\u001b[1;33m \u001b[1;32mprint\u001b[0m \u001b[0mgetRatios\u001b[0m\u001b[1;33m(\u001b[0m\u001b[1;33m[\u001b[0m\u001b[1;36m1\u001b[0m\u001b[1;33m,\u001b[0m\u001b[1;36m2\u001b[0m\u001b[1;33m,\u001b[0m\u001b[1;36m3\u001b[0m\u001b[1;33m,\u001b[0m\u001b[1;36m4\u001b[0m\u001b[1;33m]\u001b[0m\u001b[1;33m,\u001b[0m\u001b[1;33m[\u001b[0m\u001b[1;36m0\u001b[0m\u001b[1;33m,\u001b[0m\u001b[1;36m3\u001b[0m\u001b[1;33m,\u001b[0m\u001b[1;36m9\u001b[0m\u001b[1;33m]\u001b[0m\u001b[1;33m)\u001b[0m\u001b[1;33m\u001b[0m\u001b[0m\n\u001b[0m",
      "\u001b[1;32m<ipython-input-23-fc833f4e3d90>\u001b[0m in \u001b[0;36mgetRatios\u001b[1;34m(vect1, vect2)\u001b[0m\n\u001b[0;32m     10\u001b[0m             \u001b[0mratios\u001b[0m\u001b[1;33m.\u001b[0m\u001b[0mappend\u001b[0m\u001b[1;33m(\u001b[0m\u001b[0mfloat\u001b[0m\u001b[1;33m(\u001b[0m\u001b[1;34m'nan'\u001b[0m\u001b[1;33m)\u001b[0m\u001b[1;33m)\u001b[0m \u001b[1;31m#nan = Not a Number\u001b[0m\u001b[1;33m\u001b[0m\u001b[0m\n\u001b[0;32m     11\u001b[0m         \u001b[1;32mexcept\u001b[0m\u001b[1;33m:\u001b[0m\u001b[1;33m\u001b[0m\u001b[0m\n\u001b[1;32m---> 12\u001b[1;33m             \u001b[1;32mraise\u001b[0m \u001b[0mValueError\u001b[0m\u001b[1;33m(\u001b[0m\u001b[1;34m'getRatios called with bad arguments'\u001b[0m\u001b[1;33m)\u001b[0m\u001b[1;33m\u001b[0m\u001b[0m\n\u001b[0m\u001b[0;32m     13\u001b[0m     \u001b[1;32mreturn\u001b[0m \u001b[0mratios\u001b[0m\u001b[1;33m\u001b[0m\u001b[0m\n",
      "\u001b[1;31mValueError\u001b[0m: getRatios called with bad arguments"
     ]
    }
   ],
   "source": [
    "print getRatios([1,2,3,4],[1,3,9,8])\n",
    "print getRatios([1,2,3,4],[0,3,9,8])\n",
    "print getRatios([1,2,3,4],[0,3,9])"
   ]
  },
  {
   "cell_type": "markdown",
   "metadata": {},
   "source": [
    "Em certas situações, a situação pode ser tão grave que a própria função não é capaz de resolver o problema. Nesse caso, ela pode levantar uma excepção que será tratada, eventualmente, pela função que a invocou. Para levantar uma excepção:\n",
    "    <pre><code>raise exceptionName(arguments)</code></pre>"
   ]
  },
  {
   "cell_type": "markdown",
   "metadata": {
    "collapsed": true
   },
   "source": [
    "## Asserções"
   ]
  },
  {
   "cell_type": "markdown",
   "metadata": {},
   "source": [
    "As asserções são usadas para verificar, num dado momento, se parte do estado do programa continua válido. As asserções devem ser usadas apenas em situações onde não é possível recuperar o programa. A instrução Python correspondente é <code>assert</code>.\n",
    "\n",
    "As excepções promovem código mais **robusto**, ie, lidam com situações onde o estado do programa pode ser recuperado. \n",
    "\n",
    "As asserções lidam com **problemas irrecuperáveis**, onde a execução deve terminar o mais cedo possível."
   ]
  },
  {
   "cell_type": "code",
   "execution_count": 25,
   "metadata": {
    "collapsed": false
   },
   "outputs": [
    {
     "name": "stdout",
     "output_type": "stream",
     "text": [
      "0\n"
     ]
    },
    {
     "ename": "AssertionError",
     "evalue": "denominator is zero!",
     "output_type": "error",
     "traceback": [
      "\u001b[1;31m---------------------------------------------------------------------------\u001b[0m",
      "\u001b[1;31mAssertionError\u001b[0m                            Traceback (most recent call last)",
      "\u001b[1;32m<ipython-input-25-fc25f9467d15>\u001b[0m in \u001b[0;36m<module>\u001b[1;34m()\u001b[0m\n\u001b[0;32m      5\u001b[0m \u001b[1;33m\u001b[0m\u001b[0m\n\u001b[0;32m      6\u001b[0m \u001b[0mb\u001b[0m \u001b[1;33m=\u001b[0m \u001b[1;36m0\u001b[0m\u001b[1;33m\u001b[0m\u001b[0m\n\u001b[1;32m----> 7\u001b[1;33m \u001b[1;32massert\u001b[0m \u001b[0mb\u001b[0m \u001b[1;33m!=\u001b[0m \u001b[1;36m0\u001b[0m\u001b[1;33m,\u001b[0m \u001b[1;34m\"denominator is zero!\"\u001b[0m\u001b[1;33m\u001b[0m\u001b[0m\n\u001b[0m\u001b[0;32m      8\u001b[0m \u001b[1;32mprint\u001b[0m \u001b[0ma\u001b[0m\u001b[1;33m/\u001b[0m\u001b[0mb\u001b[0m\u001b[1;33m\u001b[0m\u001b[0m\n",
      "\u001b[1;31mAssertionError\u001b[0m: denominator is zero!"
     ]
    }
   ],
   "source": [
    "a = 0\n",
    "b = 1\n",
    "assert b != 0, \"denominator is zero!\"\n",
    "print a/b\n",
    "\n",
    "b = 0\n",
    "assert b != 0, \"denominator is zero!\"\n",
    "print a/b"
   ]
  },
  {
   "cell_type": "markdown",
   "metadata": {},
   "source": [
    "<a id='problems'></a>\n",
    "## Folha 10\n"
   ]
  },
  {
   "cell_type": "markdown",
   "metadata": {},
   "source": [
    "1) Escreva uma função que receba por parâmetro um iterável e que determine o\n",
    "elemento que se repete mais vezes. A função deve devolver um par contendo o\n",
    "elemento mais frequente e o número de vezes que ele se repete. Para tal utilize\n",
    "um dicionário para contar as ocorrências dos vários elementos e depois\n",
    "determinar o maior."
   ]
  },
  {
   "cell_type": "code",
   "execution_count": 26,
   "metadata": {
    "collapsed": true
   },
   "outputs": [],
   "source": [
    "def repeteMais(sequencia):\n",
    "    dic = {}\n",
    "    \n",
    "    # fill dictionary\n",
    "    for elemento in sequencia:\n",
    "        if elemento in dic.keys():\n",
    "            dic[elemento] += 1\n",
    "        else:\n",
    "            dic[elemento] = 0\n",
    "    \n",
    "    # The optional key argument of max() specifies a one-argument ordering function\n",
    "    # eg: max([1,-2], key=lambda x: x**2) returns -2\n",
    "    # The method dict.get() returns a value for the given key\n",
    "    maxKey = max(dic, key=dic.get)\n",
    "\n",
    "    return (maxKey, dic[maxKey])"
   ]
  },
  {
   "cell_type": "code",
   "execution_count": 27,
   "metadata": {
    "collapsed": false
   },
   "outputs": [
    {
     "name": "stdout",
     "output_type": "stream",
     "text": [
      "('b', 15)\n"
     ]
    }
   ],
   "source": [
    "print repeteMais(\"abcbdbebdbabcbabdbcbbebababcbab\")"
   ]
  },
  {
   "cell_type": "markdown",
   "metadata": {},
   "source": [
    "4) Implemente uma função encontra que recebe um iterável e um elemento e\n",
    "devolva um tuplo com as posições em que se encontra o elemento. Caso o\n",
    "elemento não exista, deve ser lançada a exceção KeyError com uma mensagem\n",
    "de texto adequada."
   ]
  },
  {
   "cell_type": "code",
   "execution_count": 28,
   "metadata": {
    "collapsed": false
   },
   "outputs": [],
   "source": [
    "def encontra(sequencia, elemento):\n",
    "    \n",
    "    if elemento not in sequencia:\n",
    "        raise KeyError, \"elemento inexistente\"\n",
    "        \n",
    "    i, result = 0, ()\n",
    "    for valor in sequencia:\n",
    "        if valor == elemento:\n",
    "            result += (i,)\n",
    "        i += 1\n",
    "        \n",
    "    return result"
   ]
  },
  {
   "cell_type": "code",
   "execution_count": 29,
   "metadata": {
    "collapsed": false
   },
   "outputs": [
    {
     "name": "stdout",
     "output_type": "stream",
     "text": [
      "(0, 3, 6, 8)\n"
     ]
    },
    {
     "ename": "KeyError",
     "evalue": "'elemento inexistente'",
     "output_type": "error",
     "traceback": [
      "\u001b[1;31m---------------------------------------------------------------------------\u001b[0m",
      "\u001b[1;31mKeyError\u001b[0m                                  Traceback (most recent call last)",
      "\u001b[1;32m<ipython-input-29-b6a7ae622ba1>\u001b[0m in \u001b[0;36m<module>\u001b[1;34m()\u001b[0m\n\u001b[0;32m      1\u001b[0m \u001b[1;32mprint\u001b[0m \u001b[0mencontra\u001b[0m\u001b[1;33m(\u001b[0m\u001b[1;33m[\u001b[0m\u001b[1;36m1\u001b[0m\u001b[1;33m,\u001b[0m\u001b[1;36m2\u001b[0m\u001b[1;33m,\u001b[0m\u001b[1;36m3\u001b[0m\u001b[1;33m,\u001b[0m\u001b[1;36m1\u001b[0m\u001b[1;33m,\u001b[0m\u001b[1;36m3\u001b[0m\u001b[1;33m,\u001b[0m\u001b[1;36m2\u001b[0m\u001b[1;33m,\u001b[0m\u001b[1;36m1\u001b[0m\u001b[1;33m,\u001b[0m\u001b[1;36m3\u001b[0m\u001b[1;33m,\u001b[0m\u001b[1;36m1\u001b[0m\u001b[1;33m]\u001b[0m\u001b[1;33m,\u001b[0m\u001b[1;36m1\u001b[0m\u001b[1;33m)\u001b[0m\u001b[1;33m\u001b[0m\u001b[0m\n\u001b[1;32m----> 2\u001b[1;33m \u001b[1;32mprint\u001b[0m \u001b[0mencontra\u001b[0m\u001b[1;33m(\u001b[0m\u001b[1;33m[\u001b[0m\u001b[1;36m1\u001b[0m\u001b[1;33m,\u001b[0m\u001b[1;36m2\u001b[0m\u001b[1;33m,\u001b[0m\u001b[1;36m3\u001b[0m\u001b[1;33m,\u001b[0m\u001b[1;36m1\u001b[0m\u001b[1;33m,\u001b[0m\u001b[1;36m3\u001b[0m\u001b[1;33m,\u001b[0m\u001b[1;36m2\u001b[0m\u001b[1;33m,\u001b[0m\u001b[1;36m1\u001b[0m\u001b[1;33m,\u001b[0m\u001b[1;36m3\u001b[0m\u001b[1;33m,\u001b[0m\u001b[1;36m1\u001b[0m\u001b[1;33m]\u001b[0m\u001b[1;33m,\u001b[0m\u001b[1;36m4\u001b[0m\u001b[1;33m)\u001b[0m\u001b[1;33m\u001b[0m\u001b[0m\n\u001b[0m",
      "\u001b[1;32m<ipython-input-28-3447dc585a88>\u001b[0m in \u001b[0;36mencontra\u001b[1;34m(sequencia, elemento)\u001b[0m\n\u001b[0;32m      2\u001b[0m \u001b[1;33m\u001b[0m\u001b[0m\n\u001b[0;32m      3\u001b[0m     \u001b[1;32mif\u001b[0m \u001b[0melemento\u001b[0m \u001b[1;32mnot\u001b[0m \u001b[1;32min\u001b[0m \u001b[0msequencia\u001b[0m\u001b[1;33m:\u001b[0m\u001b[1;33m\u001b[0m\u001b[0m\n\u001b[1;32m----> 4\u001b[1;33m         \u001b[1;32mraise\u001b[0m \u001b[0mKeyError\u001b[0m\u001b[1;33m,\u001b[0m \u001b[1;34m\"elemento inexistente\"\u001b[0m\u001b[1;33m\u001b[0m\u001b[0m\n\u001b[0m\u001b[0;32m      5\u001b[0m \u001b[1;33m\u001b[0m\u001b[0m\n\u001b[0;32m      6\u001b[0m     \u001b[0mi\u001b[0m\u001b[1;33m,\u001b[0m \u001b[0mresult\u001b[0m \u001b[1;33m=\u001b[0m \u001b[1;36m0\u001b[0m\u001b[1;33m,\u001b[0m \u001b[1;33m(\u001b[0m\u001b[1;33m)\u001b[0m\u001b[1;33m\u001b[0m\u001b[0m\n",
      "\u001b[1;31mKeyError\u001b[0m: 'elemento inexistente'"
     ]
    }
   ],
   "source": [
    "print encontra([1,2,3,1,3,2,1,3,1],1)\n",
    "print encontra([1,2,3,1,3,2,1,3,1],4)"
   ]
  },
  {
   "cell_type": "markdown",
   "metadata": {},
   "source": [
    "5) Escreva uma função ler_inteiro que lê, garantidamente, um inteiro do\n",
    "utilizador. A função deve pedir a informação ao utilizador até que seja fornecido\n",
    "um número inteiro. Faça um programa que teste convenientemente a função\n",
    "desenvolvida."
   ]
  },
  {
   "cell_type": "code",
   "execution_count": 30,
   "metadata": {
    "collapsed": false
   },
   "outputs": [],
   "source": [
    "def lerInteiro():\n",
    "    valid = False\n",
    "    while not valid:\n",
    "        val = raw_input('Enter an integer: ')\n",
    "        try:\n",
    "            val = int(val)\n",
    "            valid = True\n",
    "        except ValueError:\n",
    "            print val, 'is not an integer, try again:'\n",
    "    return val"
   ]
  },
  {
   "cell_type": "code",
   "execution_count": 31,
   "metadata": {
    "collapsed": false
   },
   "outputs": [
    {
     "name": "stdout",
     "output_type": "stream",
     "text": [
      "Enter an integer: 12\n",
      "12\n"
     ]
    }
   ],
   "source": [
    "a = lerInteiro()\n",
    "print a"
   ]
  },
  {
   "cell_type": "markdown",
   "metadata": {},
   "source": [
    "7) Escreva uma função que recebe um dicionário e devolve outro dicionário com a\n",
    "relação inversa, ou seja, para cada par chave:valor do dicionário recebido por\n",
    "parâmetro, o dicionário resultado deve conter uma entrada valor:chave. Caso a\n",
    "relação não tenha inversa, ou seja, quando existem várias chaves associadas ao\n",
    "mesmo valor no dicionário recebido, a função deve lançadar uma exceção\n",
    "ValueError com uma mensagem conveniente. Elabore um programa que teste a\n",
    "sua função para os diversos casos."
   ]
  },
  {
   "cell_type": "code",
   "execution_count": 32,
   "metadata": {
    "collapsed": false
   },
   "outputs": [],
   "source": [
    "def mirrorDict(dic):\n",
    "    \n",
    "    # casting to set removes duplicates\n",
    "    if len(dic.values()) != len(set(dic.values())):\n",
    "        raise ValueError, \"not valid due to duplicate values (non-injective mapping)\"\n",
    "        \n",
    "    return {v:k for k,v in dic.items()}"
   ]
  },
  {
   "cell_type": "code",
   "execution_count": 33,
   "metadata": {
    "collapsed": false
   },
   "outputs": [
    {
     "name": "stdout",
     "output_type": "stream",
     "text": [
      "{40: 'b', 1: 'a'}\n"
     ]
    },
    {
     "ename": "ValueError",
     "evalue": "not valid due to duplicate values (non-injective mapping)",
     "output_type": "error",
     "traceback": [
      "\u001b[1;31m---------------------------------------------------------------------------\u001b[0m",
      "\u001b[1;31mValueError\u001b[0m                                Traceback (most recent call last)",
      "\u001b[1;32m<ipython-input-33-146536ecce80>\u001b[0m in \u001b[0;36m<module>\u001b[1;34m()\u001b[0m\n\u001b[0;32m      1\u001b[0m \u001b[1;32mprint\u001b[0m \u001b[0mmirrorDict\u001b[0m\u001b[1;33m(\u001b[0m\u001b[1;33m{\u001b[0m\u001b[1;34m'a'\u001b[0m\u001b[1;33m:\u001b[0m\u001b[1;36m1\u001b[0m\u001b[1;33m,\u001b[0m \u001b[1;34m'b'\u001b[0m\u001b[1;33m:\u001b[0m\u001b[1;36m40\u001b[0m\u001b[1;33m}\u001b[0m\u001b[1;33m)\u001b[0m\u001b[1;33m\u001b[0m\u001b[0m\n\u001b[1;32m----> 2\u001b[1;33m \u001b[1;32mprint\u001b[0m \u001b[0mmirrorDict\u001b[0m\u001b[1;33m(\u001b[0m\u001b[1;33m{\u001b[0m\u001b[1;34m'a'\u001b[0m\u001b[1;33m:\u001b[0m\u001b[1;36m1\u001b[0m\u001b[1;33m,\u001b[0m \u001b[1;34m'b'\u001b[0m\u001b[1;33m:\u001b[0m\u001b[1;36m1\u001b[0m\u001b[1;33m}\u001b[0m\u001b[1;33m)\u001b[0m\u001b[1;33m\u001b[0m\u001b[0m\n\u001b[0m",
      "\u001b[1;32m<ipython-input-32-ac1fd64e7853>\u001b[0m in \u001b[0;36mmirrorDict\u001b[1;34m(dic)\u001b[0m\n\u001b[0;32m      3\u001b[0m     \u001b[1;31m# casting to set removes duplicates\u001b[0m\u001b[1;33m\u001b[0m\u001b[1;33m\u001b[0m\u001b[0m\n\u001b[0;32m      4\u001b[0m     \u001b[1;32mif\u001b[0m \u001b[0mlen\u001b[0m\u001b[1;33m(\u001b[0m\u001b[0mdic\u001b[0m\u001b[1;33m.\u001b[0m\u001b[0mvalues\u001b[0m\u001b[1;33m(\u001b[0m\u001b[1;33m)\u001b[0m\u001b[1;33m)\u001b[0m \u001b[1;33m!=\u001b[0m \u001b[0mlen\u001b[0m\u001b[1;33m(\u001b[0m\u001b[0mset\u001b[0m\u001b[1;33m(\u001b[0m\u001b[0mdic\u001b[0m\u001b[1;33m.\u001b[0m\u001b[0mvalues\u001b[0m\u001b[1;33m(\u001b[0m\u001b[1;33m)\u001b[0m\u001b[1;33m)\u001b[0m\u001b[1;33m)\u001b[0m\u001b[1;33m:\u001b[0m\u001b[1;33m\u001b[0m\u001b[0m\n\u001b[1;32m----> 5\u001b[1;33m         \u001b[1;32mraise\u001b[0m \u001b[0mValueError\u001b[0m\u001b[1;33m,\u001b[0m \u001b[1;34m\"not valid due to duplicate values (non-injective mapping)\"\u001b[0m\u001b[1;33m\u001b[0m\u001b[0m\n\u001b[0m\u001b[0;32m      6\u001b[0m \u001b[1;33m\u001b[0m\u001b[0m\n\u001b[0;32m      7\u001b[0m     \u001b[1;32mreturn\u001b[0m \u001b[1;33m{\u001b[0m\u001b[0mv\u001b[0m\u001b[1;33m:\u001b[0m\u001b[0mk\u001b[0m \u001b[1;32mfor\u001b[0m \u001b[0mk\u001b[0m\u001b[1;33m,\u001b[0m\u001b[0mv\u001b[0m \u001b[1;32min\u001b[0m \u001b[0mdic\u001b[0m\u001b[1;33m.\u001b[0m\u001b[0mitems\u001b[0m\u001b[1;33m(\u001b[0m\u001b[1;33m)\u001b[0m\u001b[1;33m}\u001b[0m\u001b[1;33m\u001b[0m\u001b[0m\n",
      "\u001b[1;31mValueError\u001b[0m: not valid due to duplicate values (non-injective mapping)"
     ]
    }
   ],
   "source": [
    "print mirrorDict({'a':1, 'b':40})\n",
    "print mirrorDict({'a':1, 'b':1})"
   ]
  },
  {
   "cell_type": "markdown",
   "metadata": {},
   "source": [
    "8) Escreva uma função media que recebe um tuplo de números pares e devolve a sua média.\n",
    "\n",
    " a. Escreva a docstring com o contrato da função;\n",
    "    \n",
    " b. Tente escrever comandos assert que traduzem os contratos escritos em texto;"
   ]
  },
  {
   "cell_type": "code",
   "execution_count": 34,
   "metadata": {
    "collapsed": false
   },
   "outputs": [],
   "source": [
    "def media(data):\n",
    "    \"\"\"\n",
    "    Requires: a tuple with two even integers\n",
    "    Ensures:  an integer with the mean of the two input values\n",
    "    \"\"\"\n",
    "    \n",
    "    assert type(data) == tuple, \"input is not a tuple\"\n",
    "    assert len(data)  == 2,     \"tuple is not a pair\"\n",
    "    assert data[0] % 2 == 0,    \"first number is not even\"\n",
    "    assert data[1] % 2 == 0,    \"second number is not even\"\n",
    "    \n",
    "    result = (data[0]+data[1])/2\n",
    "    \n",
    "    assert result == sum(data)/2, \"mean calculation error\"\n",
    "    \n",
    "    return result"
   ]
  },
  {
   "cell_type": "code",
   "execution_count": 35,
   "metadata": {
    "collapsed": false
   },
   "outputs": [
    {
     "data": {
      "text/plain": [
       "6"
      ]
     },
     "execution_count": 35,
     "metadata": {},
     "output_type": "execute_result"
    }
   ],
   "source": [
    "media((10,2))"
   ]
  },
  {
   "cell_type": "markdown",
   "metadata": {},
   "source": [
    "\n",
    " c. Defina uma função que verifique se um tuplo é constituído só por números pares;\n",
    "\n",
    " d. Escreva outra função que some os elementos de um tuplo;\n",
    " \n",
    " e. Rescreva a função media usando as funções definidas na alínea c) e d);\n",
    " \n",
    " f. Escreva agora os comandos assert que traduzem os contratos da função media;"
   ]
  },
  {
   "cell_type": "code",
   "execution_count": 36,
   "metadata": {
    "collapsed": false
   },
   "outputs": [],
   "source": [
    "def evenPair(data):\n",
    "    return data[0]%2 == 0 and data[1]%2 == 0\n",
    "\n",
    "def addPair(data):\n",
    "    return data[0] + data[1]\n",
    "\n",
    "def media(data):\n",
    "    \"\"\"\n",
    "    Requires: a tuple with two even integers\n",
    "    Ensures:  an integer with the mean of the two input values\n",
    "    \"\"\"\n",
    "    \n",
    "    assert type(data) == tuple, \"input is not a tuple\"\n",
    "    assert len(data)  == 2,     \"tuple is not a pair\"\n",
    "    assert evenPair(data),      \"not all numbers are even\"\n",
    "\n",
    "    result = addPair(data)/2\n",
    "    \n",
    "    assert result == sum(data)/2, \"mean calculation error\"\n",
    "    \n",
    "    return result"
   ]
  },
  {
   "cell_type": "code",
   "execution_count": 37,
   "metadata": {
    "collapsed": false
   },
   "outputs": [
    {
     "data": {
      "text/plain": [
       "-4"
      ]
     },
     "execution_count": 37,
     "metadata": {},
     "output_type": "execute_result"
    }
   ],
   "source": [
    "media((-10,2))"
   ]
  },
  {
   "cell_type": "markdown",
   "metadata": {},
   "source": [
    " g. Faça um programa que teste de forma conveniente as funções desenvolvidas, em particular, inclua casos que testem o funcionamento correto e a falha das pré-condições."
   ]
  },
  {
   "cell_type": "code",
   "execution_count": 38,
   "metadata": {
    "collapsed": false
   },
   "outputs": [
    {
     "name": "stdout",
     "output_type": "stream",
     "text": [
      "**********************************************************************\n",
      "File \"__main__\", line 27, in __main__.media\n",
      "Failed example:\n",
      "    media((1,2))\n",
      "Expected:\n",
      "    Traceback (most recent call last):\n",
      "    ...\n",
      "    AssertionError: not all number are even\n",
      "Got:\n",
      "    Traceback (most recent call last):\n",
      "      File \"C:\\Users\\jpn.INFORMATICA\\Software\\_Langs\\WinPython-64bit-2.7.10.1\\python-2.7.10.amd64\\lib\\doctest.py\", line 1315, in __run\n",
      "        compileflags, 1) in test.globs\n",
      "      File \"<doctest __main__.media[5]>\", line 1, in <module>\n",
      "        media((1,2))\n",
      "      File \"<ipython-input-38-6f6ccee99b13>\", line 40, in media\n",
      "        assert evenPair(data),      \"not all numbers are even\"\n",
      "    AssertionError: not all numbers are even\n",
      "**********************************************************************\n",
      "1 items had failures:\n",
      "   1 of   7 in __main__.media\n",
      "***Test Failed*** 1 failures.\n"
     ]
    },
    {
     "data": {
      "text/plain": [
       "TestResults(failed=1, attempted=7)"
      ]
     },
     "execution_count": 38,
     "metadata": {},
     "output_type": "execute_result"
    }
   ],
   "source": [
    "import doctest\n",
    "\n",
    "def media(data):\n",
    "    \"\"\"\n",
    "    Requires: a tuple with two even integers\n",
    "    Ensures:  an integer with the mean of the two input values\n",
    "    \n",
    "    >>> media((0,4))\n",
    "    2\n",
    "    \n",
    "    >>> media((-2,2))\n",
    "    0\n",
    "    \n",
    "    >>> media((2,2))\n",
    "    2\n",
    "    \n",
    "    >>> media(1)\n",
    "    Traceback (most recent call last):\n",
    "    ...\n",
    "    AssertionError: input is not a tuple\n",
    "\n",
    "    >>> media((1,))\n",
    "    Traceback (most recent call last):\n",
    "    ...\n",
    "    AssertionError: tuple is not a pair\n",
    "\n",
    "    >>> media((1,2))\n",
    "    Traceback (most recent call last):\n",
    "    ...\n",
    "    AssertionError: not all number are even\n",
    "\n",
    "    >>> media((10,21))\n",
    "    Traceback (most recent call last):\n",
    "    ...\n",
    "    AssertionError: not all numbers are even\n",
    "    \"\"\"\n",
    "    \n",
    "    assert type(data) == tuple, \"input is not a tuple\"\n",
    "    assert len(data)  == 2,     \"tuple is not a pair\"\n",
    "    assert evenPair(data),      \"not all numbers are even\"\n",
    "\n",
    "    result = addPair(data)/2\n",
    "    \n",
    "    assert result == sum(data)/2, \"mean calculation error\"\n",
    "    \n",
    "    return result\n",
    "\n",
    "doctest.testmod()"
   ]
  },
  {
   "cell_type": "markdown",
   "metadata": {},
   "source": [
    " h. Introduza um erro na função soma de forma a fazer falhar a pós-condição da função media."
   ]
  },
  {
   "cell_type": "code",
   "execution_count": 39,
   "metadata": {
    "collapsed": false
   },
   "outputs": [],
   "source": [
    "def evenPair(data):\n",
    "    return data[0]%2 == 0 and data[1]%2 == 0\n",
    "\n",
    "def addPair(data):\n",
    "    return data[0] + data[1] + 2\n",
    "\n",
    "def media(data):\n",
    "    \"\"\"\n",
    "    Requires: a tuple with two even integers\n",
    "    Ensures:  an integer with the mean of the two input values\n",
    "    \"\"\"\n",
    "    \n",
    "    assert type(data) == tuple, \"input is not a tuple\"\n",
    "    assert len(data)  == 2,     \"tuple is not a pair\"\n",
    "    assert evenPair(data),      \"not all numbers are even\"\n",
    "\n",
    "    result = addPair(data)/2\n",
    "    \n",
    "    assert result == sum(data)/2, \"mean calculation error\"\n",
    "    \n",
    "    return result"
   ]
  },
  {
   "cell_type": "code",
   "execution_count": 40,
   "metadata": {
    "collapsed": false
   },
   "outputs": [
    {
     "ename": "AssertionError",
     "evalue": "mean calculation error",
     "output_type": "error",
     "traceback": [
      "\u001b[1;31m---------------------------------------------------------------------------\u001b[0m",
      "\u001b[1;31mAssertionError\u001b[0m                            Traceback (most recent call last)",
      "\u001b[1;32m<ipython-input-40-4d35ccd94b9f>\u001b[0m in \u001b[0;36m<module>\u001b[1;34m()\u001b[0m\n\u001b[1;32m----> 1\u001b[1;33m \u001b[0mmedia\u001b[0m\u001b[1;33m(\u001b[0m\u001b[1;33m(\u001b[0m\u001b[1;33m-\u001b[0m\u001b[1;36m10\u001b[0m\u001b[1;33m,\u001b[0m\u001b[1;36m2\u001b[0m\u001b[1;33m)\u001b[0m\u001b[1;33m)\u001b[0m\u001b[1;33m\u001b[0m\u001b[0m\n\u001b[0m",
      "\u001b[1;32m<ipython-input-39-0235227374b3>\u001b[0m in \u001b[0;36mmedia\u001b[1;34m(data)\u001b[0m\n\u001b[0;32m     17\u001b[0m     \u001b[0mresult\u001b[0m \u001b[1;33m=\u001b[0m \u001b[0maddPair\u001b[0m\u001b[1;33m(\u001b[0m\u001b[0mdata\u001b[0m\u001b[1;33m)\u001b[0m\u001b[1;33m/\u001b[0m\u001b[1;36m2\u001b[0m\u001b[1;33m\u001b[0m\u001b[0m\n\u001b[0;32m     18\u001b[0m \u001b[1;33m\u001b[0m\u001b[0m\n\u001b[1;32m---> 19\u001b[1;33m     \u001b[1;32massert\u001b[0m \u001b[0mresult\u001b[0m \u001b[1;33m==\u001b[0m \u001b[0msum\u001b[0m\u001b[1;33m(\u001b[0m\u001b[0mdata\u001b[0m\u001b[1;33m)\u001b[0m\u001b[1;33m/\u001b[0m\u001b[1;36m2\u001b[0m\u001b[1;33m,\u001b[0m \u001b[1;34m\"mean calculation error\"\u001b[0m\u001b[1;33m\u001b[0m\u001b[0m\n\u001b[0m\u001b[0;32m     20\u001b[0m \u001b[1;33m\u001b[0m\u001b[0m\n\u001b[0;32m     21\u001b[0m     \u001b[1;32mreturn\u001b[0m \u001b[0mresult\u001b[0m\u001b[1;33m\u001b[0m\u001b[0m\n",
      "\u001b[1;31mAssertionError\u001b[0m: mean calculation error"
     ]
    }
   ],
   "source": [
    "media((-10,2))"
   ]
  }
 ],
 "metadata": {
  "kernelspec": {
   "display_name": "Python 2",
   "language": "python",
   "name": "python2"
  },
  "language_info": {
   "codemirror_mode": {
    "name": "ipython",
    "version": 2
   },
   "file_extension": ".py",
   "mimetype": "text/x-python",
   "name": "python",
   "nbconvert_exporter": "python",
   "pygments_lexer": "ipython2",
   "version": "2.7.10"
  }
 },
 "nbformat": 4,
 "nbformat_minor": 0
}
