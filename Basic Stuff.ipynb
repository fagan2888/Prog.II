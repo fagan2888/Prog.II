{
 "cells": [
  {
   "cell_type": "markdown",
   "metadata": {},
   "source": [
    "### Revision exercises"
   ]
  },
  {
   "cell_type": "markdown",
   "metadata": {},
   "source": [
    "Escreva um programa que some os primeiros números ímpares positivos até antes da soma chegar aos 1000."
   ]
  },
  {
   "cell_type": "code",
   "execution_count": 10,
   "metadata": {
    "collapsed": false
   },
   "outputs": [
    {
     "name": "stdout",
     "output_type": "stream",
     "text": [
      "961 961 961\n"
     ]
    }
   ],
   "source": [
    "# First solution with break:\n",
    "i, mySum = 1, 0  # multiple assignment is possible\n",
    "while True:\n",
    "    if mySum+i >= 1000:\n",
    "        break\n",
    "    mySum += i\n",
    "    i += 2\n",
    "print mySum,\n",
    "\n",
    "# however, using break is considered bad practice\n",
    "# we can always replace it by making the while's guard stronger\n",
    "\n",
    "i, mySum, reached1k = 1, 0, False\n",
    "while not reached1k:\n",
    "    if mySum+i >= 1000:\n",
    "        reached1k = True\n",
    "    else:\n",
    "        mySum += i\n",
    "        i += 2\n",
    "print mySum,\n",
    "\n",
    "# in this case, we can also use i and mySum to replace the flag\n",
    "\n",
    "i, mySum = 1, 0\n",
    "while mySum+i < 1000:\n",
    "    mySum += i\n",
    "    i += 2\n",
    "print mySum"
   ]
  },
  {
   "cell_type": "markdown",
   "metadata": {},
   "source": [
    "Escreva um programa em Python que que peça ao utilizador um número inteiro\n",
    "_n_ e escreva no ecrã se _n_ é ou não um cubo perfeito."
   ]
  },
  {
   "cell_type": "code",
   "execution_count": 5,
   "metadata": {
    "collapsed": false
   },
   "outputs": [
    {
     "name": "stdout",
     "output_type": "stream",
     "text": [
      "Enter an integer: -1\n",
      "-1 is a perfect cube\n"
     ]
    }
   ],
   "source": [
    "n = int(raw_input('Enter an integer: ')) \n",
    "\n",
    "i, stop = 0, False\n",
    "while not stop:\n",
    "    if abs(n) == i**3:                      # if -x is a perfect cube, so is x\n",
    "        print str(n), \"is a perfect cube\"\n",
    "        stop = True\n",
    "    elif abs(n) < i**3:\n",
    "        print str(n), \"is not a perfect cube\"\n",
    "        stop = True\n",
    "    i += 1"
   ]
  },
  {
   "cell_type": "markdown",
   "metadata": {},
   "source": [
    "Testar o passo disponível na função range:"
   ]
  },
  {
   "cell_type": "code",
   "execution_count": 6,
   "metadata": {
    "collapsed": false
   },
   "outputs": [
    {
     "name": "stdout",
     "output_type": "stream",
     "text": [
      "0 4 8 12 16 20 24 28 32 36 40 44 48\n",
      "0 4 8 12 16 20 24 28 32 36 40 44 48\n"
     ]
    }
   ],
   "source": [
    "for i in range (50):\n",
    "    if i % 4 == 0:\n",
    "        print i,\n",
    "print\n",
    "for i in range (0,50,4):\n",
    "    print i,"
   ]
  },
  {
   "cell_type": "markdown",
   "metadata": {},
   "source": [
    "Escreva um programa em Python que peça ao utilizador um número inteiro k\n",
    "maior do que 10 e escreva no ecrã as capícuas que existem entre 10 e k. Uma\n",
    "capícua é um número que se lê de igual forma da esquerda para a direita e da\n",
    "direita para a esquerda. Por exemplo, entre 10 e 100 existem 9 capícuas."
   ]
  },
  {
   "cell_type": "code",
   "execution_count": 8,
   "metadata": {
    "collapsed": false
   },
   "outputs": [
    {
     "name": "stdout",
     "output_type": "stream",
     "text": [
      "Enter an integer > 10: 100\n",
      "11 22 33 44 55 66 77 88 99 \n",
      "11 22 33 44 55 66 77 88 99\n"
     ]
    }
   ],
   "source": [
    "n = int(raw_input('Enter an integer > 10: '))\n",
    "\n",
    "for i in range(10,n+1):\n",
    "    if str(i) == str(i)[::-1]:   # string[::-1] reverses string\n",
    "        print i,\n",
    "\n",
    "# or saving the result in a list:\n",
    "\n",
    "result = []        \n",
    "for i in range(10,n+1):\n",
    "    if str(i) == str(i)[::-1]:   # string[::-1] reverses string\n",
    "        result.append(i)\n",
    "        \n",
    "print \"\\n\", str(result)[1:-1].replace(',','')  # removing the commas, for prettier printing"
   ]
  },
  {
   "cell_type": "markdown",
   "metadata": {},
   "source": [
    "Escreva um programa com a função common_count(l1,l2), que recebe duas\n",
    "listas l1 e l2 e devolve quantos elementos têm em comum (as listas não têm\n",
    "elementos repetidos)."
   ]
  },
  {
   "cell_type": "code",
   "execution_count": 8,
   "metadata": {
    "collapsed": false
   },
   "outputs": [],
   "source": [
    "def common_count(l1,l2):\n",
    "    commons = 0\n",
    "    for elem in l1:\n",
    "        if elem in l2:\n",
    "            commons += 1\n",
    "    return commons"
   ]
  },
  {
   "cell_type": "code",
   "execution_count": 9,
   "metadata": {
    "collapsed": false,
    "scrolled": true
   },
   "outputs": [
    {
     "name": "stdout",
     "output_type": "stream",
     "text": [
      "[1, 2, 3, 4, 5, 6, 7, 8, 9] \n",
      "            [5, 6, 7, 8, 9, 10, 11, 12, 13, 14] \n",
      "5\n"
     ]
    }
   ],
   "source": [
    "l1 = range(1,10)\n",
    "l2 = range(5,15)\n",
    "print l1, '\\n           ', l2, '\\n', common_count(l1,l2)"
   ]
  },
  {
   "cell_type": "markdown",
   "metadata": {},
   "source": [
    "Lottery to select _n_ numbers from a list _L_:"
   ]
  },
  {
   "cell_type": "code",
   "execution_count": 10,
   "metadata": {
    "collapsed": false
   },
   "outputs": [],
   "source": [
    "# eg:\n",
    "n = 10\n",
    "L = range(10)"
   ]
  },
  {
   "cell_type": "markdown",
   "metadata": {},
   "source": [
    "A naïve way is to select _n_ random indexes from _L_, however this means possible repetitions:"
   ]
  },
  {
   "cell_type": "code",
   "execution_count": 11,
   "metadata": {
    "collapsed": false
   },
   "outputs": [
    {
     "name": "stdout",
     "output_type": "stream",
     "text": [
      "[1, 2, 3, 3, 4, 5, 6, 6, 7, 9]\n"
     ]
    }
   ],
   "source": [
    "import random\n",
    "\n",
    "selected = []\n",
    "for i in range(n):  \n",
    "    index = int(len(L)*random.random())\n",
    "    selected.append(L[index])\n",
    "\n",
    "selected.sort()    \n",
    "print selected"
   ]
  },
  {
   "cell_type": "markdown",
   "metadata": {},
   "source": [
    "We need to select/sample without replacement. We can do this by removing the previous chosen elements. \n",
    "\n",
    "And let's place it under a function:"
   ]
  },
  {
   "cell_type": "code",
   "execution_count": 12,
   "metadata": {
    "collapsed": false
   },
   "outputs": [
    {
     "name": "stdout",
     "output_type": "stream",
     "text": [
      "[]\n",
      "[4]\n",
      "[4, 6]\n",
      "[2, 5, 7]\n",
      "[0, 2, 4, 7]\n",
      "[0, 1, 2, 3, 7]\n",
      "[1, 2, 3, 6, 8, 9]\n",
      "[0, 1, 2, 3, 4, 8, 9]\n",
      "[0, 1, 2, 3, 6, 7, 8, 9]\n",
      "[0, 1, 2, 3, 5, 6, 7, 8, 9]\n",
      "[0, 1, 2, 3, 4, 5, 6, 7, 8, 9]\n"
     ]
    }
   ],
   "source": [
    "def lottery(n, L):\n",
    "    selected = []\n",
    "    Lcopy = L[:]                            # make a clone to keep integrity of L\n",
    "    for i in range(n):  \n",
    "        index = int(len(Lcopy)*random.random())\n",
    "        selected.append(Lcopy[index])       # add chosen element to final result\n",
    "        Lcopy.pop(index)                    # remove element from list, also cf. 'del'\n",
    "    return selected\n",
    "\n",
    "for i in range(n+1):\n",
    "    selected = lottery(i,L)\n",
    "    selected.sort()\n",
    "    print selected"
   ]
  },
  {
   "cell_type": "markdown",
   "metadata": {},
   "source": [
    "So, let's apply the lottery for the next list:"
   ]
  },
  {
   "cell_type": "code",
   "execution_count": 13,
   "metadata": {
    "collapsed": false
   },
   "outputs": [
    {
     "name": "stdout",
     "output_type": "stream",
     "text": [
      "[40309, 45752, 48147, 48150, 48175, 48210, 48771]\n"
     ]
    }
   ],
   "source": [
    "n = 7\n",
    "L = [40309,42639,45128,45248,45752,46670,48145,48146,48147,48150,48153,48154,48158,\n",
    "     48166,48167,48168,48169,48174,48175,48177,48180,48184,48185,48195,48198,48201,\n",
    "     48202,48207,48208,48210,48771,48854]\n",
    "\n",
    "#n, L = 0, range(n) # remove this line to find the results at the right moment :-)\n",
    "\n",
    "selected = lottery(n,L)\n",
    "selected.sort()\n",
    "print selected"
   ]
  },
  {
   "cell_type": "markdown",
   "metadata": {},
   "source": [
    "### About Python Types"
   ]
  },
  {
   "cell_type": "markdown",
   "metadata": {},
   "source": [
    "Python has several atomic and container types. Atomic types are *int*, *long*, *float*, *complex* and *bool*. Container types are *list*, *str* (list of chars), *dict*(ionary), *tuple* and *sets*. Numbers, lists and dict are mutable types, while strings and tuples are immutable.\n",
    "\n",
    "From [https://docs.python.org/2/reference/datamodel.html](https://docs.python.org/2/reference/datamodel.html):\n",
    "\n",
    ">Objects are Python's abstraction for data. All data in a Python program is represented by objects or by relations between objects. (In a sense, and in conformance to Von Neumann's model of a “stored program computer,” code is also represented by objects.)\n",
    "\n",
    ">Every object has an identity, a type and a value. An object's identity never changes once it has been created; you may think of it as the object’s address in memory. The ‘is‘ operator compares the identity of two objects; the id() function returns an integer representing its identity (currently implemented as its address). An object’s type is also unchangeable. [1] An object’s type determines the operations that the object supports (e.g., “does it have a length?”) and also defines the possible values for objects of that type. The type() function returns an object’s type (which is an object itself). The value of some objects can change. Objects whose value can change are said to be mutable; objects whose value is unchangeable once they are created are called immutable. (The value of an immutable container object that contains a reference to a mutable object can change when the latter’s value is changed; however the container is still considered immutable, because the collection of objects it contains cannot be changed. So, immutability is not strictly the same as having an unchangeable value, it is more subtle.) An object’s mutability is determined by its type; for instance, numbers, strings and tuples are immutable, while dictionaries and lists are mutable.\n",
    "\n",
    ">Objects are never explicitly destroyed; however, when they become unreachable they may be garbage-collected. An implementation is allowed to postpone garbage collection or omit it altogether — it is a matter of implementation quality how garbage collection is implemented, as long as no objects are collected that are still reachable.\n",
    "\n",
    "Use == when comparing values and *is* when comparing identities"
   ]
  },
  {
   "cell_type": "code",
   "execution_count": 3,
   "metadata": {
    "collapsed": false
   },
   "outputs": [
    {
     "name": "stdout",
     "output_type": "stream",
     "text": [
      " 3 1 49\n",
      "<type 'int'> 22437928"
     ]
    },
    {
     "ename": "NameError",
     "evalue": "name 'value' is not defined",
     "output_type": "error",
     "traceback": [
      "\u001b[1;31m---------------------------------------------------------------------------\u001b[0m",
      "\u001b[1;31mNameError\u001b[0m                                 Traceback (most recent call last)",
      "\u001b[1;32m<ipython-input-3-b8e7acc260bd>\u001b[0m in \u001b[0;36m<module>\u001b[1;34m()\u001b[0m\n\u001b[0;32m      6\u001b[0m \u001b[1;33m\u001b[0m\u001b[0m\n\u001b[0;32m      7\u001b[0m \u001b[0ma\u001b[0m \u001b[1;33m=\u001b[0m \u001b[1;36m53\u001b[0m\u001b[1;33m\u001b[0m\u001b[0m\n\u001b[1;32m----> 8\u001b[1;33m \u001b[1;32mprint\u001b[0m \u001b[0mtype\u001b[0m\u001b[1;33m(\u001b[0m\u001b[0ma\u001b[0m\u001b[1;33m)\u001b[0m\u001b[1;33m,\u001b[0m \u001b[0mid\u001b[0m\u001b[1;33m(\u001b[0m\u001b[0ma\u001b[0m\u001b[1;33m)\u001b[0m\u001b[1;33m,\u001b[0m \u001b[0mvalue\u001b[0m\u001b[1;33m(\u001b[0m\u001b[0ma\u001b[0m\u001b[1;33m)\u001b[0m \u001b[1;31m# identity of var 'a'\u001b[0m\u001b[1;33m\u001b[0m\u001b[0m\n\u001b[0m\u001b[0;32m      9\u001b[0m \u001b[1;33m\u001b[0m\u001b[0m\n\u001b[0;32m     10\u001b[0m \u001b[1;32mprint\u001b[0m \u001b[0mtype\u001b[0m\u001b[1;33m(\u001b[0m\u001b[1;36m1\u001b[0m\u001b[1;33m)\u001b[0m \u001b[1;32mis\u001b[0m \u001b[0mint\u001b[0m\u001b[1;33m,\u001b[0m \u001b[0misinstance\u001b[0m\u001b[1;33m(\u001b[0m\u001b[1;36m1\u001b[0m\u001b[1;33m,\u001b[0m\u001b[0mint\u001b[0m\u001b[1;33m)\u001b[0m\u001b[1;33m,\u001b[0m \u001b[0missubclass\u001b[0m\u001b[1;33m(\u001b[0m\u001b[0mtype\u001b[0m\u001b[1;33m(\u001b[0m\u001b[1;36m1\u001b[0m\u001b[1;33m)\u001b[0m\u001b[1;33m,\u001b[0m \u001b[0mint\u001b[0m\u001b[1;33m)\u001b[0m\u001b[1;33m\u001b[0m\u001b[0m\n",
      "\u001b[1;31mNameError\u001b[0m: name 'value' is not defined"
     ]
    }
   ],
   "source": [
    "import sys\n",
    "\n",
    "print 7//2, # integer division, quocient\n",
    "print 7%2,  # integer division, remainder\n",
    "print 7**2  # exponentiation\n",
    "\n",
    "a = 53\n",
    "print type(a), id(a) # type and identity of var 'a'\n",
    "\n",
    "print type(1) is int, isinstance(1,int), issubclass(type(1), int)\n",
    "\n",
    "print [-sys.maxint - 1, sys.maxint]  # max int (32 bits)\n",
    "\n",
    "print bin(54)  # binary description\n",
    "print hex(54)  # hexadecimal description"
   ]
  },
  {
   "cell_type": "code",
   "execution_count": 7,
   "metadata": {
    "collapsed": false
   },
   "outputs": [
    {
     "data": {
      "text/plain": [
       "1"
      ]
     },
     "execution_count": 7,
     "metadata": {},
     "output_type": "execute_result"
    }
   ],
   "source": [
    "a1 = 1L     # unlimited memory\n",
    "type(a1)\n",
    "\n",
    "def fact(n):\n",
    "    result = 1\n",
    "    for i in range(1,n+1):\n",
    "        result *= i\n",
    "    return result\n",
    "\n",
    "fact(150L)"
   ]
  },
  {
   "cell_type": "code",
   "execution_count": 17,
   "metadata": {
    "collapsed": false
   },
   "outputs": [
    {
     "name": "stdout",
     "output_type": "stream",
     "text": [
      "<type 'float'>\n",
      "sys.float_info(max=1.7976931348623157e+308, max_exp=1024, max_10_exp=308, min=2.2250738585072014e-308, min_exp=-1021, min_10_exp=-307, dig=15, mant_dig=53, epsilon=2.220446049250313e-16, radix=2, rounds=1)\n",
      "1.0 False\n",
      "True\n",
      "True\n"
     ]
    }
   ],
   "source": [
    "b = 1.0     # double, 64 bits\n",
    "print type(b)\n",
    "\n",
    "print sys.float_info\n",
    "\n",
    "# care when comparing floats:\n",
    "r = 0.0\n",
    "for i in range(10):\n",
    "    r += 0.1\n",
    "    \n",
    "print r, r==1.0  # ouch!\n",
    "\n",
    "# better:\n",
    "# Requires: if you know the approximate magnitude of the numbers in advance\n",
    "\n",
    "epsilon = 1.0e-6\n",
    "print abs(r-1.0) < epsilon\n",
    "\n",
    "# even better, from Python 3.5 math.isclose():\n",
    "\n",
    "def isclose(a, b, rel_tol=1e-09, abs_tol=0.0):\n",
    "    return abs(a-b) <= max(rel_tol * max(abs(a), abs(b)), abs_tol)\n",
    "\n",
    "print isclose(r,1.0)"
   ]
  },
  {
   "cell_type": "code",
   "execution_count": 17,
   "metadata": {
    "collapsed": false
   },
   "outputs": [
    {
     "data": {
      "text/plain": [
       "complex"
      ]
     },
     "execution_count": 17,
     "metadata": {},
     "output_type": "execute_result"
    }
   ],
   "source": [
    "b1 = 1.0 + 0j\n",
    "type(b1)"
   ]
  },
  {
   "cell_type": "code",
   "execution_count": 18,
   "metadata": {
    "collapsed": false
   },
   "outputs": [
    {
     "data": {
      "text/plain": [
       "bool"
      ]
     },
     "execution_count": 18,
     "metadata": {},
     "output_type": "execute_result"
    }
   ],
   "source": [
    "c = True or (False and not True)\n",
    "type(c)"
   ]
  },
  {
   "cell_type": "markdown",
   "metadata": {},
   "source": [
    "Lists are sequences of indexed elements. Lists might contain items of different types."
   ]
  },
  {
   "cell_type": "code",
   "execution_count": 19,
   "metadata": {
    "collapsed": false
   },
   "outputs": [
    {
     "name": "stdout",
     "output_type": "stream",
     "text": [
      "<type 'list'>\n",
      "[6, 1, 1, 2, 3, 2, 3, 2, 3]\n",
      "9 elements\n",
      "6\n",
      "False\n",
      "3\n",
      "4\n",
      "True False\n",
      "True True\n",
      "[1, True]\n"
     ]
    }
   ],
   "source": [
    "d = [6] + [1]*2 + [2,3]*3\n",
    "print type(d)\n",
    "print d\n",
    "print len(d), 'elements'\n",
    "print d[0]\n",
    "print 5 in d\n",
    "print d.count(2)  # number of 2's in d\n",
    "print d.index(3)  # first index where 3 appears in d\n",
    "\n",
    "d1 = []               # two mutable objects\n",
    "d2 = []\n",
    "print d1==d2, d1 is d2\n",
    "d3 = d4 = []          # one mutable object\n",
    "print d3==d4, d3 is d4\n",
    "\n",
    "print [1,True]"
   ]
  },
  {
   "cell_type": "markdown",
   "metadata": {},
   "source": [
    "Strings are immutable lists of chars"
   ]
  },
  {
   "cell_type": "code",
   "execution_count": 20,
   "metadata": {
    "collapsed": false
   },
   "outputs": [
    {
     "name": "stdout",
     "output_type": "stream",
     "text": [
      "a string a string \n",
      "9 chars\n",
      "s\n"
     ]
    },
    {
     "data": {
      "text/plain": [
       "str"
      ]
     },
     "execution_count": 20,
     "metadata": {},
     "output_type": "execute_result"
    }
   ],
   "source": [
    "e = 'a' + ' string '\n",
    "print e*2\n",
    "print len(e), 'chars'\n",
    "print e[2]\n",
    "type(e)"
   ]
  },
  {
   "cell_type": "markdown",
   "metadata": {},
   "source": [
    "A tuple consists of a number of values separated by commas."
   ]
  },
  {
   "cell_type": "code",
   "execution_count": 21,
   "metadata": {
    "collapsed": false
   },
   "outputs": [
    {
     "name": "stdout",
     "output_type": "stream",
     "text": [
      "(1, 'ab', [[0, 1, 2, 3, 4]])\n",
      "<type 'tuple'>\n",
      "(1, 'ab', [[0, 1, 2, 3, 4]], 100)\n",
      "('ab', [[0, 1, 2, 3, 4]])\n"
     ]
    }
   ],
   "source": [
    "g = (1,'ab',[range(5)])  # tuples\n",
    "print g\n",
    "print type(g)\n",
    "\n",
    "g1 = (100,)  # syntax for single tuple\n",
    "\n",
    "print g + g1\n",
    "print g[1:3]"
   ]
  },
  {
   "cell_type": "markdown",
   "metadata": {},
   "source": [
    "Dictionary, or associate array. Dictionaries are indexed by keys, which can be any immutable type; strings and numbers can always be keys. Tuples can be used as keys if they contain only strings, numbers, or tuples"
   ]
  },
  {
   "cell_type": "code",
   "execution_count": 22,
   "metadata": {
    "collapsed": false
   },
   "outputs": [
    {
     "name": "stdout",
     "output_type": "stream",
     "text": [
      "The third month is Mar\n",
      "Apr and Jan are 3 months apart\n",
      "<type 'dict'>\n",
      "['Jan', 'May', 2, 'Mar', 'Feb', 5, 3, 1, 'Apr', 4]\n",
      "[1, 5, 'Feb', 3, 2, 'May', 'Mar', 'Jan', 4, 'Apr']\n",
      "True\n",
      "1 5 Feb 3 2 May Mar Jan 4 Apr\n"
     ]
    }
   ],
   "source": [
    "monthNumbers = {'Jan':1, 'Feb':2, 'Mar':3, 'Apr':4, 'May':5, \n",
    "                1:'Jan', 2:'Feb', 3:'Mar', 4:'Apr', 5:'May'}\n",
    "print 'The third month is ' + monthNumbers[3]\n",
    "dist = monthNumbers['Apr'] - monthNumbers['Jan']\n",
    "print 'Apr and Jan are', dist, 'months apart'\n",
    "\n",
    "print type(monthNumbers)\n",
    "\n",
    "print monthNumbers.keys()\n",
    "print monthNumbers.values()\n",
    "print 'Mar' in monthNumbers\n",
    "for k in monthNumbers:\n",
    "    print monthNumbers[k],"
   ]
  },
  {
   "cell_type": "markdown",
   "metadata": {},
   "source": [
    "Sets -- unordered collection with no duplicate elements. Sets are mutable objects but only accept immutable elements."
   ]
  },
  {
   "cell_type": "code",
   "execution_count": 22,
   "metadata": {
    "collapsed": false
   },
   "outputs": [
    {
     "name": "stdout",
     "output_type": "stream",
     "text": [
      "<type 'set'>\n",
      "set(['r', 'b', 'd'])\n",
      "set(['a', 'c', 'b', 'd', 'm', 'l', 'r'])\n",
      "set(['a', 'c'])\n",
      "set(['b', 'd', 'm', 'l', 'r'])\n",
      "set(['r', 'd'])\n"
     ]
    }
   ],
   "source": [
    "a = set('abracadabra')\n",
    "b = set('alacazam')\n",
    "\n",
    "b.add('z') # irrelevant, there's already a 'z' there\n",
    "b.remove('z')\n",
    "\n",
    "print type(a)\n",
    "\n",
    "print a - b    # letters in a but not in b\n",
    "print a | b    # letters in either a or b\n",
    "print a & b    # letters in both a and b\n",
    "print a ^ b    # letters in a or b but not both\n",
    "\n",
    "print  {x for x in 'abracadabra' if x not in 'abc'}  # set comprehensions "
   ]
  },
  {
   "cell_type": "markdown",
   "metadata": {},
   "source": [
    "### Slicing"
   ]
  },
  {
   "cell_type": "code",
   "execution_count": 24,
   "metadata": {
    "collapsed": false
   },
   "outputs": [
    {
     "name": "stdout",
     "output_type": "stream",
     "text": [
      "[4, 7, 10, 13, 16, 19, 22, 25, 28, 50, 51, 52]\n",
      "52\n",
      "[10, 13]\n",
      "[4, 7, 10, 13]\n",
      "[50, 51]\n",
      "[50, 51, 52]\n",
      "[7, 13, 19]\n"
     ]
    }
   ],
   "source": [
    "f = range(4,30,3) # every 3 elements from 4 to 29\n",
    "f.append(50)\n",
    "f.extend([51,52])\n",
    "print f\n",
    "print f[-1]\n",
    "print f[2:4]\n",
    "print f[:4]\n",
    "print f[-3:-1]\n",
    "print f[-3:]\n",
    "print f[1:6:2]  # from f[1] to f[5], get every 2 elements"
   ]
  },
  {
   "cell_type": "markdown",
   "metadata": {},
   "source": [
    "### Input and Casting"
   ]
  },
  {
   "cell_type": "code",
   "execution_count": 26,
   "metadata": {
    "collapsed": false
   },
   "outputs": [
    {
     "name": "stdout",
     "output_type": "stream",
     "text": [
      "Enter your name: jp\n",
      "jp\n",
      "Enter your age: 45\n",
      "<type 'str'>\n",
      "<type 'int'>\n"
     ]
    }
   ],
   "source": [
    "name = raw_input('Enter your name: ')\n",
    "print name\n",
    "age = raw_input('Enter your age: ')\n",
    "print type(age)\n",
    "age = int(age)  # type casting\n",
    "print type(age)"
   ]
  },
  {
   "cell_type": "markdown",
   "metadata": {},
   "source": [
    "### Docstring and help function"
   ]
  },
  {
   "cell_type": "code",
   "execution_count": 27,
   "metadata": {
    "collapsed": false
   },
   "outputs": [
    {
     "name": "stdout",
     "output_type": "stream",
     "text": [
      "Help on function f in module __main__:\n",
      "\n",
      "f(x)\n",
      "    This is the function description\n",
      "    requires: x is a numeric value\n",
      "    ensures:  returns the double of argument x\n",
      "\n",
      "8\n"
     ]
    }
   ],
   "source": [
    "def f(x):\n",
    "    \"\"\"This is the function description\n",
    "    requires: x is a numeric value\n",
    "    ensures:  returns the double of argument x\"\"\"\n",
    "    return x*2\n",
    "\n",
    "help(f)\n",
    "print f(4)"
   ]
  },
  {
   "cell_type": "markdown",
   "metadata": {},
   "source": [
    "### List Comprehensions"
   ]
  },
  {
   "cell_type": "code",
   "execution_count": 28,
   "metadata": {
    "collapsed": false
   },
   "outputs": [
    {
     "name": "stdout",
     "output_type": "stream",
     "text": [
      "[1, 4, 9, 16, 25, 36]\n",
      "[1, 4, 9]\n",
      "[1, 2, 3, 4, 6, 9, 12, 18, 36]\n"
     ]
    }
   ],
   "source": [
    "L = [x**2 for x in range(1,7)]\n",
    "print L\n",
    "\n",
    "mixed = [1, 2, 'a', 3, 4.0]\n",
    "print [x**2 for x in mixed if type(x) == int]\n",
    "\n",
    "def divisors(n):\n",
    "    return [x for x in range(1,n+1) if n % x == 0]\n",
    "\n",
    "print divisors(36)"
   ]
  },
  {
   "cell_type": "markdown",
   "metadata": {},
   "source": [
    "### High-order functions"
   ]
  },
  {
   "cell_type": "code",
   "execution_count": 29,
   "metadata": {
    "collapsed": false
   },
   "outputs": [
    {
     "name": "stdout",
     "output_type": "stream",
     "text": [
      "[2, 4, 6, 8, 10, 12, 14, 16, 18]\n",
      "[12, 14, 16, 18, 20, 22, 24, 26, 28]\n",
      "[6, 7, 8, 9]\n",
      "120\n"
     ]
    }
   ],
   "source": [
    "L1 = range( 1,10)\n",
    "L2 = range(11,20)\n",
    "\n",
    "print map(lambda x  :x*2, L1)\n",
    "print map(lambda x,y:x+y, L1, L2)\n",
    "\n",
    "print filter(lambda x: x>5, L1)\n",
    "\n",
    "print reduce(lambda acc, x: acc*x, range(1,6))  # foldr, in this case it computes the factorial"
   ]
  },
  {
   "cell_type": "markdown",
   "metadata": {},
   "source": [
    "### Closures"
   ]
  },
  {
   "cell_type": "markdown",
   "metadata": {},
   "source": [
    "> Closures are functions that refer to independent (free) variables. In other words, the function defined in the closure 'remembers' the environment in which it was created. [ref](https://developer.mozilla.org/en-US/docs/Web/JavaScript/Closures)"
   ]
  },
  {
   "cell_type": "code",
   "execution_count": 30,
   "metadata": {
    "collapsed": true
   },
   "outputs": [],
   "source": [
    "def inc_factory(accumulator):\n",
    "    \n",
    "    def inc_func(x):\n",
    "        return accumulator+x\n",
    "    \n",
    "    return inc_func"
   ]
  },
  {
   "cell_type": "code",
   "execution_count": 31,
   "metadata": {
    "collapsed": false
   },
   "outputs": [
    {
     "name": "stdout",
     "output_type": "stream",
     "text": [
      "101 105\n"
     ]
    }
   ],
   "source": [
    "inc_1 = inc_factory(1)\n",
    "inc_5 = inc_factory(5)\n",
    "\n",
    "print inc_1(100), inc_5(100)"
   ]
  },
  {
   "cell_type": "markdown",
   "metadata": {},
   "source": [
    "### Multiple arguments"
   ]
  },
  {
   "cell_type": "code",
   "execution_count": 32,
   "metadata": {
    "collapsed": false
   },
   "outputs": [
    {
     "name": "stdout",
     "output_type": "stream",
     "text": [
      "abcdef gh\n"
     ]
    }
   ],
   "source": [
    "def concatenate(*args):\n",
    "    \"\"\"Receives multiple string arguments\"\"\"\n",
    "    result = \"\"\n",
    "    for x in args:\n",
    "        result += x\n",
    "    return result\n",
    "\n",
    "def concatenate2(*args):\n",
    "    \"\"\"Receives multiple string arguments (alternative solution)\"\"\"\n",
    "    return \"\".join(args)\n",
    "\n",
    "print concatenate2(\"abc\", \"def\", \" gh\")"
   ]
  },
  {
   "cell_type": "code",
   "execution_count": 33,
   "metadata": {
    "collapsed": false
   },
   "outputs": [
    {
     "name": "stdout",
     "output_type": "stream",
     "text": [
      "a == abc\n",
      "c ==  gh\n",
      "b == def\n"
     ]
    }
   ],
   "source": [
    "def showK(**kwargs):\n",
    "    \"\"\"Receives multiple keyworded arguments\"\"\"\n",
    "    if kwargs is not None:\n",
    "        for key, value in kwargs.iteritems():\n",
    "            print \"%s == %s\" %(key,value)\n",
    "\n",
    "showK(a=\"abc\", b=\"def\", c=\" gh\")"
   ]
  },
  {
   "cell_type": "markdown",
   "metadata": {},
   "source": [
    "### Generators"
   ]
  },
  {
   "cell_type": "code",
   "execution_count": 24,
   "metadata": {
    "collapsed": true
   },
   "outputs": [],
   "source": [
    "import math\n",
    "\n",
    "# https://www.jeffknupp.com/blog/2013/04/07/improve-your-python-yield-and-generators-explained/\n",
    "def is_prime(number):\n",
    "    \"\"\"pre: int odd number > 2\"\"\"\n",
    "    for current in range(3, int(math.sqrt(number) + 1), 2):\n",
    "        if number % current == 0: \n",
    "            return False\n",
    "    return True\n",
    "\n",
    "# generates all primes\n",
    "def getPrimes():\n",
    "    yield 2\n",
    "    number = 3\n",
    "    while True:\n",
    "        if is_prime(number):\n",
    "            yield number   # yield just returns the next value, & will resume execution by next call\n",
    "        number += 2"
   ]
  },
  {
   "cell_type": "code",
   "execution_count": 25,
   "metadata": {
    "collapsed": false
   },
   "outputs": [
    {
     "name": "stdout",
     "output_type": "stream",
     "text": [
      "2 3 5 7 11 13 17 19 23 29 31 37 41 43 47 53 59 61 67 71 73 79 83 89 97 101 103 107 109 113 127 131 137 139 149 151 157 163 167 173 179 181 191 193 197 199 211 223 227 229 233 239 241 251 257 263 269 271 277 281 283 293 307 311 313 317 331 337 347 349 353 359 367 373 379 383 389 397 401 409 419 421 431 433 439 443 449 457 461 463 467 479 487 491 499 503 509 521 523 541 547 557 563 569 571 577 587 593 599 601 607 613 617 619 631 641 643 647 653 659 661 673 677 683 691 701 709 719 727 733 739 743 751 757 761 769 773 787 797 809 811 821 823 827 829 839 853 857 859 863 877 881 883 887 907 911 919 929 937 941 947 953 967 971 977 983 991 997\n"
     ]
    }
   ],
   "source": [
    "for next_prime in getPrimes():\n",
    "    if next_prime < 1000:\n",
    "        print next_prime,\n",
    "    else:\n",
    "        break"
   ]
  },
  {
   "cell_type": "markdown",
   "metadata": {},
   "source": [
    "It is possible to get the next value from the generator via <code>next()</code>"
   ]
  },
  {
   "cell_type": "code",
   "execution_count": 26,
   "metadata": {
    "collapsed": false
   },
   "outputs": [
    {
     "name": "stdout",
     "output_type": "stream",
     "text": [
      "2 3 5 7 11 13 17 19 23 29 31 37 41 43 47 53 59 61 67 71\n"
     ]
    }
   ],
   "source": [
    "primeGenerator = getPrimes()\n",
    "\n",
    "for i in range(20):\n",
    "    print primeGenerator.next(),"
   ]
  },
  {
   "cell_type": "markdown",
   "metadata": {},
   "source": [
    "### Code objects \n",
    "\n",
    "> Code objects are Python objects which represent some piece of bytecode, along with all that it needs to execute [ref](http://late.am/post/2012/03/26/exploring-python-code-objects.html)"
   ]
  },
  {
   "cell_type": "code",
   "execution_count": 49,
   "metadata": {
    "collapsed": false
   },
   "outputs": [
    {
     "name": "stdout",
     "output_type": "stream",
     "text": [
      "<code object <module> at 02582BF0, file \"<string>\", line 2>\n",
      "<code object <module> at 02582F98, file \"<string>\", line 2>\n"
     ]
    }
   ],
   "source": [
    "code_str = \"\"\"\n",
    "x = 1\n",
    "y = 2\n",
    "print \"the result is \", x + y\n",
    "\"\"\"\n",
    "\n",
    "code_obj = compile(code_str, '<string>', 'exec')   # a statement\n",
    "print code_obj\n",
    "\n",
    "xpto = 1.1\n",
    "\n",
    "code_str2 = \"\"\"\n",
    "xpto*2\n",
    "\"\"\"\n",
    "\n",
    "code_obj2 = compile(code_str2, '<string>', 'eval') # an expression\n",
    "print code_obj2"
   ]
  },
  {
   "cell_type": "code",
   "execution_count": 50,
   "metadata": {
    "collapsed": false
   },
   "outputs": [
    {
     "name": "stdout",
     "output_type": "stream",
     "text": [
      "the result is  3\n",
      "2.2\n"
     ]
    }
   ],
   "source": [
    "exec(code_obj)\n",
    "print eval(code_obj2)"
   ]
  },
  {
   "cell_type": "markdown",
   "metadata": {},
   "source": [
    "Code Disassembly (!)"
   ]
  },
  {
   "cell_type": "code",
   "execution_count": 51,
   "metadata": {
    "collapsed": false,
    "scrolled": true
   },
   "outputs": [
    {
     "name": "stdout",
     "output_type": "stream",
     "text": [
      "  2           0 LOAD_CONST               0 (1)\n",
      "              3 STORE_NAME               0 (x)\n",
      "\n",
      "  3           6 LOAD_CONST               1 (2)\n",
      "              9 STORE_NAME               1 (y)\n",
      "\n",
      "  4          12 LOAD_CONST               2 ('the result is ')\n",
      "             15 PRINT_ITEM          \n",
      "             16 LOAD_NAME                0 (x)\n",
      "             19 LOAD_NAME                1 (y)\n",
      "             22 BINARY_ADD          \n",
      "             23 PRINT_ITEM          \n",
      "             24 PRINT_NEWLINE       \n",
      "             25 LOAD_CONST               3 (None)\n",
      "             28 RETURN_VALUE        \n"
     ]
    }
   ],
   "source": [
    "import dis\n",
    "\n",
    "dis.dis(code_obj)"
   ]
  }
 ],
 "metadata": {
  "kernelspec": {
   "display_name": "Python 2",
   "language": "python",
   "name": "python2"
  },
  "language_info": {
   "codemirror_mode": {
    "name": "ipython",
    "version": 2
   },
   "file_extension": ".py",
   "mimetype": "text/x-python",
   "name": "python",
   "nbconvert_exporter": "python",
   "pygments_lexer": "ipython2",
   "version": "2.7.10"
  }
 },
 "nbformat": 4,
 "nbformat_minor": 0
}
