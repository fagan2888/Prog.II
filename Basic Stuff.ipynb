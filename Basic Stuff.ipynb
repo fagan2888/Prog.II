{
 "cells": [
  {
   "cell_type": "markdown",
   "metadata": {},
   "source": [
    "### General Stuf"
   ]
  },
  {
   "cell_type": "code",
   "execution_count": 1,
   "metadata": {
    "collapsed": false
   },
   "outputs": [
    {
     "name": "stdout",
     "output_type": "stream",
     "text": [
      "3\n",
      "1\n",
      "49\n"
     ]
    }
   ],
   "source": [
    "print 7//2 # integer division, quocient\n",
    "print 7%2  # integer division, remainder\n",
    "print 7**2 # exponentiation"
   ]
  },
  {
   "cell_type": "markdown",
   "metadata": {},
   "source": [
    "Escreva um programa que some os primeiros números ímpares positivos até antes da soma chegar aos 1000."
   ]
  },
  {
   "cell_type": "code",
   "execution_count": 5,
   "metadata": {
    "collapsed": false
   },
   "outputs": [
    {
     "name": "stdout",
     "output_type": "stream",
     "text": [
      "961\n",
      "961\n"
     ]
    }
   ],
   "source": [
    "# First solution with break:\n",
    "i, mySum = 1, 0\n",
    "while True:\n",
    "    if mySum+i >= 1000:\n",
    "        break\n",
    "    mySum += i\n",
    "    i += 2\n",
    "print mySum\n",
    "\n",
    "# however, using break is considered bad practice\n",
    "# we can always replace it by making the while's guard stronger\n",
    "\n",
    "i, mySum, reached1k = 1, 0, False\n",
    "while not reached1k:\n",
    "    if mySum+i >= 1000:\n",
    "        reached1k = True\n",
    "    else:\n",
    "        mySum += i\n",
    "        i += 2\n",
    "print mySum"
   ]
  },
  {
   "cell_type": "markdown",
   "metadata": {},
   "source": [
    "Escreva um programa em Python que que peça ao utilizador um número inteiro\n",
    "k e escreva no ecrã se k é ou não um cubo perfeito."
   ]
  },
  {
   "cell_type": "code",
   "execution_count": 3,
   "metadata": {
    "collapsed": false
   },
   "outputs": [
    {
     "name": "stdout",
     "output_type": "stream",
     "text": [
      "Enter an integer: 43\n",
      "43 is not a perfect cube\n"
     ]
    }
   ],
   "source": [
    "n = abs(int(raw_input('Enter an integer: '))) # if -x is a perfect cube, so is x\n",
    "\n",
    "i, stop = 0, False\n",
    "while not stop:\n",
    "    if n == i**3:\n",
    "        print str(n), \"is a perfect cube\"\n",
    "        stop = True\n",
    "    elif n < i**3:\n",
    "        print str(n), \"is not a perfect cube\"\n",
    "        stop = True\n",
    "    i += 1"
   ]
  },
  {
   "cell_type": "markdown",
   "metadata": {},
   "source": [
    "Escreva um programa em Python que peça ao utilizador um número inteiro k\n",
    "maior do que 10 e escreva no ecrã as capícuas que existem entre 10 e k. Uma\n",
    "capícua é um número que se lê de igual forma da esquerda para a direita e da\n",
    "direita para a esquerda. Por exemplo, entre 10 e 100 existem 9 capícuas."
   ]
  },
  {
   "cell_type": "code",
   "execution_count": 4,
   "metadata": {
    "collapsed": false
   },
   "outputs": [
    {
     "name": "stdout",
     "output_type": "stream",
     "text": [
      "Enter an integer > 10: 102\n",
      "11 22 33 44 55 66 77 88 99 101\n"
     ]
    }
   ],
   "source": [
    "n = int(raw_input('Enter an integer > 10: '))\n",
    "\n",
    "for i in range(10,n+1):\n",
    "    if str(i) == str(i)[::-1]:\n",
    "        print i,    "
   ]
  },
  {
   "cell_type": "code",
   "execution_count": 7,
   "metadata": {
    "collapsed": false
   },
   "outputs": [
    {
     "name": "stdout",
     "output_type": "stream",
     "text": [
      "0 4 8 12 16 20 24 28 32 36 40 44 48\n",
      "0 4 8 12 16 20 24 28 32 36 40 44 48\n"
     ]
    }
   ],
   "source": [
    "for i in range (50):\n",
    "    if i % 4 == 0:\n",
    "        print i,\n",
    "print\n",
    "for i in range (0,50,4):\n",
    "    print i,"
   ]
  },
  {
   "cell_type": "markdown",
   "metadata": {},
   "source": [
    "Escreva um programa com a função common_count(l1,l2), que recebe duas\n",
    "listas l1 e l2 e devolve quantos elementos têm em comum (as listas não têm\n",
    "elementos repetidos)."
   ]
  },
  {
   "cell_type": "code",
   "execution_count": 10,
   "metadata": {
    "collapsed": false
   },
   "outputs": [],
   "source": [
    "def common_count(l1,l2):\n",
    "    commons = 0\n",
    "    for elem in l1:\n",
    "        if elem in l2:\n",
    "            commons += 1\n",
    "    return commons"
   ]
  },
  {
   "cell_type": "code",
   "execution_count": 17,
   "metadata": {
    "collapsed": false,
    "scrolled": true
   },
   "outputs": [
    {
     "name": "stdout",
     "output_type": "stream",
     "text": [
      "[1, 2, 3, 4, 5, 6, 7, 8, 9] \n",
      "            [5, 6, 7, 8, 9, 10, 11, 12, 13, 14] \n",
      "5\n"
     ]
    }
   ],
   "source": [
    "l1 = range(1,10)\n",
    "l2 = range(5,15)\n",
    "print l1, '\\n           ', l2, '\\n', common_count(l1,l2)"
   ]
  },
  {
   "cell_type": "markdown",
   "metadata": {},
   "source": [
    "### About Python Types"
   ]
  },
  {
   "cell_type": "code",
   "execution_count": 8,
   "metadata": {
    "collapsed": false
   },
   "outputs": [
    {
     "name": "stdout",
     "output_type": "stream",
     "text": [
      "<type 'int'>\n",
      "[-2147483648, 2147483647]\n",
      "0b110110\n",
      "0x36\n"
     ]
    }
   ],
   "source": [
    "import sys\n",
    "\n",
    "a = 53\n",
    "print type(a)\n",
    "\n",
    "print [-sys.maxint - 1, sys.maxint]  # max int (32 bits)\n",
    "print bin(54)  # binary description\n",
    "print hex(54)  # hexadecimal description"
   ]
  },
  {
   "cell_type": "code",
   "execution_count": 9,
   "metadata": {
    "collapsed": false
   },
   "outputs": [
    {
     "data": {
      "text/plain": [
       "long"
      ]
     },
     "execution_count": 9,
     "metadata": {},
     "output_type": "execute_result"
    }
   ],
   "source": [
    "a1 = 1L     # unlimited memory\n",
    "type(a1)"
   ]
  },
  {
   "cell_type": "code",
   "execution_count": 10,
   "metadata": {
    "collapsed": false
   },
   "outputs": [
    {
     "name": "stdout",
     "output_type": "stream",
     "text": [
      "<type 'float'>\n",
      "sys.float_info(max=1.7976931348623157e+308, max_exp=1024, max_10_exp=308, min=2.2250738585072014e-308, min_exp=-1021, min_10_exp=-307, dig=15, mant_dig=53, epsilon=2.220446049250313e-16, radix=2, rounds=1)\n"
     ]
    }
   ],
   "source": [
    "b = 1.0     # double, 64 bits\n",
    "print type(b)\n",
    "\n",
    "print sys.float_info"
   ]
  },
  {
   "cell_type": "code",
   "execution_count": 11,
   "metadata": {
    "collapsed": false
   },
   "outputs": [
    {
     "data": {
      "text/plain": [
       "complex"
      ]
     },
     "execution_count": 11,
     "metadata": {},
     "output_type": "execute_result"
    }
   ],
   "source": [
    "b1 = 1.0 + 0j\n",
    "type(b1)"
   ]
  },
  {
   "cell_type": "code",
   "execution_count": 12,
   "metadata": {
    "collapsed": false
   },
   "outputs": [
    {
     "data": {
      "text/plain": [
       "bool"
      ]
     },
     "execution_count": 12,
     "metadata": {},
     "output_type": "execute_result"
    }
   ],
   "source": [
    "c = True\n",
    "type(c)"
   ]
  },
  {
   "cell_type": "code",
   "execution_count": 13,
   "metadata": {
    "collapsed": false
   },
   "outputs": [
    {
     "name": "stdout",
     "output_type": "stream",
     "text": [
      "<type 'list'>\n",
      "[6, 1, 1, 2, 3, 2, 3, 2, 3]\n",
      "9 elements\n",
      "6\n",
      "False\n",
      "3\n",
      "4\n"
     ]
    }
   ],
   "source": [
    "d = [6] + [1]*2 + [2,3]*3\n",
    "print type(d)\n",
    "print d\n",
    "print len(d), 'elements'\n",
    "print d[0]\n",
    "print 5 in d\n",
    "print d.count(2)  # number of 2's in d\n",
    "print d.index(3)  # first index where 3 appears in d"
   ]
  },
  {
   "cell_type": "code",
   "execution_count": 14,
   "metadata": {
    "collapsed": false
   },
   "outputs": [
    {
     "name": "stdout",
     "output_type": "stream",
     "text": [
      "a string a string \n",
      "9 chars\n",
      "s\n"
     ]
    },
    {
     "data": {
      "text/plain": [
       "str"
      ]
     },
     "execution_count": 14,
     "metadata": {},
     "output_type": "execute_result"
    }
   ],
   "source": [
    "e = 'a' + ' string '\n",
    "print e*2\n",
    "print len(e), 'chars'\n",
    "print e[2]\n",
    "type(e)"
   ]
  },
  {
   "cell_type": "code",
   "execution_count": 15,
   "metadata": {
    "collapsed": false
   },
   "outputs": [
    {
     "name": "stdout",
     "output_type": "stream",
     "text": [
      "(1, 'ab', [[0, 1, 2, 3, 4]])\n",
      "<type 'tuple'>\n",
      "(1, 'ab', [[0, 1, 2, 3, 4]], 100)\n",
      "('ab', [[0, 1, 2, 3, 4]])\n"
     ]
    }
   ],
   "source": [
    "g = (1,'ab',[range(5)])  # tuples\n",
    "print g\n",
    "print type(g)\n",
    "\n",
    "g1 = (100,)  # syntax for single tuple\n",
    "\n",
    "print g + g1\n",
    "print g[1:3]"
   ]
  },
  {
   "cell_type": "code",
   "execution_count": 16,
   "metadata": {
    "collapsed": false
   },
   "outputs": [
    {
     "name": "stdout",
     "output_type": "stream",
     "text": [
      "The third month is Mar\n",
      "Apr and Jan are 3 months apart\n",
      "<type 'dict'>\n",
      "['Jan', 'May', 2, 'Mar', 'Feb', 5, 3, 1, 'Apr', 4]\n",
      "[1, 5, 'Feb', 3, 2, 'May', 'Mar', 'Jan', 4, 'Apr']\n",
      "True\n",
      "1 5 Feb 3 2 May Mar Jan 4 Apr\n"
     ]
    }
   ],
   "source": [
    "monthNumbers = {'Jan':1, 'Feb':2, 'Mar':3, 'Apr':4, 'May':5, \n",
    "                1:'Jan', 2:'Feb', 3:'Mar', 4:'Apr', 5:'May'}\n",
    "print 'The third month is ' + monthNumbers[3]\n",
    "dist = monthNumbers['Apr'] - monthNumbers['Jan']\n",
    "print 'Apr and Jan are', dist, 'months apart'\n",
    "\n",
    "print type(monthNumbers)\n",
    "\n",
    "print monthNumbers.keys()\n",
    "print monthNumbers.values()\n",
    "print 'Mar' in monthNumbers\n",
    "for k in monthNumbers:\n",
    "    print monthNumbers[k],"
   ]
  },
  {
   "cell_type": "markdown",
   "metadata": {},
   "source": [
    "### Slicing"
   ]
  },
  {
   "cell_type": "code",
   "execution_count": 17,
   "metadata": {
    "collapsed": false
   },
   "outputs": [
    {
     "name": "stdout",
     "output_type": "stream",
     "text": [
      "[4, 7, 10, 13, 16, 19, 22, 25, 28, 50, 51, 52]\n",
      "52\n",
      "[10, 13]\n",
      "[4, 7, 10, 13]\n",
      "[50, 51]\n",
      "[50, 51, 52]\n",
      "[7, 13, 19]\n"
     ]
    }
   ],
   "source": [
    "f = range(4,30,3) # every 3 elements from 4 to 29\n",
    "f.append(50)\n",
    "f.extend([51,52])\n",
    "print f\n",
    "print f[-1]\n",
    "print f[2:4]\n",
    "print f[:4]\n",
    "print f[-3:-1]\n",
    "print f[-3:]\n",
    "print f[1:6:2]  # from f[1] to f[5], get every 2 elements"
   ]
  },
  {
   "cell_type": "code",
   "execution_count": 18,
   "metadata": {
    "collapsed": false
   },
   "outputs": [
    {
     "name": "stdout",
     "output_type": "stream",
     "text": [
      "[1, 2] 1\n"
     ]
    }
   ],
   "source": [
    "x,y = 1,[1,2]  # multiple assignment\n",
    "print y,x"
   ]
  },
  {
   "cell_type": "markdown",
   "metadata": {},
   "source": [
    "### Input and Casting"
   ]
  },
  {
   "cell_type": "code",
   "execution_count": 19,
   "metadata": {
    "collapsed": false
   },
   "outputs": [
    {
     "name": "stdout",
     "output_type": "stream",
     "text": [
      "Enter your name: jp\n",
      "jp\n",
      "Enter your age: 45\n",
      "<type 'str'>\n",
      "<type 'int'>\n"
     ]
    }
   ],
   "source": [
    "name = raw_input('Enter your name: ')\n",
    "print name\n",
    "age = raw_input('Enter your age: ')\n",
    "print type(age)\n",
    "age = int(age)  # type casting\n",
    "print type(age)"
   ]
  },
  {
   "cell_type": "markdown",
   "metadata": {},
   "source": [
    "### Docstring and help function"
   ]
  },
  {
   "cell_type": "code",
   "execution_count": 20,
   "metadata": {
    "collapsed": false
   },
   "outputs": [
    {
     "name": "stdout",
     "output_type": "stream",
     "text": [
      "Help on function f in module __main__:\n",
      "\n",
      "f(x)\n",
      "    This is the function description\n",
      "    requires: x is a numeric value\n",
      "    ensures:  returns the double of argument x\n",
      "\n",
      "8\n"
     ]
    }
   ],
   "source": [
    "def f(x):\n",
    "    \"\"\"This is the function description\n",
    "    requires: x is a numeric value\n",
    "    ensures:  returns the double of argument x\"\"\"\n",
    "    return x*2\n",
    "\n",
    "help(f)\n",
    "print f(4)"
   ]
  },
  {
   "cell_type": "markdown",
   "metadata": {},
   "source": [
    "### List Comprehensions"
   ]
  },
  {
   "cell_type": "code",
   "execution_count": 21,
   "metadata": {
    "collapsed": false
   },
   "outputs": [
    {
     "name": "stdout",
     "output_type": "stream",
     "text": [
      "[1, 4, 9, 16, 25, 36]\n",
      "[1, 4, 9]\n",
      "[1, 2, 3, 4, 6, 9, 12, 18, 36]\n"
     ]
    }
   ],
   "source": [
    "L = [x**2 for x in range(1,7)]\n",
    "print L\n",
    "\n",
    "mixed = [1, 2, 'a', 3, 4.0]\n",
    "print [x**2 for x in mixed if type(x) == int]\n",
    "\n",
    "def divisors(n):\n",
    "    return [x for x in range(1,n+1) if n % x == 0]\n",
    "\n",
    "print divisors(36)"
   ]
  },
  {
   "cell_type": "markdown",
   "metadata": {},
   "source": [
    "### High-order functions"
   ]
  },
  {
   "cell_type": "code",
   "execution_count": 22,
   "metadata": {
    "collapsed": false
   },
   "outputs": [
    {
     "name": "stdout",
     "output_type": "stream",
     "text": [
      "[2, 4, 6, 8, 10, 12, 14, 16, 18]\n",
      "[12, 14, 16, 18, 20, 22, 24, 26, 28]\n",
      "[6, 7, 8, 9]\n",
      "120\n"
     ]
    }
   ],
   "source": [
    "L1 = range( 1,10)\n",
    "L2 = range(11,20)\n",
    "\n",
    "print map(lambda x  :x*2, L1)\n",
    "print map(lambda x,y:x+y, L1, L2)\n",
    "\n",
    "print filter(lambda x: x>5, L1)\n",
    "\n",
    "print reduce(lambda acc, x: acc*x, range(1,6))  # foldr, in this case it computes the factorial"
   ]
  },
  {
   "cell_type": "markdown",
   "metadata": {},
   "source": [
    "### Closures"
   ]
  },
  {
   "cell_type": "markdown",
   "metadata": {},
   "source": [
    "> Closures are functions that refer to independent (free) variables. In other words, the function defined in the closure 'remembers' the environment in which it was created. [ref](https://developer.mozilla.org/en-US/docs/Web/JavaScript/Closures)"
   ]
  },
  {
   "cell_type": "code",
   "execution_count": 23,
   "metadata": {
    "collapsed": true
   },
   "outputs": [],
   "source": [
    "def inc_factory(accumulator):\n",
    "    \n",
    "    def inc_func(x):\n",
    "        return accumulator+x\n",
    "    \n",
    "    return inc_func"
   ]
  },
  {
   "cell_type": "code",
   "execution_count": 24,
   "metadata": {
    "collapsed": false
   },
   "outputs": [
    {
     "name": "stdout",
     "output_type": "stream",
     "text": [
      "101 105\n"
     ]
    }
   ],
   "source": [
    "inc_1 = inc_factory(1)\n",
    "inc_5 = inc_factory(5)\n",
    "\n",
    "print inc_1(100), inc_5(100)"
   ]
  },
  {
   "cell_type": "markdown",
   "metadata": {},
   "source": [
    "### Multiple arguments"
   ]
  },
  {
   "cell_type": "code",
   "execution_count": 25,
   "metadata": {
    "collapsed": false
   },
   "outputs": [
    {
     "name": "stdout",
     "output_type": "stream",
     "text": [
      "abcdef gh\n"
     ]
    }
   ],
   "source": [
    "def concatenate(*args):\n",
    "    \"\"\"Receives multiple string arguments\"\"\"\n",
    "    result = \"\"\n",
    "    for x in args:\n",
    "        result += x\n",
    "    return result\n",
    "\n",
    "def concatenate2(*args):\n",
    "    \"\"\"Receives multiple string arguments (alternative solution)\"\"\"\n",
    "    return \"\".join(args)\n",
    "\n",
    "print concatenate2(\"abc\", \"def\", \" gh\")"
   ]
  },
  {
   "cell_type": "code",
   "execution_count": 26,
   "metadata": {
    "collapsed": false
   },
   "outputs": [
    {
     "name": "stdout",
     "output_type": "stream",
     "text": [
      "a == abc\n",
      "c ==  gh\n",
      "b == def\n"
     ]
    }
   ],
   "source": [
    "def showK(**kwargs):\n",
    "    \"\"\"Receives multiple keyworded arguments\"\"\"\n",
    "    if kwargs is not None:\n",
    "        for key, value in kwargs.iteritems():\n",
    "            print \"%s == %s\" %(key,value)\n",
    "\n",
    "showK(a=\"abc\", b=\"def\", c=\" gh\")"
   ]
  },
  {
   "cell_type": "markdown",
   "metadata": {},
   "source": [
    "### Generators"
   ]
  },
  {
   "cell_type": "code",
   "execution_count": 27,
   "metadata": {
    "collapsed": true
   },
   "outputs": [],
   "source": [
    "import math\n",
    "\n",
    "# https://www.jeffknupp.com/blog/2013/04/07/improve-your-python-yield-and-generators-explained/\n",
    "def is_prime(number):\n",
    "    \"\"\"pre: int odd number > 2\"\"\"\n",
    "    for current in range(3, int(math.sqrt(number) + 1), 2):\n",
    "        if number % current == 0: \n",
    "            return False\n",
    "    return True\n",
    "\n",
    "# generates all primes\n",
    "def getPrimes():\n",
    "    yield 2\n",
    "    number = 3\n",
    "    while True:\n",
    "        if is_prime(number):\n",
    "            yield number   # yield just returns the next value, & will resume execution by next call\n",
    "        number += 2"
   ]
  },
  {
   "cell_type": "code",
   "execution_count": 28,
   "metadata": {
    "collapsed": false
   },
   "outputs": [
    {
     "name": "stdout",
     "output_type": "stream",
     "text": [
      "2 3 5 7 11 13 17 19 23 29 31 37 41 43 47 53 59 61 67 71 73 79 83 89 97 101 103 107 109 113 127 131 137 139 149 151 157 163 167 173 179 181 191 193 197 199 211 223 227 229 233 239 241 251 257 263 269 271 277 281 283 293 307 311 313 317 331 337 347 349 353 359 367 373 379 383 389 397 401 409 419 421 431 433 439 443 449 457 461 463 467 479 487 491 499 503 509 521 523 541 547 557 563 569 571 577 587 593 599 601 607 613 617 619 631 641 643 647 653 659 661 673 677 683 691 701 709 719 727 733 739 743 751 757 761 769 773 787 797 809 811 821 823 827 829 839 853 857 859 863 877 881 883 887 907 911 919 929 937 941 947 953 967 971 977 983 991 997\n"
     ]
    }
   ],
   "source": [
    "for next_prime in getPrimes():\n",
    "    if next_prime < 1000:\n",
    "        print next_prime,\n",
    "    else:\n",
    "        break"
   ]
  },
  {
   "cell_type": "markdown",
   "metadata": {},
   "source": [
    "It is possible to get the next value from the generator via <code>next()</code>"
   ]
  },
  {
   "cell_type": "code",
   "execution_count": 29,
   "metadata": {
    "collapsed": false
   },
   "outputs": [
    {
     "name": "stdout",
     "output_type": "stream",
     "text": [
      "2 3 5 7 11 13 17 19 23 29 31 37 41 43 47 53 59 61 67 71\n"
     ]
    }
   ],
   "source": [
    "primeGenerator = getPrimes()\n",
    "\n",
    "for i in range(20):\n",
    "    print primeGenerator.next(),"
   ]
  }
 ],
 "metadata": {
  "kernelspec": {
   "display_name": "Python 2",
   "language": "python",
   "name": "python2"
  },
  "language_info": {
   "codemirror_mode": {
    "name": "ipython",
    "version": 2
   },
   "file_extension": ".py",
   "mimetype": "text/x-python",
   "name": "python",
   "nbconvert_exporter": "python",
   "pygments_lexer": "ipython2",
   "version": "2.7.10"
  }
 },
 "nbformat": 4,
 "nbformat_minor": 0
}
