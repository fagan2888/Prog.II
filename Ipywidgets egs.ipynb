{
 "cells": [
  {
   "cell_type": "markdown",
   "metadata": {},
   "source": [
    "## Interactive HTML Widgets"
   ]
  },
  {
   "cell_type": "markdown",
   "metadata": {},
   "source": [
    "Installation: <code>pip install ipywidgets</code>\n",
    "\n",
    "The interactive widgets do not work of github viewer. You'll need to download and run this in your IPython/Jupyter environment."
   ]
  },
  {
   "cell_type": "code",
   "execution_count": 6,
   "metadata": {
    "collapsed": true
   },
   "outputs": [],
   "source": [
    "%matplotlib inline\n",
    "\n",
    "import numpy as np\n",
    "import matplotlib.pyplot as plt\n",
    "\n",
    "from ipywidgets import interact"
   ]
  },
  {
   "cell_type": "code",
   "execution_count": 111,
   "metadata": {
    "collapsed": false
   },
   "outputs": [
    {
     "name": "stdout",
     "output_type": "stream",
     "text": [
      "1 1 2 3 5 8 13 21 34 55 89 144 233\n"
     ]
    }
   ],
   "source": [
    "def show_fib(N):\n",
    "    sequence = \"\"\n",
    "    a, b = 1, 1\n",
    "    for i in range(N):\n",
    "        sequence += \"{0} \".format(a)\n",
    "        a, b = b, a + b\n",
    "    return sequence.strip()\n",
    "\n",
    "print show_fib(13)"
   ]
  },
  {
   "cell_type": "code",
   "execution_count": 110,
   "metadata": {
    "collapsed": false
   },
   "outputs": [
    {
     "data": {
      "text/plain": [
       "'1 1 2 3 5 8 13 21 34 55 89 144 233'"
      ]
     },
     "metadata": {},
     "output_type": "display_data"
    },
    {
     "data": {
      "text/plain": [
       "<function __main__.show_fib>"
      ]
     },
     "execution_count": 110,
     "metadata": {},
     "output_type": "execute_result"
    }
   ],
   "source": [
    "interact(show_fib, N=(1, 25))"
   ]
  },
  {
   "cell_type": "markdown",
   "metadata": {},
   "source": [
    "Using widgets with plots:"
   ]
  },
  {
   "cell_type": "code",
   "execution_count": 3,
   "metadata": {
    "collapsed": true
   },
   "outputs": [],
   "source": [
    "def plot(amplitude, color):\n",
    "    fig, ax = plt.subplots(figsize=(4, 3),\n",
    "                           subplot_kw={'axisbg':'#EEEEEE', 'axisbelow':True})\n",
    "    ax.grid(color='w', linewidth=2, linestyle='solid')\n",
    "    x = np.linspace(0, 10, 1000)\n",
    "    ax.plot(x, amplitude * np.sin(x), color=color, lw=5, alpha=0.4)\n",
    "    ax.set_xlim(0, 10)\n",
    "    ax.set_ylim(-1.1, 1.1)"
   ]
  },
  {
   "cell_type": "code",
   "execution_count": 4,
   "metadata": {
    "collapsed": false
   },
   "outputs": [
    {
     "data": {
      "image/png": "[encoded data removed]",
      "text/plain": [
       "<matplotlib.figure.Figure at 0x7bfb270>"
      ]
     },
     "metadata": {},
     "output_type": "display_data"
    }
   ],
   "source": [
    "interact(plot, \n",
    "         amplitude = (0.1, 1.0, 0.1),\n",
    "         color     = (['blue', 'green', 'red']))"
   ]
  },
  {
   "cell_type": "markdown",
   "metadata": {},
   "source": [
    "Symbolic Computation and latex (and widget layout):"
   ]
  },
  {
   "cell_type": "code",
   "execution_count": 112,
   "metadata": {
    "collapsed": false
   },
   "outputs": [
    {
     "data": {
      "text/latex": [
       "$$x^{7} - 1 = \\left(x - 1\\right) \\left(x^{6} + x^{5} + x^{4} + x^{3} + x^{2} + x + 1\\right)$$"
      ],
      "text/plain": [
       "<IPython.core.display.Math object>"
      ]
     },
     "metadata": {},
     "output_type": "display_data"
    }
   ],
   "source": [
    "from IPython.display import display, Math, Latex\n",
    "from sympy           import Symbol, Eq, factor, latex\n",
    "\n",
    "x = Symbol('x')\n",
    "\n",
    "# Create a factorization function\n",
    "def factorit(n):\n",
    "    return display(Math(latex(Eq(x ** n - 1, factor(x ** n - 1)))))\n",
    "\n",
    "# we can save the interact object's id, and change its attributes\n",
    "w = interact(factorit, n=(2, 20))\n",
    "w.widget.font_size   = 25\n",
    "w.widget.color       = 'blue'\n",
    "w.widget.font_family = 'Courier New'\n",
    "display(w)"
   ]
  },
  {
   "cell_type": "markdown",
   "metadata": {},
   "source": [
    "Growth of functions:"
   ]
  },
  {
   "cell_type": "code",
   "execution_count": 91,
   "metadata": {
    "collapsed": false
   },
   "outputs": [],
   "source": [
    "def poly_growth(n_min, n_max, exponent, breaks=20):\n",
    "    \"\"\"Polynomial growth\"\"\"\n",
    "    ns = np.linspace(n_min, n_max, breaks)\n",
    "    return ns ** exponent\n",
    "\n",
    "def exp_growth(n_min, n_max, exponent, breaks=20):\n",
    "    \"\"\"Expotential growth\"\"\"\n",
    "    ns = np.linspace(n_min, n_max, breaks)\n",
    "    return exponent ** ns   "
   ]
  },
  {
   "cell_type": "code",
   "execution_count": 107,
   "metadata": {
    "collapsed": false
   },
   "outputs": [
    {
     "data": {
      "image/png": "[encoded data removed]",
      "text/plain": [
       "<matplotlib.figure.Figure at 0x53f0c30>"
      ]
     },
     "metadata": {},
     "output_type": "display_data"
    }
   ],
   "source": [
    "def plot_curves(n_min, n_max, exponent_pol, exponent_exp, breaks=20):\n",
    "    \n",
    "    polys = poly_growth(n_min, n_max, exponent_pol, breaks)\n",
    "    exps  =  exp_growth(n_min, n_max, exponent_exp, breaks)\n",
    "\n",
    "    ns = np.linspace(n_min, n_max, breaks)\n",
    "    \n",
    "    fig = plt.figure(figsize=(12, 4))\n",
    "    plt.plot(ns, polys, 'r', label=\"$x^{%d}$\"  % exponent_pol)  \n",
    "    plt.plot(ns, exps,  'b', label=\"$%1.1f^x$\" % exponent_exp)\n",
    "    plt.xlabel('Size')\n",
    "    plt.ylabel('Time')\n",
    "    plt.legend(loc=\"upper left\", fontsize=16)\n",
    "    plt.show()\n",
    "\n",
    "interact(plot_curves,\n",
    "         n_min        = widgets.IntSlider  (min=1, max=50, step=1,   value=15, description=\"$x_{min}$\"),\n",
    "         n_max        = widgets.IntSlider  (min=2, max=50, step=1,   value=18, description=\"$x_{max}$\"),\n",
    "         exponent_pol = widgets.IntSlider  (min=1, max=25, step=1,   value=14, description=\"$x^n$\"),\n",
    "         exponent_exp = widgets.FloatSlider(min=1, max=15, step=0.1, value=10, description=\"$n^x$\"),\n",
    "         breaks       = widgets.fixed(50))"
   ]
  },
  {
   "cell_type": "markdown",
   "metadata": {},
   "source": [
    "Message sending between widgets"
   ]
  },
  {
   "cell_type": "code",
   "execution_count": 11,
   "metadata": {
    "collapsed": true
   },
   "outputs": [],
   "source": [
    "from ipywidgets import widgets\n",
    "\n",
    "outputText = widgets.Text()\n",
    "outputText"
   ]
  },
  {
   "cell_type": "code",
   "execution_count": 12,
   "metadata": {
    "collapsed": false
   },
   "outputs": [],
   "source": [
    "inputText = widgets.Text()\n",
    "\n",
    "def upperCase(sender):\n",
    "    outputText.value = inputText.value.upper()\n",
    "    \n",
    "inputText.on_submit(upperCase)\n",
    "inputText   # enter text and press ENTER, it will be sent to outputText"
   ]
  },
  {
   "cell_type": "markdown",
   "metadata": {},
   "source": [
    "Check many examples at [https://github.com/ipython/ipywidgets/tree/master/examples](https://github.com/ipython/ipywidgets/tree/master/examples)"
   ]
  }
 ],
 "metadata": {
  "kernelspec": {
   "display_name": "Python 2",
   "language": "python",
   "name": "python2"
  },
  "language_info": {
   "codemirror_mode": {
    "name": "ipython",
    "version": 2
   },
   "file_extension": ".py",
   "mimetype": "text/x-python",
   "name": "python",
   "nbconvert_exporter": "python",
   "pygments_lexer": "ipython2",
   "version": "2.7.10"
  }
 },
 "nbformat": 4,
 "nbformat_minor": 0
}
