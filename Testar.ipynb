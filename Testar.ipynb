{
 "cells": [
  {
   "cell_type": "markdown",
   "metadata": {},
   "source": [
    "## Testes"
   ]
  },
  {
   "cell_type": "code",
   "execution_count": 6,
   "metadata": {
    "collapsed": true
   },
   "outputs": [],
   "source": [
    "import doctest"
   ]
  },
  {
   "cell_type": "code",
   "execution_count": 26,
   "metadata": {
    "collapsed": true
   },
   "outputs": [],
   "source": [
    "def soma_divisores(n):\n",
    "    \"\"\"\n",
    "    Requires: n inteiro > 0\n",
    "    Ensures: um inteiro com a soma dos divisores de *n* maiores que 1 e menores que *n*\n",
    "    \n",
    "    >>> soma_divisores(1)\n",
    "    0\n",
    "    \n",
    "    >>> soma_divisores(1800)\n",
    "    4244\n",
    "    \n",
    "    >>> [soma_divisores(x) for x in range(3,10)] \n",
    "    [0, 2, 0, 5, 0, 6, 3]\n",
    "    \n",
    "    >>> [soma_divisores(x) \n",
    "    ...       for x in range(11,40)]        # doctest: +NORMALIZE_WHITESPACE\n",
    "    [0, 15, 0, 9, 8, 14, 0, 20, 0, 21, 10, 13, 0, 35, 5, \n",
    "    15, 12, 27, 0, 41, 0, 30, 14, 19, 12, 54, 0, 21, 16]\n",
    "    \"\"\"\n",
    "    soma = 0\n",
    "    for i in range(2, n):\n",
    "        if n % i == 0:\n",
    "            soma += i\n",
    "    return soma"
   ]
  },
  {
   "cell_type": "code",
   "execution_count": 28,
   "metadata": {
    "collapsed": false
   },
   "outputs": [
    {
     "data": {
      "text/plain": [
       "TestResults(failed=0, attempted=4)"
      ]
     },
     "execution_count": 28,
     "metadata": {},
     "output_type": "execute_result"
    }
   ],
   "source": [
    "doctest.testmod()"
   ]
  },
  {
   "cell_type": "markdown",
   "metadata": {},
   "source": [
    "## Folha 9"
   ]
  },
  {
   "cell_type": "markdown",
   "metadata": {},
   "source": [
    "2) As funções seguintes determinam se um dado número é perfeito (cuja\n",
    "definição já foi apresentada numa aula anterior) e a lista de números perfeitos\n",
    "até um dado número, recorrendo à função soma_divisores."
   ]
  },
  {
   "cell_type": "code",
   "execution_count": 30,
   "metadata": {
    "collapsed": false
   },
   "outputs": [],
   "source": [
    "def perfeito(numero):\n",
    "    return soma_divisores(numero) + 1 == numero\n",
    "\n",
    "def lista_perfeitos(numero):\n",
    "    perfeitos = []\n",
    "    for n in range(numero):\n",
    "        if perfeito(n):\n",
    "            perfeitos.append(n)\n",
    "    return perfeitos"
   ]
  },
  {
   "cell_type": "markdown",
   "metadata": {},
   "source": [
    "a) Escreva os contratos das funções perfeito e lista_perfeitos."
   ]
  },
  {
   "cell_type": "code",
   "execution_count": 36,
   "metadata": {
    "collapsed": true
   },
   "outputs": [],
   "source": [
    "def perfeito(numero):\n",
    "    \"\"\"\n",
    "    Requires: numero is int && numero >= 0\n",
    "    Ensures:  returns True iff numero is a perfect number, ie, \n",
    "              equal to the sum of its divisors (except itself)\n",
    "              \n",
    "    The first perfect number is 6\n",
    "    >>> [perfeito(x) for x in range(7)]\n",
    "    [False, False, False, False, False, False, True]\n",
    "    \"\"\"\n",
    "    return soma_divisores(numero) + 1 == numero\n",
    "\n",
    "def lista_perfeitos(numero):\n",
    "    \"\"\"\n",
    "    Requires: numero is int && numero >= 0\n",
    "    Ensures:  returns the list with all the perfect numbers up to numero\n",
    "    \"\"\"\n",
    "    perfeitos = []\n",
    "    for n in range(numero):\n",
    "        if perfeito(n):\n",
    "            perfeitos.append(n)\n",
    "    return perfeitos"
   ]
  },
  {
   "cell_type": "code",
   "execution_count": 37,
   "metadata": {
    "collapsed": false
   },
   "outputs": [
    {
     "name": "stdout",
     "output_type": "stream",
     "text": [
      "**********************************************************************\n",
      "File \"__main__\", line 8, in __main__.perfeito\n",
      "Failed example:\n",
      "    [perfeito(x) for x in range(7)]\n",
      "Expected:\n",
      "    [False, False, False, False, False, False, True]\n",
      "Got:\n",
      "    [False, True, False, False, False, False, True]\n",
      "**********************************************************************\n",
      "1 items had failures:\n",
      "   1 of   1 in __main__.perfeito\n",
      "***Test Failed*** 1 failures.\n"
     ]
    },
    {
     "data": {
      "text/plain": [
       "TestResults(failed=1, attempted=5)"
      ]
     },
     "execution_count": 37,
     "metadata": {},
     "output_type": "execute_result"
    }
   ],
   "source": [
    "doctest.testmod()"
   ]
  },
  {
   "cell_type": "markdown",
   "metadata": {},
   "source": [
    "We found a bug in the function! Number 1 is not a perfect number. We need to update the function's implementation:"
   ]
  },
  {
   "cell_type": "code",
   "execution_count": 42,
   "metadata": {
    "collapsed": false
   },
   "outputs": [],
   "source": [
    "def perfeito(numero):\n",
    "    \"\"\"\n",
    "    Requires: numero is int && numero >= 0\n",
    "    Ensures:  returns True iff numero is a perfect number, ie, \n",
    "              equal to the sum of its divisors (except itself)\n",
    "              \n",
    "    The first perfect number is 6\n",
    "    >>> [perfeito(x) for x in range(7)]\n",
    "    [False, False, False, False, False, False, True]\n",
    "    \"\"\"\n",
    "    return numero>5 and soma_divisores(numero) + 1 == numero"
   ]
  },
  {
   "cell_type": "code",
   "execution_count": 43,
   "metadata": {
    "collapsed": false
   },
   "outputs": [
    {
     "data": {
      "text/plain": [
       "TestResults(failed=0, attempted=5)"
      ]
     },
     "execution_count": 43,
     "metadata": {},
     "output_type": "execute_result"
    }
   ],
   "source": [
    "doctest.testmod()"
   ]
  },
  {
   "cell_type": "markdown",
   "metadata": {},
   "source": [
    "Escreva testes para a função lista_perfeitos que cobra o fluxo de execução\n",
    "da função"
   ]
  },
  {
   "cell_type": "code",
   "execution_count": 51,
   "metadata": {
    "collapsed": true
   },
   "outputs": [],
   "source": [
    "def lista_perfeitos(numero):\n",
    "    \"\"\"\n",
    "    Requires: numero is int && numero >= 0\n",
    "    Ensures:  returns the list with all the perfect numbers up to numero\n",
    "    \n",
    "    Um teste que não entre no ciclo\n",
    "    >>> lista_perfeitos(0)\n",
    "    []\n",
    "    \n",
    "    Um teste que entre no ciclo, execute um único passo e que não entre no if\n",
    "    >>> lista_perfeitos(1)\n",
    "    []\n",
    "    \n",
    "    Um teste que entre no ciclo, execute um único passo e que entre no if\n",
    "    Teste inviável\n",
    "    \n",
    "    Um teste que entre no ciclo, execute vários passos do ciclo, entre no if e depois termine\n",
    "    >>> lista_perfeitos(7)\n",
    "    [6]\n",
    "    \n",
    "    Um teste que entre no ciclo, execute vários passos do ciclo, não entre no if e depois termine\n",
    "    >>> lista_perfeitos(1000)\n",
    "    [6, 28, 496]\n",
    "    \"\"\"\n",
    "    perfeitos = []\n",
    "    for n in range(numero):\n",
    "        if perfeito(n):\n",
    "            perfeitos.append(n)\n",
    "    return perfeitos"
   ]
  },
  {
   "cell_type": "code",
   "execution_count": 52,
   "metadata": {
    "collapsed": false
   },
   "outputs": [
    {
     "data": {
      "text/plain": [
       "TestResults(failed=0, attempted=9)"
      ]
     },
     "execution_count": 52,
     "metadata": {},
     "output_type": "execute_result"
    }
   ],
   "source": [
    "doctest.testmod()"
   ]
  },
  {
   "cell_type": "markdown",
   "metadata": {},
   "source": [
    "A pergunta 3) tem um código com erros. Uma possível correcção:"
   ]
  },
  {
   "cell_type": "code",
   "execution_count": 100,
   "metadata": {
    "collapsed": false
   },
   "outputs": [],
   "source": [
    "def contar_repetidos_consecutivos(colecao, elemento):\n",
    "    \"\"\"\n",
    "    requires: colecao um iteravel\n",
    "    requires: elemento um objeto qualquer\n",
    "    ensures: um inteiro correspondente ao maior numero de vezes\n",
    "    que elemento aparece consecutivamente em colecao\n",
    "    \n",
    "    >>> contar_repetidos_consecutivos([1,4,4,3,4,2,5,1,1,1,2], 4)\n",
    "    2\n",
    "    \n",
    "    >>> [contar_repetidos_consecutivos([1,4,4,3,4,2,5,1,1,1,2], x) for x in [1,2,4]]\n",
    "    [3, 1, 2]\n",
    "\n",
    "    >>> contar_repetidos_consecutivos(\"possivel\", 's')\n",
    "    2\n",
    "\n",
    "    >>> contar_repetidos_consecutivos([1,1,1,1,1,2,1,1,1], 1)\n",
    "    5\n",
    "\n",
    "    >>> contar_repetidos_consecutivos([1,1,1,1,1,2,1,1,1,1,1,1,1], 1)\n",
    "    7\n",
    "\n",
    "    >>> contar_repetidos_consecutivos([1,1,1,1,1,2,1,1,1,1,1,1,1], 3)\n",
    "    0\n",
    "\n",
    "    >>> contar_repetidos_consecutivos([1,1,1,1,1,1,1], 1)\n",
    "    7\n",
    "\n",
    "    >>> contar_repetidos_consecutivos([], 1)\n",
    "    0\n",
    "    \"\"\"\n",
    "    iguais, maior = 0, 0\n",
    "    for valor in colecao:\n",
    "        if valor == elemento:\n",
    "            iguais += 1\n",
    "        else:\n",
    "            if iguais > maior:\n",
    "                maior = iguais\n",
    "            iguais = 0\n",
    "    return max(maior, iguais)"
   ]
  },
  {
   "cell_type": "code",
   "execution_count": 101,
   "metadata": {
    "collapsed": false
   },
   "outputs": [
    {
     "data": {
      "text/plain": [
       "TestResults(failed=0, attempted=17)"
      ]
     },
     "execution_count": 101,
     "metadata": {},
     "output_type": "execute_result"
    }
   ],
   "source": [
    "doctest.testmod()"
   ]
  },
  {
   "cell_type": "markdown",
   "metadata": {},
   "source": [
    "4) A função seguinte informa a posição onde um elemento se encontra numa\n",
    "sequência ou devolve None caso o elemento não pertença à sequência."
   ]
  },
  {
   "cell_type": "code",
   "execution_count": 132,
   "metadata": {
    "collapsed": true
   },
   "outputs": [],
   "source": [
    "def encontra(sequencia, valor):\n",
    "    \"\"\"\n",
    "    Requires: uma *sequencia* de valores de um dado tipo, um *valor* desse tipo\n",
    "    Ensures:  retorna a 1a posição do elemento na sequência, ou None cc\n",
    "    \n",
    "    >>> encontra(\"abcde\",\"a\")\n",
    "    0\n",
    "\n",
    "    sequencia sem elementos;\n",
    "    >>> encontra([],0)\n",
    "    \n",
    "    sequencia com um só elemento e valor não pertencente a sequencia;\n",
    "    >>> encontra([1],0)\n",
    "    \n",
    "    sequencia com um só elemento e valor a pertencer a sequencia;\n",
    "    >>> encontra([1],1)\n",
    "    0\n",
    "    \n",
    "    sequencia com vários elementos e valor não pertencente a sequencia;\n",
    "    >>> encontra([1,2,3,4],5)\n",
    "    \n",
    "    sequencia com vários elementos e valor o primeiro valor da sequencia;\n",
    "    >>> encontra([1,2,3,4,5],1)\n",
    "    0\n",
    "    \n",
    "    sequencia com vários elementos e valor um dos valores do meio;\n",
    "    >>> encontra([1,2,3,4,5,6],3)\n",
    "    2\n",
    "        \n",
    "    sequencia com vários elementos e valor o último valor da sequencia.\n",
    "    >>> encontra([1,2,3,4,5],5)\n",
    "    4\n",
    "    \"\"\"\n",
    "    i, result, found = 0, None, False\n",
    "    while i < len(sequencia) and not found:\n",
    "        if valor == sequencia[i]:\n",
    "            found, result = True, i\n",
    "        else:\n",
    "            i += 1\n",
    "    return result"
   ]
  },
  {
   "cell_type": "code",
   "execution_count": 133,
   "metadata": {
    "collapsed": false
   },
   "outputs": [
    {
     "data": {
      "text/plain": [
       "TestResults(failed=0, attempted=25)"
      ]
     },
     "execution_count": 133,
     "metadata": {},
     "output_type": "execute_result"
    }
   ],
   "source": [
    "doctest.testmod()"
   ]
  }
 ],
 "metadata": {
  "kernelspec": {
   "display_name": "Python 2",
   "language": "python",
   "name": "python2"
  },
  "language_info": {
   "codemirror_mode": {
    "name": "ipython",
    "version": 2
   },
   "file_extension": ".py",
   "mimetype": "text/x-python",
   "name": "python",
   "nbconvert_exporter": "python",
   "pygments_lexer": "ipython2",
   "version": "2.7.10"
  }
 },
 "nbformat": 4,
 "nbformat_minor": 0
}
