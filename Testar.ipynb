{
 "cells": [
  {
   "cell_type": "markdown",
   "metadata": {},
   "source": [
    "## Testes"
   ]
  },
  {
   "cell_type": "markdown",
   "metadata": {},
   "source": [
    "Um programa é escrito para resolver um problema previamente especificado. A correção de um programa depende se este é capaz ou não de devolver as soluções desejadas na especificação.\n",
    "\n",
    "Testar é um processo de _verificação_ da correção de um programa. \n",
    "\n",
    "Os testes permitem encontrar erros e diminuir assim o número de _bugs_. Quando mais extensivos os testes mais o programador fica seguro da qualidade do respectivo programa. Porém, no geral, nenhuma quantidade de testes é suficiente para _demonstrar_ a correção de um programa.\n",
    "\n",
    "Usaremos dois tipos de testes que se complementam:\n",
    "    \n",
    "+ **Black Box Testing**: são testes criados a partir da especificação do programa, sem observar a implementação concreta. Estes testes podem ser criados antes mesmo da implementação do próprio programa, dado serem independentes dessa implementação.\n",
    "\n",
    "    Normalmente estes testes derivam dos contratos das funções. É aconselhável criar testes nos limites aceites para os argumentos, pois é comum a existência de erros nestes casos limites.\n",
    "\n",
    "\n",
    "+ **Glass box testing**: estes são testes que observam a implementação e tentam testar todos os fluxos possíveis. Isto é, se houver ciclos ou condicionais, estes testes devem ser construídos criando valores de input que passem por todas as combinações possíveis de valores para as guardas que existem na função. Se um teste destes conseguir passar por todos os passos diz-se ser **path-complete**. Pode acontecer que um dado caminho não pode ser alcançado; estes casos designam-se como **testes inviáveis**."
   ]
  },
  {
   "cell_type": "markdown",
   "metadata": {},
   "source": [
    "Cada teste pertencerá a uma dada função Python. Aqui usaremos a biblioteca <code>doctest</code> que coloca os testes na descrição da respectiva função usando uma sintaxe própria (cf. exemplos seguintes). \n",
    "\n",
    "Mais informações em [https://docs.python.org/2/library/doctest.html](https://docs.python.org/2/library/doctest.html)."
   ]
  },
  {
   "cell_type": "code",
   "execution_count": 63,
   "metadata": {
    "collapsed": true
   },
   "outputs": [],
   "source": [
    "import doctest"
   ]
  },
  {
   "cell_type": "markdown",
   "metadata": {},
   "source": [
    "Um exemplo de uso:"
   ]
  },
  {
   "cell_type": "code",
   "execution_count": 64,
   "metadata": {
    "collapsed": true
   },
   "outputs": [],
   "source": [
    "def soma_divisores(n):\n",
    "    \"\"\"\n",
    "    Requires: n inteiro > 0\n",
    "    Ensures: um inteiro com a soma dos divisores de *n* maiores que 1 e menores que *n*\n",
    "    \n",
    "    >>> soma_divisores(1)\n",
    "    0\n",
    "    \n",
    "    >>> soma_divisores(1800)\n",
    "    4244\n",
    "    \n",
    "    >>> [soma_divisores(x) for x in range(3,10)] \n",
    "    [0, 2, 0, 5, 0, 6, 3]\n",
    "    \n",
    "    >>> [soma_divisores(x) \n",
    "    ...       for x in range(11,40)]        # doctest: +NORMALIZE_WHITESPACE\n",
    "    [0, 15, 0, 9, 8, 14, 0, 20, 0, 21, 10, 13, 0, 35, 5, \n",
    "    15, 12, 27, 0, 41, 0, 30, 14, 19, 12, 54, 0, 21, 16]\n",
    "    \"\"\"\n",
    "    soma = 0\n",
    "    for i in range(2, n):\n",
    "        if n % i == 0:\n",
    "            soma += i\n",
    "    return soma"
   ]
  },
  {
   "cell_type": "markdown",
   "metadata": {},
   "source": [
    "Uma vez definidos os testes podemos executá-los através da invocação da função <code>testmod<code>:"
   ]
  },
  {
   "cell_type": "code",
   "execution_count": 65,
   "metadata": {
    "collapsed": false
   },
   "outputs": [
    {
     "data": {
      "text/plain": [
       "TestResults(failed=0, attempted=22)"
      ]
     },
     "execution_count": 65,
     "metadata": {},
     "output_type": "execute_result"
    }
   ],
   "source": [
    "doctest.testmod()"
   ]
  },
  {
   "cell_type": "markdown",
   "metadata": {},
   "source": [
    "## Folha 9"
   ]
  },
  {
   "cell_type": "markdown",
   "metadata": {},
   "source": [
    "### Exercícios"
   ]
  },
  {
   "cell_type": "markdown",
   "metadata": {},
   "source": [
    "2) As funções seguintes determinam se um dado número é perfeito (cuja\n",
    "definição já foi apresentada numa aula anterior) e a lista de números perfeitos\n",
    "até um dado número, recorrendo à função soma_divisores."
   ]
  },
  {
   "cell_type": "code",
   "execution_count": 66,
   "metadata": {
    "collapsed": false
   },
   "outputs": [],
   "source": [
    "def perfeito(numero):\n",
    "    return soma_divisores(numero) + 1 == numero\n",
    "\n",
    "def lista_perfeitos(numero):\n",
    "    perfeitos = []\n",
    "    for n in range(numero):\n",
    "        if perfeito(n):\n",
    "            perfeitos.append(n)\n",
    "    return perfeitos"
   ]
  },
  {
   "cell_type": "markdown",
   "metadata": {},
   "source": [
    "a) Escreva os contratos das funções perfeito e lista_perfeitos."
   ]
  },
  {
   "cell_type": "code",
   "execution_count": 67,
   "metadata": {
    "collapsed": true
   },
   "outputs": [],
   "source": [
    "def perfeito(numero):\n",
    "    \"\"\"\n",
    "    Requires: numero is int && numero >= 0\n",
    "    Ensures:  returns True iff numero is a perfect number, ie, \n",
    "              equal to the sum of its divisors (except itself)\n",
    "              \n",
    "    The first perfect number is 6\n",
    "    >>> [perfeito(x) for x in range(7)]\n",
    "    [False, False, False, False, False, False, True]\n",
    "    \"\"\"\n",
    "    return soma_divisores(numero) + 1 == numero\n",
    "\n",
    "def lista_perfeitos(numero):\n",
    "    \"\"\"\n",
    "    Requires: numero is int && numero >= 0\n",
    "    Ensures:  returns the list with all the perfect numbers up to numero\n",
    "    \"\"\"\n",
    "    perfeitos = []\n",
    "    for n in range(numero):\n",
    "        if perfeito(n):\n",
    "            perfeitos.append(n)\n",
    "    return perfeitos"
   ]
  },
  {
   "cell_type": "code",
   "execution_count": 68,
   "metadata": {
    "collapsed": false
   },
   "outputs": [
    {
     "name": "stdout",
     "output_type": "stream",
     "text": [
      "**********************************************************************\n",
      "File \"__main__\", line 8, in __main__.perfeito\n",
      "Failed example:\n",
      "    [perfeito(x) for x in range(7)]\n",
      "Expected:\n",
      "    [False, False, False, False, False, False, True]\n",
      "Got:\n",
      "    [False, True, False, False, False, False, True]\n",
      "**********************************************************************\n",
      "1 items had failures:\n",
      "   1 of   1 in __main__.perfeito\n",
      "***Test Failed*** 1 failures.\n"
     ]
    },
    {
     "data": {
      "text/plain": [
       "TestResults(failed=1, attempted=23)"
      ]
     },
     "execution_count": 68,
     "metadata": {},
     "output_type": "execute_result"
    }
   ],
   "source": [
    "doctest.testmod()"
   ]
  },
  {
   "cell_type": "markdown",
   "metadata": {},
   "source": [
    "We found a bug in the function! Number 1 is not a perfect number. We need to update the function's implementation:"
   ]
  },
  {
   "cell_type": "code",
   "execution_count": 69,
   "metadata": {
    "collapsed": false
   },
   "outputs": [],
   "source": [
    "def perfeito(numero):\n",
    "    \"\"\"\n",
    "    Requires: numero is int && numero >= 0\n",
    "    Ensures:  returns True iff numero is a perfect number, ie, \n",
    "              equal to the sum of its divisors (except itself)\n",
    "              \n",
    "    The first perfect number is 6\n",
    "    >>> [perfeito(x) for x in range(7)]\n",
    "    [False, False, False, False, False, False, True]\n",
    "    \"\"\"\n",
    "    return numero>5 and soma_divisores(numero) + 1 == numero"
   ]
  },
  {
   "cell_type": "code",
   "execution_count": 70,
   "metadata": {
    "collapsed": false
   },
   "outputs": [
    {
     "data": {
      "text/plain": [
       "TestResults(failed=0, attempted=23)"
      ]
     },
     "execution_count": 70,
     "metadata": {},
     "output_type": "execute_result"
    }
   ],
   "source": [
    "doctest.testmod()"
   ]
  },
  {
   "cell_type": "markdown",
   "metadata": {},
   "source": [
    "d) Escreva testes para a função lista_perfeitos que cobra o fluxo de execução\n",
    "da função"
   ]
  },
  {
   "cell_type": "code",
   "execution_count": 71,
   "metadata": {
    "collapsed": true
   },
   "outputs": [],
   "source": [
    "def lista_perfeitos(numero):\n",
    "    \"\"\"\n",
    "    Requires: numero is int && numero >= 0\n",
    "    Ensures:  returns the list with all the perfect numbers up to numero\n",
    "    \n",
    "    Um teste que não entre no ciclo\n",
    "    >>> lista_perfeitos(0)\n",
    "    []\n",
    "    \n",
    "    Um teste que entre no ciclo, execute um único passo e que não entre no if\n",
    "    >>> lista_perfeitos(1)\n",
    "    []\n",
    "    \n",
    "    Um teste que entre no ciclo, execute um único passo e que entre no if\n",
    "    Teste inviável\n",
    "    \n",
    "    Um teste que entre no ciclo, execute vários passos do ciclo, entre no if e depois termine\n",
    "    >>> lista_perfeitos(7)\n",
    "    [6]\n",
    "    \n",
    "    Um teste que entre no ciclo, execute vários passos do ciclo, não entre no if e depois termine\n",
    "    >>> lista_perfeitos(1000)\n",
    "    [6, 28, 496]\n",
    "    \"\"\"\n",
    "    perfeitos = []\n",
    "    for n in range(numero):\n",
    "        if perfeito(n):\n",
    "            perfeitos.append(n)\n",
    "    return perfeitos"
   ]
  },
  {
   "cell_type": "code",
   "execution_count": 72,
   "metadata": {
    "collapsed": false
   },
   "outputs": [
    {
     "data": {
      "text/plain": [
       "TestResults(failed=0, attempted=27)"
      ]
     },
     "execution_count": 72,
     "metadata": {},
     "output_type": "execute_result"
    }
   ],
   "source": [
    "doctest.testmod()"
   ]
  },
  {
   "cell_type": "markdown",
   "metadata": {},
   "source": [
    "A pergunta 3) tem um código com erros:"
   ]
  },
  {
   "cell_type": "code",
   "execution_count": 73,
   "metadata": {
    "collapsed": true
   },
   "outputs": [],
   "source": [
    "def contar_repetidos_consecutivos(colecao, elemento):\n",
    "    \"\"\"\n",
    "    requires: colecao um iteravel\n",
    "    requires: elemento um objeto qualquer\n",
    "    ensures: um inteiro correspondente ao maior numero de vezes\n",
    "    que elemento aparece consecutivamente em colecao\n",
    "    >>> contar_repetidos_consecutivos([1,4,4,3,4,2,5,1,1,1,2], 4)\n",
    "    2\n",
    "    \"\"\"\n",
    "    iguais = 1\n",
    "    maior = 0\n",
    "    for valor in elemento:\n",
    "        if valor == elemento:\n",
    "            iguais += 1\n",
    "        else:\n",
    "            if iguais < maior:\n",
    "                maior = valor\n",
    "        iguais = 1\n",
    "    return maior if maior <= iguais else iguais"
   ]
  },
  {
   "cell_type": "code",
   "execution_count": 74,
   "metadata": {
    "collapsed": false
   },
   "outputs": [
    {
     "name": "stdout",
     "output_type": "stream",
     "text": [
      "**********************************************************************\n",
      "File \"__main__\", line 7, in __main__.contar_repetidos_consecutivos\n",
      "Failed example:\n",
      "    contar_repetidos_consecutivos([1,4,4,3,4,2,5,1,1,1,2], 4)\n",
      "Exception raised:\n",
      "    Traceback (most recent call last):\n",
      "      File \"C:\\Users\\jpn.INFORMATICA\\Software\\_Langs\\WinPython-64bit-2.7.10.1\\python-2.7.10.amd64\\lib\\doctest.py\", line 1315, in __run\n",
      "        compileflags, 1) in test.globs\n",
      "      File \"<doctest __main__.contar_repetidos_consecutivos[0]>\", line 1, in <module>\n",
      "        contar_repetidos_consecutivos([1,4,4,3,4,2,5,1,1,1,2], 4)\n",
      "      File \"<ipython-input-73-1b4929408ded>\", line 12, in contar_repetidos_consecutivos\n",
      "        for valor in elemento:\n",
      "    TypeError: 'int' object is not iterable\n",
      "**********************************************************************\n",
      "1 items had failures:\n",
      "   1 of   1 in __main__.contar_repetidos_consecutivos\n",
      "***Test Failed*** 1 failures.\n"
     ]
    },
    {
     "data": {
      "text/plain": [
       "TestResults(failed=1, attempted=28)"
      ]
     },
     "execution_count": 74,
     "metadata": {},
     "output_type": "execute_result"
    }
   ],
   "source": [
    "doctest.testmod()"
   ]
  },
  {
   "cell_type": "markdown",
   "metadata": {},
   "source": [
    " Uma possível correcção com os testes pedidos nas alíneas a) a e):"
   ]
  },
  {
   "cell_type": "code",
   "execution_count": 75,
   "metadata": {
    "collapsed": false
   },
   "outputs": [],
   "source": [
    "def contar_repetidos_consecutivos(colecao, elemento):\n",
    "    \"\"\"\n",
    "    requires: colecao um iteravel\n",
    "    requires: elemento um objeto qualquer\n",
    "    ensures: um inteiro correspondente ao maior numero de vezes\n",
    "    que elemento aparece consecutivamente em colecao\n",
    "    \n",
    "    >>> contar_repetidos_consecutivos([1,4,4,3,4,2,5,1,1,1,2], 4)\n",
    "    2\n",
    "    \n",
    "    >>> [contar_repetidos_consecutivos([1,4,4,3,4,2,5,1,1,1,2], x) for x in [1,2,4]]\n",
    "    [3, 1, 2]\n",
    "\n",
    "    >>> contar_repetidos_consecutivos(\"possivel\", 's')\n",
    "    2\n",
    "\n",
    "    >>> contar_repetidos_consecutivos([1,1,1,1,1,2,1,1,1], 1)\n",
    "    5\n",
    "\n",
    "    >>> contar_repetidos_consecutivos([1,1,1,1,1,2,1,1,1,1,1,1,1], 1)\n",
    "    7\n",
    "\n",
    "    >>> contar_repetidos_consecutivos([1,1,1,1,1,2,1,1,1,1,1,1,1], 3)\n",
    "    0\n",
    "\n",
    "    >>> contar_repetidos_consecutivos([1,1,1,1,1,1,1], 1)\n",
    "    7\n",
    "\n",
    "    >>> contar_repetidos_consecutivos([], 1)\n",
    "    0\n",
    "    \"\"\"\n",
    "    iguais, maior = 0, 0\n",
    "    for valor in colecao:\n",
    "        if valor == elemento:\n",
    "            iguais += 1\n",
    "        else:\n",
    "            if iguais > maior:\n",
    "                maior = iguais\n",
    "            iguais = 0\n",
    "    return max(maior, iguais)"
   ]
  },
  {
   "cell_type": "code",
   "execution_count": 76,
   "metadata": {
    "collapsed": false
   },
   "outputs": [
    {
     "data": {
      "text/plain": [
       "TestResults(failed=0, attempted=35)"
      ]
     },
     "execution_count": 76,
     "metadata": {},
     "output_type": "execute_result"
    }
   ],
   "source": [
    "doctest.testmod()"
   ]
  },
  {
   "cell_type": "markdown",
   "metadata": {},
   "source": [
    "4) A função seguinte informa a posição onde um elemento se encontra numa\n",
    "sequência ou devolve None caso o elemento não pertença à sequência."
   ]
  },
  {
   "cell_type": "code",
   "execution_count": 77,
   "metadata": {
    "collapsed": true
   },
   "outputs": [],
   "source": [
    "def encontra(sequencia, valor):\n",
    "    i = 0\n",
    "    for elemento in sequencia:\n",
    "        if valor == elemento:\n",
    "            return valor\n",
    "        else:\n",
    "            return None"
   ]
  },
  {
   "cell_type": "markdown",
   "metadata": {},
   "source": [
    "Incluíndo os testes pedidos na alínea a):"
   ]
  },
  {
   "cell_type": "code",
   "execution_count": 78,
   "metadata": {
    "collapsed": false
   },
   "outputs": [],
   "source": [
    "def encontra(sequencia, valor):\n",
    "    \"\"\"\n",
    "    Requires: uma *sequencia* de valores de um dado tipo, um *valor* desse tipo\n",
    "    Ensures:  retorna a 1a posição do elemento na sequência, ou None cc\n",
    "    \n",
    "    >>> encontra(\"abcde\",\"a\")\n",
    "    0\n",
    "\n",
    "    sequencia sem elementos;\n",
    "    >>> encontra([],0)\n",
    "    \n",
    "    sequencia com um só elemento e valor não pertencente a sequencia;\n",
    "    >>> encontra([1],0)\n",
    "    \n",
    "    sequencia com um só elemento e valor a pertencer a sequencia;\n",
    "    >>> encontra([1],1)\n",
    "    0\n",
    "    \n",
    "    sequencia com vários elementos e valor não pertencente a sequencia;\n",
    "    >>> encontra([1,2,3,4],5)\n",
    "    \n",
    "    sequencia com vários elementos e valor o primeiro valor da sequencia;\n",
    "    >>> encontra([1,2,3,4,5],1)\n",
    "    0\n",
    "    \n",
    "    sequencia com vários elementos e valor um dos valores do meio;\n",
    "    >>> encontra([1,2,3,4,5,6],3)\n",
    "    2\n",
    "        \n",
    "    sequencia com vários elementos e valor o último valor da sequencia.\n",
    "    >>> encontra([1,2,3,4,5],5)\n",
    "    4\n",
    "    \"\"\"\n",
    "        \n",
    "    i = 0\n",
    "    for elemento in sequencia:\n",
    "        if valor == elemento:\n",
    "            return valor\n",
    "        else:\n",
    "            return None"
   ]
  },
  {
   "cell_type": "code",
   "execution_count": 79,
   "metadata": {
    "collapsed": false
   },
   "outputs": [
    {
     "name": "stdout",
     "output_type": "stream",
     "text": [
      "**********************************************************************\n",
      "File \"__main__\", line 6, in __main__.encontra\n",
      "Failed example:\n",
      "    encontra(\"abcde\",\"a\")\n",
      "Expected:\n",
      "    0\n",
      "Got:\n",
      "    'a'\n",
      "**********************************************************************\n",
      "File \"__main__\", line 16, in __main__.encontra\n",
      "Failed example:\n",
      "    encontra([1],1)\n",
      "Expected:\n",
      "    0\n",
      "Got:\n",
      "    1\n",
      "**********************************************************************\n",
      "File \"__main__\", line 23, in __main__.encontra\n",
      "Failed example:\n",
      "    encontra([1,2,3,4,5],1)\n",
      "Expected:\n",
      "    0\n",
      "Got:\n",
      "    1\n",
      "**********************************************************************\n",
      "File \"__main__\", line 27, in __main__.encontra\n",
      "Failed example:\n",
      "    encontra([1,2,3,4,5,6],3)\n",
      "Expected:\n",
      "    2\n",
      "Got nothing\n",
      "**********************************************************************\n",
      "File \"__main__\", line 31, in __main__.encontra\n",
      "Failed example:\n",
      "    encontra([1,2,3,4,5],5)\n",
      "Expected:\n",
      "    4\n",
      "Got nothing\n",
      "**********************************************************************\n",
      "1 items had failures:\n",
      "   5 of   8 in __main__.encontra\n",
      "***Test Failed*** 5 failures.\n"
     ]
    },
    {
     "data": {
      "text/plain": [
       "TestResults(failed=5, attempted=43)"
      ]
     },
     "execution_count": 79,
     "metadata": {},
     "output_type": "execute_result"
    }
   ],
   "source": [
    "doctest.testmod()"
   ]
  },
  {
   "cell_type": "markdown",
   "metadata": {},
   "source": [
    "Uma solução que corrige os problemas encontrados:"
   ]
  },
  {
   "cell_type": "code",
   "execution_count": 80,
   "metadata": {
    "collapsed": true
   },
   "outputs": [],
   "source": [
    "def encontra(sequencia, valor):\n",
    "    \"\"\"\n",
    "    Requires: uma *sequencia* de valores de um dado tipo, um *valor* desse tipo\n",
    "    Ensures:  retorna a 1a posição do elemento na sequência, ou None cc\n",
    "    \n",
    "    >>> encontra(\"abcde\",\"a\")\n",
    "    0\n",
    "\n",
    "    sequencia sem elementos;\n",
    "    >>> encontra([],0)\n",
    "    \n",
    "    sequencia com um só elemento e valor não pertencente a sequencia;\n",
    "    >>> encontra([1],0)\n",
    "    \n",
    "    sequencia com um só elemento e valor a pertencer a sequencia;\n",
    "    >>> encontra([1],1)\n",
    "    0\n",
    "    \n",
    "    sequencia com vários elementos e valor não pertencente a sequencia;\n",
    "    >>> encontra([1,2,3,4],5)\n",
    "    \n",
    "    sequencia com vários elementos e valor o primeiro valor da sequencia;\n",
    "    >>> encontra([1,2,3,4,5],1)\n",
    "    0\n",
    "    \n",
    "    sequencia com vários elementos e valor um dos valores do meio;\n",
    "    >>> encontra([1,2,3,4,5,6],3)\n",
    "    2\n",
    "        \n",
    "    sequencia com vários elementos e valor o último valor da sequencia.\n",
    "    >>> encontra([1,2,3,4,5],5)\n",
    "    4\n",
    "    \"\"\"\n",
    "    i, result, found = 0, None, False\n",
    "    while i < len(sequencia) and not found:\n",
    "        if valor == sequencia[i]:\n",
    "            found, result = True, i\n",
    "        else:\n",
    "            i += 1\n",
    "    return result"
   ]
  },
  {
   "cell_type": "code",
   "execution_count": 81,
   "metadata": {
    "collapsed": false
   },
   "outputs": [
    {
     "data": {
      "text/plain": [
       "TestResults(failed=0, attempted=43)"
      ]
     },
     "execution_count": 81,
     "metadata": {},
     "output_type": "execute_result"
    }
   ],
   "source": [
    "doctest.testmod()"
   ]
  },
  {
   "cell_type": "markdown",
   "metadata": {},
   "source": [
    "## Problemas"
   ]
  },
  {
   "cell_type": "markdown",
   "metadata": {},
   "source": [
    "1) Considere a seguinte função que efetua a diferença de duas listas tal como se\n",
    "descreve a seguir."
   ]
  },
  {
   "cell_type": "code",
   "execution_count": 82,
   "metadata": {
    "collapsed": true
   },
   "outputs": [],
   "source": [
    "def diferenca(l1, l2):\n",
    "    \"\"\"\n",
    "    requires: l1 uma lista\n",
    "    requires: l2 uma lista\n",
    "    ensures: devolve uma lista que contém os elementos de l1 que não estão\n",
    "             em l2. As listas l1 e l2 não são alteradas.\n",
    "    \"\"\"\n",
    "    result = l1\n",
    "    i = 1\n",
    "    while i < len(l1):\n",
    "        if i in l2:\n",
    "            result.remove(i)\n",
    "        i += 1\n",
    "    return result"
   ]
  },
  {
   "cell_type": "markdown",
   "metadata": {},
   "source": [
    "a) Escreva testes unitários para a função tendo em conta um critério apropriado."
   ]
  },
  {
   "cell_type": "code",
   "execution_count": 83,
   "metadata": {
    "collapsed": true
   },
   "outputs": [],
   "source": [
    "def diferenca(l1, l2):\n",
    "    \"\"\"\n",
    "    requires: l1 uma lista\n",
    "    requires: l2 uma lista\n",
    "    ensures: devolve uma lista que contém os elementos de l1 que não estão\n",
    "             em l2. As listas l1 e l2 não são alteradas.\n",
    "             \n",
    "    >>> diferenca([], [])\n",
    "    []\n",
    "    \n",
    "    >>> diferenca([1,2,3], [1,2,3])\n",
    "    []\n",
    "    \n",
    "    >>> diferenca([], [1])\n",
    "    []\n",
    "    \n",
    "    >>> diferenca([1,2], [])\n",
    "    [1, 2]\n",
    "    \n",
    "    >>> diferenca([1,2,3], [1,2])\n",
    "    [3]\n",
    "    \"\"\"\n",
    "    result = l1\n",
    "    i = 1\n",
    "    while i < len(l1):\n",
    "        if i in l2:\n",
    "            result.remove(i)\n",
    "        i += 1\n",
    "    return result"
   ]
  },
  {
   "cell_type": "code",
   "execution_count": 84,
   "metadata": {
    "collapsed": false
   },
   "outputs": [
    {
     "name": "stdout",
     "output_type": "stream",
     "text": [
      "**********************************************************************\n",
      "File \"__main__\", line 11, in __main__.diferenca\n",
      "Failed example:\n",
      "    diferenca([1,2,3], [1,2,3])\n",
      "Expected:\n",
      "    []\n",
      "Got:\n",
      "    [2, 3]\n",
      "**********************************************************************\n",
      "File \"__main__\", line 20, in __main__.diferenca\n",
      "Failed example:\n",
      "    diferenca([1,2,3], [1,2])\n",
      "Expected:\n",
      "    [3]\n",
      "Got:\n",
      "    [2, 3]\n",
      "**********************************************************************\n",
      "1 items had failures:\n",
      "   2 of   5 in __main__.diferenca\n",
      "***Test Failed*** 2 failures.\n"
     ]
    },
    {
     "data": {
      "text/plain": [
       "TestResults(failed=2, attempted=48)"
      ]
     },
     "execution_count": 84,
     "metadata": {},
     "output_type": "execute_result"
    }
   ],
   "source": [
    "doctest.testmod()"
   ]
  },
  {
   "cell_type": "markdown",
   "metadata": {},
   "source": [
    "b) Ao executar os testes, o que pode concluir sobre a correção da função?\n",
    "Consegue escrever algum teste que falhe?\n",
    "\n",
    "A função falhou em dois dos testes. A função aparenta ter um erro que apaga apenas o 1º elemento, se ele existir na 2ª lista.\n",
    "\n",
    "c) Faça o teste e depuração da função com vista a determinar o erro (ou erros)\n",
    "que a função possui. Recorra à impressão de valores intermédios para tentar\n",
    "identificar os erros."
   ]
  },
  {
   "cell_type": "code",
   "execution_count": 85,
   "metadata": {
    "collapsed": false
   },
   "outputs": [
    {
     "name": "stdout",
     "output_type": "stream",
     "text": [
      "checking index i = 1 where l1[i] is 2\n",
      "** the element exists in l2, let's remove it\n",
      "checking index i = 2 where l1[i] is 4\n",
      "** the element exists in l2, let's remove it\n"
     ]
    },
    {
     "data": {
      "text/plain": [
       "[3, 4]"
      ]
     },
     "execution_count": 85,
     "metadata": {},
     "output_type": "execute_result"
    }
   ],
   "source": [
    "def diferenca(l1, l2):\n",
    "    \"\"\"\n",
    "    requires: l1 uma lista\n",
    "    requires: l2 uma lista\n",
    "    ensures: devolve uma lista que contém os elementos de l1 que não estão\n",
    "             em l2. As listas l1 e l2 não são alteradas.\n",
    "    \"\"\"\n",
    "    result = l1\n",
    "    i = 1\n",
    "    while i < len(l1):\n",
    "        print \"checking index i =\", i, \"where l1[i] is\", l1[i]\n",
    "        if i in l2:\n",
    "            print \"** the element exists in l2, let's remove it\"\n",
    "            result.remove(i)\n",
    "        i += 1\n",
    "    return result\n",
    "\n",
    "diferenca([1,2,3,4], [1,2,3])"
   ]
  },
  {
   "cell_type": "markdown",
   "metadata": {},
   "source": [
    "A função não começou no inicío e também não verificou o último elemento! Para além disso há um problema com o índice com o elemento da lista: l1[2] não é 4 (!)\n",
    "\n",
    "O primeiro problema tem a ver com a variável de progresso que se inicia no 1 e não no 0. De qualquer forma, podemos evitá-la, criando um ciclo for diretamente sobre os elementos:"
   ]
  },
  {
   "cell_type": "code",
   "execution_count": 86,
   "metadata": {
    "collapsed": false
   },
   "outputs": [
    {
     "name": "stdout",
     "output_type": "stream",
     "text": [
      "checking element 1\n",
      "** the element exists in l2, let's remove it\n",
      "checking element 3\n",
      "** the element exists in l2, let's remove it\n"
     ]
    },
    {
     "data": {
      "text/plain": [
       "[2, 4]"
      ]
     },
     "execution_count": 86,
     "metadata": {},
     "output_type": "execute_result"
    }
   ],
   "source": [
    "def diferenca(l1, l2):\n",
    "    \"\"\"\n",
    "    requires: l1 uma lista\n",
    "    requires: l2 uma lista\n",
    "    ensures: devolve uma lista que contém os elementos de l1 que não estão\n",
    "             em l2. As listas l1 e l2 não são alteradas.\n",
    "    \"\"\"\n",
    "    result = l1\n",
    "    for element in result:\n",
    "        print \"checking element\", element\n",
    "        if element in l2:\n",
    "            print \"** the element exists in l2, let's remove it\"\n",
    "            result.remove(element)\n",
    "    return result\n",
    "\n",
    "diferenca([1,2,3,4], [1,2,3])"
   ]
  },
  {
   "cell_type": "markdown",
   "metadata": {},
   "source": [
    "Mas detectamos outro problema: a função não passou pelo elemento 2 da lista l1. Após análise do código percebemos outro erro: estamos a remover da lista resultado, mas esta representa a mesma lista original, que seria suposto não se modificar para o ciclo poder funcionar correctamente! Este problema existe porque as listas em Python são objectos mutáveis. Precisamos criar um clone da lista original l1 e colocar esta no cabeçalho do ciclo:"
   ]
  },
  {
   "cell_type": "code",
   "execution_count": 87,
   "metadata": {
    "collapsed": false
   },
   "outputs": [
    {
     "name": "stdout",
     "output_type": "stream",
     "text": [
      "checking element 1\n",
      "** the element exists in l2, let's remove it\n",
      "checking element 2\n",
      "** the element exists in l2, let's remove it\n",
      "checking element 3\n",
      "** the element exists in l2, let's remove it\n",
      "checking element 4\n"
     ]
    },
    {
     "data": {
      "text/plain": [
       "[4]"
      ]
     },
     "execution_count": 87,
     "metadata": {},
     "output_type": "execute_result"
    }
   ],
   "source": [
    "def diferenca(l1, l2):\n",
    "    \"\"\"\n",
    "    requires: l1 uma lista\n",
    "    requires: l2 uma lista\n",
    "    ensures: devolve uma lista que contém os elementos de l1 que não estão\n",
    "             em l2. As listas l1 e l2 não são alteradas.\n",
    "    \"\"\"\n",
    "    result = l1[:]\n",
    "    for element in l1:\n",
    "        print \"checking element\", element\n",
    "        if element in l2:\n",
    "            print \"** the element exists in l2, let's remove it\"\n",
    "            result.remove(element)\n",
    "    return result\n",
    "\n",
    "diferenca([1,2,3,4], [1,2,3])"
   ]
  },
  {
   "cell_type": "markdown",
   "metadata": {},
   "source": [
    "Vamos novamente verificar a função com os nossos testes:"
   ]
  },
  {
   "cell_type": "code",
   "execution_count": 88,
   "metadata": {
    "collapsed": false
   },
   "outputs": [],
   "source": [
    "def diferenca(l1, l2):\n",
    "    \"\"\"\n",
    "    requires: l1 uma lista\n",
    "    requires: l2 uma lista\n",
    "    ensures: devolve uma lista que contém os elementos de l1 que não estão\n",
    "             em l2. As listas l1 e l2 não são alteradas.\n",
    "             \n",
    "    >>> diferenca([], [])\n",
    "    []\n",
    "    \n",
    "    >>> diferenca([1,2,3], [1,2,3])\n",
    "    []\n",
    "    \n",
    "    >>> diferenca([], [1])\n",
    "    []\n",
    "    \n",
    "    >>> diferenca([1,2], [])\n",
    "    [1, 2]\n",
    "    \n",
    "    >>> diferenca([1,2,3], [1,2])\n",
    "    [3]\n",
    "    \"\"\"\n",
    "    result = l1[:]\n",
    "    for element in l1:\n",
    "        if element in l2:\n",
    "            result.remove(element)\n",
    "    return result"
   ]
  },
  {
   "cell_type": "code",
   "execution_count": 89,
   "metadata": {
    "collapsed": false
   },
   "outputs": [
    {
     "data": {
      "text/plain": [
       "TestResults(failed=0, attempted=48)"
      ]
     },
     "execution_count": 89,
     "metadata": {},
     "output_type": "execute_result"
    }
   ],
   "source": [
    "doctest.testmod()"
   ]
  },
  {
   "cell_type": "markdown",
   "metadata": {},
   "source": [
    "2) Considere os seguintes testes unitários de uma função f.\n",
    "\n",
    "    >>> f (1,1,0)\n",
    "    [[0]]\n",
    "    >>> f (3,3,1)\n",
    "    [[1, 1, 1], [1, 1, 1], [1, 1, 1]]\n",
    "    >>> f (1, 5, 0)\n",
    "    [[0, 0, 0, 0, 0]]\n",
    "    >>> f (5, 1, 2)\n",
    "    [[2], [2], [2], [2], [2]]\n",
    "\n",
    "a) Implemente uma função f que passe os testes acima.\n",
    "\n",
    "b) Descreva o que faz a função que desenvolveu e elabore o seu contrato."
   ]
  },
  {
   "cell_type": "code",
   "execution_count": 90,
   "metadata": {
    "collapsed": true
   },
   "outputs": [],
   "source": [
    "def f(rows, cols, n):\n",
    "    \"\"\"\n",
    "    Returns a matrix sized *rows* x *cols*, in list form, initialized with value *n*\n",
    "    \n",
    "    >>> f (1,1,0)\n",
    "    [[0]]\n",
    "    \n",
    "    >>> f (3,3,1)\n",
    "    [[1, 1, 1], [1, 1, 1], [1, 1, 1]]\n",
    "    \n",
    "    >>> f (1, 5, 0)\n",
    "    [[0, 0, 0, 0, 0]]\n",
    "    \n",
    "    >>> f (5, 1, 2)\n",
    "    [[2], [2], [2], [2], [2]]\n",
    "    \"\"\"\n",
    "    return [[n]*cols]*rows"
   ]
  },
  {
   "cell_type": "code",
   "execution_count": 91,
   "metadata": {
    "collapsed": false
   },
   "outputs": [
    {
     "data": {
      "text/plain": [
       "TestResults(failed=0, attempted=48)"
      ]
     },
     "execution_count": 91,
     "metadata": {},
     "output_type": "execute_result"
    }
   ],
   "source": [
    "doctest.testmod()"
   ]
  },
  {
   "cell_type": "markdown",
   "metadata": {},
   "source": [
    "3) Considere a função seguinte que obtém uma dada coluna de uma matriz. Uma matriz pode ser representada com uma lista de listas todas com o mesmo\n",
    "comprimento. "
   ]
  },
  {
   "cell_type": "code",
   "execution_count": 92,
   "metadata": {
    "collapsed": true
   },
   "outputs": [],
   "source": [
    "def obter_coluna(matriz, coluna):\n",
    "    \"\"\"\n",
    "    requires: matriz uma lista de listas em que todas as listas internas\n",
    "    tem o mesmo comprimento.\n",
    "    requires: coluna um inteiro >= 0 e < len(matriz[0])\n",
    "    ensures: uma lista correspondente a coluna-esima coluna da matriz\n",
    "    \"\"\"\n",
    "    return [matriz[i][coluna] for i in range(len(matriz))]"
   ]
  },
  {
   "cell_type": "markdown",
   "metadata": {},
   "source": [
    "a) Escreva testes convenientes para a função, explorando os valores possíveis\n",
    "para matriz e coluna, sem violar o contrato. Por exemplo, tente com a lista\n",
    "vazia, com a lista que só tem uma lista de comprimento 0 como elemento,\n",
    "uma lista só com um elemento com comprimento maior do que zero, uma\n",
    "lista com vários elementos todos com comprimento 1, etc."
   ]
  },
  {
   "cell_type": "code",
   "execution_count": 93,
   "metadata": {
    "collapsed": true
   },
   "outputs": [],
   "source": [
    "def obter_coluna(matriz, coluna):\n",
    "    \"\"\"\n",
    "    requires: matriz uma lista de listas em que todas as listas internas\n",
    "    tem o mesmo comprimento.\n",
    "    requires: coluna um inteiro >= 0 e < len(matriz[0])\n",
    "    ensures: uma lista correspondente a coluna-esima coluna da matriz\n",
    "    \n",
    "    >>> obter_coluna([[1],[2]],0)\n",
    "    [1, 2]\n",
    "    \n",
    "    >>> obter_coluna([[1],[2],[3]],0)\n",
    "    [1, 2, 3]\n",
    "    \n",
    "    >>> obter_coluna([[1,2,3],[4,5,6]],0)\n",
    "    [1, 4]\n",
    "    \n",
    "    >>> obter_coluna([[1,2,3],[4,5,6]],1)\n",
    "    [2, 5]\n",
    "    \n",
    "    >>> obter_coluna([[1,2,3],[4,5,6],[7,8,9]],1)\n",
    "    [2, 5, 8]\n",
    "    \"\"\"\n",
    "    return [matriz[i][coluna] for i in range(len(matriz))]"
   ]
  },
  {
   "cell_type": "code",
   "execution_count": 94,
   "metadata": {
    "collapsed": false
   },
   "outputs": [
    {
     "data": {
      "text/plain": [
       "TestResults(failed=0, attempted=45)"
      ]
     },
     "execution_count": 94,
     "metadata": {},
     "output_type": "execute_result"
    }
   ],
   "source": [
    "doctest.testmod()"
   ]
  },
  {
   "cell_type": "markdown",
   "metadata": {},
   "source": [
    "b) Rescreva a função utilizando ciclos for."
   ]
  },
  {
   "cell_type": "code",
   "execution_count": 95,
   "metadata": {
    "collapsed": true
   },
   "outputs": [],
   "source": [
    "def obter_coluna(matriz, coluna):\n",
    "    \"\"\"\n",
    "    requires: matriz uma lista de listas em que todas as listas internas\n",
    "    tem o mesmo comprimento.\n",
    "    requires: coluna um inteiro >= 0 e < len(matriz[0])\n",
    "    ensures: uma lista correspondente a coluna-esima coluna da matriz\n",
    "    \n",
    "    >>> obter_coluna([[1],[2]],0)\n",
    "    [1, 2]\n",
    "    \n",
    "    >>> obter_coluna([[1],[2],[3]],0)\n",
    "    [1, 2, 3]\n",
    "    \n",
    "    >>> obter_coluna([[1,2,3],[4,5,6]],0)\n",
    "    [1, 4]\n",
    "    \n",
    "    >>> obter_coluna([[1,2,3],[4,5,6]],1)\n",
    "    [2, 5]\n",
    "    \n",
    "    >>> obter_coluna([[1,2,3],[4,5,6],[7,8,9]],1)\n",
    "    [2, 5, 8]\n",
    "    \"\"\"\n",
    "    \n",
    "    resultado = []\n",
    "    for linha in matriz:\n",
    "        resultado.append(linha[coluna])\n",
    "    \n",
    "    return resultado"
   ]
  },
  {
   "cell_type": "code",
   "execution_count": 96,
   "metadata": {
    "collapsed": false
   },
   "outputs": [
    {
     "data": {
      "text/plain": [
       "TestResults(failed=0, attempted=45)"
      ]
     },
     "execution_count": 96,
     "metadata": {},
     "output_type": "execute_result"
    }
   ],
   "source": [
    "doctest.testmod()"
   ]
  },
  {
   "cell_type": "markdown",
   "metadata": {},
   "source": [
    "c) Elabore testes que exercitem o maior número de fluxos de execução\n",
    "possíveis da função desenvolvida em b). Para os ciclos, elabore um teste que\n",
    "não entre no ciclo, outro que entre no ciclo e execute um passo, e outro que\n",
    "execute vários passos."
   ]
  },
  {
   "cell_type": "code",
   "execution_count": 97,
   "metadata": {
    "collapsed": true
   },
   "outputs": [],
   "source": [
    "def obter_coluna(matriz, coluna):\n",
    "    \"\"\"\n",
    "    requires: matriz uma lista de listas em que todas as listas internas\n",
    "    tem o mesmo comprimento.\n",
    "    requires: coluna um inteiro >= 0 e < len(matriz[0])\n",
    "    ensures: uma lista correspondente a coluna-esima coluna da matriz\n",
    "    \n",
    "    *** Black-box Testing ***\n",
    "    \n",
    "    >>> obter_coluna([[1],[2]],0)\n",
    "    [1, 2]\n",
    "    \n",
    "    >>> obter_coluna([[1],[2],[3]],0)\n",
    "    [1, 2, 3]\n",
    "    \n",
    "    >>> obter_coluna([[1,2,3],[4,5,6]],0)\n",
    "    [1, 4]\n",
    "    \n",
    "    >>> obter_coluna([[1,2,3],[4,5,6]],1)\n",
    "    [2, 5]\n",
    "    \n",
    "    >>> obter_coluna([[1,2,3],[4,5,6],[7,8,9]],1)\n",
    "    [2, 5, 8]\n",
    "    \n",
    "    *** Glass-box Testing ***\n",
    "    \n",
    "    Teste que não entra no ciclo:\n",
    "    >>> obter_coluna([],0)\n",
    "    []\n",
    "    \n",
    "    Teste que executa o ciclo apenas um passo:\n",
    "    >>> obter_coluna([[1,2,3]],0)\n",
    "    [1]\n",
    "    \n",
    "    Teste que executa vários passos:\n",
    "    >>> obter_coluna([[1,2,3],[1,2,3],[3,2,1],[10,43,76]],2)\n",
    "    [3, 3, 1, 76]\n",
    "    \"\"\"\n",
    "    \n",
    "    resultado = []\n",
    "    for linha in matriz:\n",
    "        resultado.append(linha[coluna])\n",
    "    \n",
    "    return resultado"
   ]
  },
  {
   "cell_type": "code",
   "execution_count": 98,
   "metadata": {
    "collapsed": false
   },
   "outputs": [
    {
     "data": {
      "text/plain": [
       "TestResults(failed=0, attempted=48)"
      ]
     },
     "execution_count": 98,
     "metadata": {},
     "output_type": "execute_result"
    }
   ],
   "source": [
    "doctest.testmod()"
   ]
  },
  {
   "cell_type": "markdown",
   "metadata": {},
   "source": [
    "5) Considere a seguinte especificação de uma função:"
   ]
  },
  {
   "cell_type": "code",
   "execution_count": 99,
   "metadata": {
    "collapsed": true
   },
   "outputs": [],
   "source": [
    "def obter_diagonal(matriz, linha, coluna, direc):\n",
    "    \"\"\"\n",
    "    requires: matriz uma lista de listas em que todas as listas internas tem o mesmo comprimento.\n",
    "    requires: linha um inteiro >= 0 e < len(matriz)\n",
    "    requires: coluna um inteiro >= 0 e < len(matriz[0])\n",
    "    requires: direc um inteiro = 1, que significa uma diagonal direita que se prolonga de\n",
    "              cima para baixo, da esquerda para a direita; ou -1, que significa uma \n",
    "              diagonal esquerda que se prolonga de cima para baixo, da direita para a esquerda\n",
    "    ensures:  uma lista que corresponde a diagonal de matriz que passa pela posicao linha,\n",
    "              coluna com a direcao direc\n",
    "    \"\"\""
   ]
  },
  {
   "cell_type": "markdown",
   "metadata": {},
   "source": [
    "a) Sem programar a função escreva casos de teste para todas as situações\n",
    "possível para a matriz [[1,2,3,4], [5,6,7,8], [9,10,11,12]] e guarde-os\n",
    "num ficheiro próprio. Ao todo são 24 casos de teste. Segue o exemplo do\n",
    "caso de teste para a posição 0, 0.\n",
    "\n",
    "    >>> obter_diagonal ([[1,2,3,4],[5,6,7,8],[9,10,11,12]], 0, 0, 1)\n",
    "    [1, 6, 11]"
   ]
  },
  {
   "cell_type": "code",
   "execution_count": 100,
   "metadata": {
    "collapsed": true
   },
   "outputs": [],
   "source": [
    "def obter_diagonal(matriz, linha, coluna, direc):\n",
    "    \"\"\"\n",
    "    requires: matriz uma lista de listas em que todas as listas internas tem o mesmo comprimento.\n",
    "    requires: linha um inteiro >= 0 e < len(matriz)\n",
    "    requires: coluna um inteiro >= 0 e < len(matriz[0])\n",
    "    requires: direc um inteiro = 1, que significa uma diagonal direita que se prolonga de\n",
    "              cima para baixo, da esquerda para a direita; ou -1, que significa uma \n",
    "              diagonal esquerda que se prolonga de cima para baixo, da direita para a esquerda\n",
    "    ensures:  uma lista que corresponde a diagonal de matriz que passa pela posicao linha,\n",
    "              coluna com a direcao direc\n",
    "              \n",
    "    >>> obter_diagonal ([[1,2,3,4],[5,6,7,8],[9,10,11,12]], 0, 0, 1)\n",
    "    [1, 6, 11]\n",
    "              \n",
    "    >>> obter_diagonal ([[1,2,3,4],[5,6,7,8],[9,10,11,12]], 1, 0, 1)\n",
    "    [5, 10]\n",
    "              \n",
    "    >>> obter_diagonal ([[1,2,3,4],[5,6,7,8],[9,10,11,12]], 0, 4, -1)\n",
    "    [4, 7, 10]\n",
    "              \n",
    "    >>> obter_diagonal ([[1,2,3,4],[5,6,7,8],[9,10,11,12]], 1, 1, -1)\n",
    "    [6, 9]\n",
    "    \"\"\""
   ]
  },
  {
   "cell_type": "markdown",
   "metadata": {},
   "source": [
    "b) Verifique se a função seguinte passa os testes que escreveu."
   ]
  },
  {
   "cell_type": "code",
   "execution_count": 101,
   "metadata": {
    "collapsed": true
   },
   "outputs": [],
   "source": [
    "def obter_diagonal(matriz, linha, coluna, direc):\n",
    "    \"\"\"\n",
    "    requires: matriz uma lista de listas em que todas as listas internas tem o mesmo comprimento.\n",
    "    requires: linha um inteiro >= 0 e < len(matriz)\n",
    "    requires: coluna um inteiro >= 0 e < len(matriz[0])\n",
    "    requires: direc um inteiro = 1, que significa uma diagonal direita que se prolonga de\n",
    "              cima para baixo, da esquerda para a direita; ou -1, que significa uma \n",
    "              diagonal esquerda que se prolonga de cima para baixo, da direita para a esquerda\n",
    "    ensures:  uma lista que corresponde a diagonal de matriz que passa pela posicao linha,\n",
    "              coluna com a direcao direc\n",
    "              \n",
    "    >>> obter_diagonal ([[1,2,3,4],[5,6,7,8],[9,10,11,12]], 0, 0, 1)\n",
    "    [1, 6, 11]\n",
    "              \n",
    "    >>> obter_diagonal ([[1,2,3,4],[5,6,7,8],[9,10,11,12]], 1, 0, 1)\n",
    "    [5, 10]\n",
    "              \n",
    "    >>> obter_diagonal ([[1,2,3,4],[5,6,7,8],[9,10,11,12]], 0, 3, -1)\n",
    "    [4, 7, 10]\n",
    "              \n",
    "    >>> obter_diagonal ([[1,2,3,4],[5,6,7,8],[9,10,11,12]], 1, 1, -1)\n",
    "    [6, 9]\n",
    "    \"\"\"\n",
    "    if direc == 1:\n",
    "        l_i = linha - min (linha, len(matriz[0]) - 1 - coluna)\n",
    "        c_i = coluna + min (linha, len(matriz[0]) - 1 - coluna)\n",
    "        c_f = coluna - min (len(matriz) - linha, coluna)\n",
    "    else:\n",
    "        l_i = max (0, linha - coluna)\n",
    "        c_i = max (0, coluna - linha)\n",
    "        c_f = coluna + min(len(matriz) - linha, len(matriz[0]) - coluna)\n",
    "    return [matriz[l_i+i][c_i+i*direc] for i in range(abs(c_f-c_i))]"
   ]
  },
  {
   "cell_type": "code",
   "execution_count": 102,
   "metadata": {
    "collapsed": false
   },
   "outputs": [
    {
     "name": "stdout",
     "output_type": "stream",
     "text": [
      "**********************************************************************\n",
      "File \"__main__\", line 12, in __main__.obter_diagonal\n",
      "Failed example:\n",
      "    obter_diagonal ([[1,2,3,4],[5,6,7,8],[9,10,11,12]], 0, 0, 1)\n",
      "Expected:\n",
      "    [1, 6, 11]\n",
      "Got:\n",
      "    []\n",
      "**********************************************************************\n",
      "File \"__main__\", line 15, in __main__.obter_diagonal\n",
      "Failed example:\n",
      "    obter_diagonal ([[1,2,3,4],[5,6,7,8],[9,10,11,12]], 1, 0, 1)\n",
      "Expected:\n",
      "    [5, 10]\n",
      "Got:\n",
      "    [2]\n",
      "**********************************************************************\n",
      "File \"__main__\", line 18, in __main__.obter_diagonal\n",
      "Failed example:\n",
      "    obter_diagonal ([[1,2,3,4],[5,6,7,8],[9,10,11,12]], 0, 3, -1)\n",
      "Expected:\n",
      "    [4, 7, 10]\n",
      "Got:\n",
      "    [4]\n",
      "**********************************************************************\n",
      "File \"__main__\", line 21, in __main__.obter_diagonal\n",
      "Failed example:\n",
      "    obter_diagonal ([[1,2,3,4],[5,6,7,8],[9,10,11,12]], 1, 1, -1)\n",
      "Expected:\n",
      "    [6, 9]\n",
      "Got:\n",
      "    [1, 8, 11]\n",
      "**********************************************************************\n",
      "1 items had failures:\n",
      "   4 of   4 in __main__.obter_diagonal\n",
      "***Test Failed*** 4 failures.\n"
     ]
    },
    {
     "data": {
      "text/plain": [
       "TestResults(failed=4, attempted=46)"
      ]
     },
     "execution_count": 102,
     "metadata": {},
     "output_type": "execute_result"
    }
   ],
   "source": [
    "doctest.testmod()"
   ]
  },
  {
   "cell_type": "markdown",
   "metadata": {},
   "source": [
    "c) Faça depuração por bissecção do código para tentar identificar os problemas\n",
    "da função, recorrendo apenas a comandos de escrita (e sem recorrer ao\n",
    "depurador do idle).\n",
    "\n",
    "d) Programe a sua própria versão da função e garante que esta passa os testes\n",
    "que escreveu."
   ]
  },
  {
   "cell_type": "code",
   "execution_count": 103,
   "metadata": {
    "collapsed": false
   },
   "outputs": [],
   "source": [
    "def obter_diagonal(matriz, linha, coluna, direc):\n",
    "    \"\"\"\n",
    "    requires: matriz uma lista de listas em que todas as listas internas tem o mesmo comprimento.\n",
    "    requires: linha um inteiro >= 0 e < len(matriz)\n",
    "    requires: coluna um inteiro >= 0 e < len(matriz[0])\n",
    "    requires: direc um inteiro = 1, que significa uma diagonal direita que se prolonga de\n",
    "              cima para baixo, da esquerda para a direita; ou -1, que significa uma \n",
    "              diagonal esquerda que se prolonga de cima para baixo, da direita para a esquerda\n",
    "    ensures:  uma lista que corresponde a diagonal de matriz que passa pela posicao linha,\n",
    "              coluna com a direcao direc\n",
    "              \n",
    "    >>> obter_diagonal ([[1,2,3,4],[5,6,7,8],[9,10,11,12]], 0, 0, 1)\n",
    "    [1, 6, 11]\n",
    "              \n",
    "    >>> obter_diagonal ([[1,2,3,4],[5,6,7,8],[9,10,11,12]], 0, 0, -1)\n",
    "    [1]\n",
    "              \n",
    "    >>> obter_diagonal ([[1,2,3,4],[5,6,7,8],[9,10,11,12]], 1, 0, 1)\n",
    "    [5, 10]\n",
    "              \n",
    "    >>> obter_diagonal ([[1,2,3,4],[5,6,7,8],[9,10,11,12]], 0, 3, -1)\n",
    "    [4, 7, 10]\n",
    "              \n",
    "    >>> obter_diagonal ([[1,2,3,4],[5,6,7,8],[9,10,11,12]], 1, 1, -1)\n",
    "    [6, 9]\n",
    "              \n",
    "    >>> obter_diagonal ([[1,2,3,4],[5,6,7,8],[9,10,11,12]], 1, 2, 1)\n",
    "    [7, 12]\n",
    "    \"\"\"\n",
    "    l_i, c_i = linha, coluna\n",
    "    if direc == -1:\n",
    "        c_f = coluna - min(len(matriz) - linha, coluna + 1)\n",
    "    else:\n",
    "        c_f = coluna + min(len(matriz) - linha, len(matriz[0]) - coluna)\n",
    "    # print l_i, c_i, c_f\n",
    "    return [matriz[l_i+i][c_i+i*direc] for i in range(abs(c_f-c_i))]\n",
    "\n",
    "# print obter_diagonal ([[1,2,3,4],[5,6,7,8],[9,10,11,12]], 1, 1, -1)\n",
    "# print obter_diagonal ([[1,2,3,4],[5,6,7,8],[9,10,11,12]], 0, 3, -1)"
   ]
  },
  {
   "cell_type": "code",
   "execution_count": 104,
   "metadata": {
    "collapsed": false
   },
   "outputs": [
    {
     "data": {
      "text/plain": [
       "TestResults(failed=0, attempted=48)"
      ]
     },
     "execution_count": 104,
     "metadata": {},
     "output_type": "execute_result"
    }
   ],
   "source": [
    "doctest.testmod()"
   ]
  }
 ],
 "metadata": {
  "kernelspec": {
   "display_name": "Python 2",
   "language": "python",
   "name": "python2"
  },
  "language_info": {
   "codemirror_mode": {
    "name": "ipython",
    "version": 2
   },
   "file_extension": ".py",
   "mimetype": "text/x-python",
   "name": "python",
   "nbconvert_exporter": "python",
   "pygments_lexer": "ipython2",
   "version": "2.7.10"
  }
 },
 "nbformat": 4,
 "nbformat_minor": 0
}
