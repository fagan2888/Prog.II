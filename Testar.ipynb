{
 "cells": [
  {
   "cell_type": "markdown",
   "metadata": {},
   "source": [
    "## Testes"
   ]
  },
  {
   "cell_type": "markdown",
   "metadata": {},
   "source": [
    "Um programa é escrito para resolver um problema previamente especificado. A correção de um programa depende se este é capaz ou não de devolver as soluções desejadas na especificação.\n",
    "\n",
    "Testar é um processo de _verificação_ da correção de um programa. \n",
    "\n",
    "Os testes permitem encontrar erros e diminuir assim o número de _bugs_. Quando mais extensivos os testes mais o programador fica seguro da qualidade do respectivo programa. Porém, no geral, nenhuma quantidade de testes é suficiente para _demonstrar_ a correção de um programa.\n",
    "\n",
    "Usaremos dois tipos de testes que se complementam:\n",
    "    \n",
    "+ **Black Box Testing**: são testes criados a partir da especificação do programa, sem observar a implementação concreta. Estes testes podem ser criados antes mesmo da implementação do próprio programa, dado serem independentes dessa implementação.\n",
    "\n",
    "    Normalmente estes testes derivam dos contratos das funções. É aconselhável criar testes nos limites aceites para os argumentos, pois é comum a existência de erros nestes casos limites.\n",
    "\n",
    "\n",
    "+ **Glass box testing**: estes são testes que observam a implementação e tentam testar todos os fluxos possíveis. Isto é, se houver ciclos ou condicionais, estes testes devem ser construídos criando valores de input que passem por todas as combinações possíveis de valores para as guardas que existem na função. Se um teste destes conseguir passar por todos os passos diz-se ser **path-complete**. Pode acontecer que um dado caminho não pode ser alcançado; estes casos designam-se como **testes inviáveis**."
   ]
  },
  {
   "cell_type": "markdown",
   "metadata": {},
   "source": [
    "Cada teste pertencerá a uma dada função Python. Aqui usaremos a biblioteca <code>doctest</code> que coloca os testes na descrição da respectiva função usando uma sintaxe própria (cf. exemplos seguintes). \n",
    "\n",
    "Mais informações em [https://docs.python.org/2/library/doctest.html](https://docs.python.org/2/library/doctest.html)."
   ]
  },
  {
   "cell_type": "code",
   "execution_count": 3,
   "metadata": {
    "collapsed": true
   },
   "outputs": [],
   "source": [
    "import doctest"
   ]
  },
  {
   "cell_type": "markdown",
   "metadata": {},
   "source": [
    "Um exemplo de uso:"
   ]
  },
  {
   "cell_type": "code",
   "execution_count": 32,
   "metadata": {
    "collapsed": true
   },
   "outputs": [],
   "source": [
    "def soma_divisores(n):\n",
    "    \"\"\"\n",
    "    Requires: n inteiro > 0\n",
    "    Ensures: um inteiro com a soma dos divisores de *n* maiores que 1 e menores que *n*\n",
    "    \n",
    "    >>> soma_divisores(1)\n",
    "    0\n",
    "    \n",
    "    >>> soma_divisores(1800)\n",
    "    4244\n",
    "    \n",
    "    >>> [soma_divisores(x) for x in range(3,10)] \n",
    "    [0, 2, 0, 5, 0, 6, 3]\n",
    "    \n",
    "    >>> [soma_divisores(x) \n",
    "    ...       for x in range(11,40)]        # doctest: +NORMALIZE_WHITESPACE\n",
    "    [0, 15, 0, 9, 8, 14, 0, 20, 0, 21, 10, 13, 0, 35, 5, \n",
    "    15, 12, 27, 0, 41, 0, 30, 14, 19, 12, 54, 0, 21, 16]\n",
    "    \"\"\"\n",
    "    soma = 0\n",
    "    for i in range(2, n):\n",
    "        if n % i == 0:\n",
    "            soma += i\n",
    "    return soma"
   ]
  },
  {
   "cell_type": "markdown",
   "metadata": {},
   "source": [
    "Uma vez definidos os testes podemos executá-los através da invocação da função <code>testmod<code>:"
   ]
  },
  {
   "cell_type": "code",
   "execution_count": 33,
   "metadata": {
    "collapsed": false
   },
   "outputs": [
    {
     "data": {
      "text/plain": [
       "TestResults(failed=0, attempted=25)"
      ]
     },
     "execution_count": 33,
     "metadata": {},
     "output_type": "execute_result"
    }
   ],
   "source": [
    "doctest.testmod()"
   ]
  },
  {
   "cell_type": "markdown",
   "metadata": {},
   "source": [
    "## Folha 9"
   ]
  },
  {
   "cell_type": "markdown",
   "metadata": {},
   "source": [
    "### Exercícios"
   ]
  },
  {
   "cell_type": "markdown",
   "metadata": {},
   "source": [
    "2) As funções seguintes determinam se um dado número é perfeito (cuja\n",
    "definição já foi apresentada numa aula anterior) e a lista de números perfeitos\n",
    "até um dado número, recorrendo à função soma_divisores."
   ]
  },
  {
   "cell_type": "code",
   "execution_count": 34,
   "metadata": {
    "collapsed": false
   },
   "outputs": [],
   "source": [
    "def perfeito(numero):\n",
    "    return soma_divisores(numero) + 1 == numero\n",
    "\n",
    "def lista_perfeitos(numero):\n",
    "    perfeitos = []\n",
    "    for n in range(numero):\n",
    "        if perfeito(n):\n",
    "            perfeitos.append(n)\n",
    "    return perfeitos"
   ]
  },
  {
   "cell_type": "markdown",
   "metadata": {},
   "source": [
    "a) Escreva os contratos das funções perfeito e lista_perfeitos."
   ]
  },
  {
   "cell_type": "code",
   "execution_count": 35,
   "metadata": {
    "collapsed": true
   },
   "outputs": [],
   "source": [
    "def perfeito(numero):\n",
    "    \"\"\"\n",
    "    Requires: numero is int && numero >= 0\n",
    "    Ensures:  returns True iff numero is a perfect number, ie, \n",
    "              equal to the sum of its divisors (except itself)\n",
    "              \n",
    "    The first perfect number is 6\n",
    "    >>> [perfeito(x) for x in range(7)]\n",
    "    [False, False, False, False, False, False, True]\n",
    "    \"\"\"\n",
    "    return soma_divisores(numero) + 1 == numero\n",
    "\n",
    "def lista_perfeitos(numero):\n",
    "    \"\"\"\n",
    "    Requires: numero is int && numero >= 0\n",
    "    Ensures:  returns the list with all the perfect numbers up to numero\n",
    "    \"\"\"\n",
    "    perfeitos = []\n",
    "    for n in range(numero):\n",
    "        if perfeito(n):\n",
    "            perfeitos.append(n)\n",
    "    return perfeitos"
   ]
  },
  {
   "cell_type": "code",
   "execution_count": 36,
   "metadata": {
    "collapsed": false
   },
   "outputs": [
    {
     "name": "stdout",
     "output_type": "stream",
     "text": [
      "**********************************************************************\n",
      "File \"__main__\", line 8, in __main__.perfeito\n",
      "Failed example:\n",
      "    [perfeito(x) for x in range(7)]\n",
      "Expected:\n",
      "    [False, False, False, False, False, False, True]\n",
      "Got:\n",
      "    [False, True, False, False, False, False, True]\n",
      "**********************************************************************\n",
      "1 items had failures:\n",
      "   1 of   1 in __main__.perfeito\n",
      "***Test Failed*** 1 failures.\n"
     ]
    },
    {
     "data": {
      "text/plain": [
       "TestResults(failed=1, attempted=21)"
      ]
     },
     "execution_count": 36,
     "metadata": {},
     "output_type": "execute_result"
    }
   ],
   "source": [
    "doctest.testmod()"
   ]
  },
  {
   "cell_type": "markdown",
   "metadata": {},
   "source": [
    "We found a bug in the function! Number 1 is not a perfect number. We need to update the function's implementation:"
   ]
  },
  {
   "cell_type": "code",
   "execution_count": 37,
   "metadata": {
    "collapsed": false
   },
   "outputs": [],
   "source": [
    "def perfeito(numero):\n",
    "    \"\"\"\n",
    "    Requires: numero is int && numero >= 0\n",
    "    Ensures:  returns True iff numero is a perfect number, ie, \n",
    "              equal to the sum of its divisors (except itself)\n",
    "              \n",
    "    The first perfect number is 6\n",
    "    >>> [perfeito(x) for x in range(7)]\n",
    "    [False, False, False, False, False, False, True]\n",
    "    \"\"\"\n",
    "    return numero>5 and soma_divisores(numero) + 1 == numero"
   ]
  },
  {
   "cell_type": "code",
   "execution_count": 38,
   "metadata": {
    "collapsed": false
   },
   "outputs": [
    {
     "data": {
      "text/plain": [
       "TestResults(failed=0, attempted=21)"
      ]
     },
     "execution_count": 38,
     "metadata": {},
     "output_type": "execute_result"
    }
   ],
   "source": [
    "doctest.testmod()"
   ]
  },
  {
   "cell_type": "markdown",
   "metadata": {},
   "source": [
    "d) Escreva testes para a função lista_perfeitos que cobra o fluxo de execução\n",
    "da função"
   ]
  },
  {
   "cell_type": "code",
   "execution_count": 39,
   "metadata": {
    "collapsed": true
   },
   "outputs": [],
   "source": [
    "def lista_perfeitos(numero):\n",
    "    \"\"\"\n",
    "    Requires: numero is int && numero >= 0\n",
    "    Ensures:  returns the list with all the perfect numbers up to numero\n",
    "    \n",
    "    Um teste que não entre no ciclo\n",
    "    >>> lista_perfeitos(0)\n",
    "    []\n",
    "    \n",
    "    Um teste que entre no ciclo, execute um único passo e que não entre no if\n",
    "    >>> lista_perfeitos(1)\n",
    "    []\n",
    "    \n",
    "    Um teste que entre no ciclo, execute um único passo e que entre no if\n",
    "    Teste inviável\n",
    "    \n",
    "    Um teste que entre no ciclo, execute vários passos do ciclo, entre no if e depois termine\n",
    "    >>> lista_perfeitos(7)\n",
    "    [6]\n",
    "    \n",
    "    Um teste que entre no ciclo, execute vários passos do ciclo, não entre no if e depois termine\n",
    "    >>> lista_perfeitos(1000)\n",
    "    [6, 28, 496]\n",
    "    \"\"\"\n",
    "    perfeitos = []\n",
    "    for n in range(numero):\n",
    "        if perfeito(n):\n",
    "            perfeitos.append(n)\n",
    "    return perfeitos"
   ]
  },
  {
   "cell_type": "code",
   "execution_count": 40,
   "metadata": {
    "collapsed": false
   },
   "outputs": [
    {
     "data": {
      "text/plain": [
       "TestResults(failed=0, attempted=25)"
      ]
     },
     "execution_count": 40,
     "metadata": {},
     "output_type": "execute_result"
    }
   ],
   "source": [
    "doctest.testmod()"
   ]
  },
  {
   "cell_type": "markdown",
   "metadata": {},
   "source": [
    "A pergunta 3) tem um código com erros:"
   ]
  },
  {
   "cell_type": "code",
   "execution_count": 41,
   "metadata": {
    "collapsed": true
   },
   "outputs": [],
   "source": [
    "def contar_repetidos_consecutivos(colecao, elemento):\n",
    "    \"\"\"\n",
    "    requires: colecao um iteravel\n",
    "    requires: elemento um objeto qualquer\n",
    "    ensures: um inteiro correspondente ao maior numero de vezes\n",
    "    que elemento aparece consecutivamente em colecao\n",
    "    >>> contar_repetidos_consecutivos([1,4,4,3,4,2,5,1,1,1,2], 4)\n",
    "    2\n",
    "    \"\"\"\n",
    "    iguais = 1\n",
    "    maior = 0\n",
    "    for valor in elemento:\n",
    "        if valor == elemento:\n",
    "            iguais += 1\n",
    "        else:\n",
    "            if iguais < maior:\n",
    "                maior = valor\n",
    "        iguais = 1\n",
    "    return maior if maior <= iguais else iguais"
   ]
  },
  {
   "cell_type": "code",
   "execution_count": 42,
   "metadata": {
    "collapsed": false
   },
   "outputs": [
    {
     "name": "stdout",
     "output_type": "stream",
     "text": [
      "**********************************************************************\n",
      "File \"__main__\", line 7, in __main__.contar_repetidos_consecutivos\n",
      "Failed example:\n",
      "    contar_repetidos_consecutivos([1,4,4,3,4,2,5,1,1,1,2], 4)\n",
      "Exception raised:\n",
      "    Traceback (most recent call last):\n",
      "      File \"C:\\Users\\jpn.INFORMATICA\\Software\\_Langs\\WinPython-64bit-2.7.10.1\\python-2.7.10.amd64\\lib\\doctest.py\", line 1315, in __run\n",
      "        compileflags, 1) in test.globs\n",
      "      File \"<doctest __main__.contar_repetidos_consecutivos[0]>\", line 1, in <module>\n",
      "        contar_repetidos_consecutivos([1,4,4,3,4,2,5,1,1,1,2], 4)\n",
      "      File \"<ipython-input-41-1b4929408ded>\", line 12, in contar_repetidos_consecutivos\n",
      "        for valor in elemento:\n",
      "    TypeError: 'int' object is not iterable\n",
      "**********************************************************************\n",
      "1 items had failures:\n",
      "   1 of   1 in __main__.contar_repetidos_consecutivos\n",
      "***Test Failed*** 1 failures.\n"
     ]
    },
    {
     "data": {
      "text/plain": [
       "TestResults(failed=1, attempted=18)"
      ]
     },
     "execution_count": 42,
     "metadata": {},
     "output_type": "execute_result"
    }
   ],
   "source": [
    "doctest.testmod()"
   ]
  },
  {
   "cell_type": "markdown",
   "metadata": {},
   "source": [
    " Uma possível correcção com os testes pedidos nas alíneas a) a e):"
   ]
  },
  {
   "cell_type": "code",
   "execution_count": 43,
   "metadata": {
    "collapsed": false
   },
   "outputs": [],
   "source": [
    "def contar_repetidos_consecutivos(colecao, elemento):\n",
    "    \"\"\"\n",
    "    requires: colecao um iteravel\n",
    "    requires: elemento um objeto qualquer\n",
    "    ensures: um inteiro correspondente ao maior numero de vezes\n",
    "    que elemento aparece consecutivamente em colecao\n",
    "    \n",
    "    >>> contar_repetidos_consecutivos([1,4,4,3,4,2,5,1,1,1,2], 4)\n",
    "    2\n",
    "    \n",
    "    >>> [contar_repetidos_consecutivos([1,4,4,3,4,2,5,1,1,1,2], x) for x in [1,2,4]]\n",
    "    [3, 1, 2]\n",
    "\n",
    "    >>> contar_repetidos_consecutivos(\"possivel\", 's')\n",
    "    2\n",
    "\n",
    "    >>> contar_repetidos_consecutivos([1,1,1,1,1,2,1,1,1], 1)\n",
    "    5\n",
    "\n",
    "    >>> contar_repetidos_consecutivos([1,1,1,1,1,2,1,1,1,1,1,1,1], 1)\n",
    "    7\n",
    "\n",
    "    >>> contar_repetidos_consecutivos([1,1,1,1,1,2,1,1,1,1,1,1,1], 3)\n",
    "    0\n",
    "\n",
    "    >>> contar_repetidos_consecutivos([1,1,1,1,1,1,1], 1)\n",
    "    7\n",
    "\n",
    "    >>> contar_repetidos_consecutivos([], 1)\n",
    "    0\n",
    "    \"\"\"\n",
    "    iguais, maior = 0, 0\n",
    "    for valor in colecao:\n",
    "        if valor == elemento:\n",
    "            iguais += 1\n",
    "        else:\n",
    "            if iguais > maior:\n",
    "                maior = iguais\n",
    "            iguais = 0\n",
    "    return max(maior, iguais)"
   ]
  },
  {
   "cell_type": "code",
   "execution_count": 44,
   "metadata": {
    "collapsed": false
   },
   "outputs": [
    {
     "data": {
      "text/plain": [
       "TestResults(failed=0, attempted=25)"
      ]
     },
     "execution_count": 44,
     "metadata": {},
     "output_type": "execute_result"
    }
   ],
   "source": [
    "doctest.testmod()"
   ]
  },
  {
   "cell_type": "markdown",
   "metadata": {},
   "source": [
    "4) A função seguinte informa a posição onde um elemento se encontra numa\n",
    "sequência ou devolve None caso o elemento não pertença à sequência."
   ]
  },
  {
   "cell_type": "code",
   "execution_count": 45,
   "metadata": {
    "collapsed": true
   },
   "outputs": [],
   "source": [
    "def encontra(sequencia, valor):\n",
    "    i = 0\n",
    "    for elemento in sequencia:\n",
    "        if valor == elemento:\n",
    "            return valor\n",
    "        else:\n",
    "            return None"
   ]
  },
  {
   "cell_type": "markdown",
   "metadata": {},
   "source": [
    "Incluíndo os testes pedidos na alínea a):"
   ]
  },
  {
   "cell_type": "code",
   "execution_count": 46,
   "metadata": {
    "collapsed": false
   },
   "outputs": [],
   "source": [
    "def encontra(sequencia, valor):\n",
    "    \"\"\"\n",
    "    Requires: uma *sequencia* de valores de um dado tipo, um *valor* desse tipo\n",
    "    Ensures:  retorna a 1a posição do elemento na sequência, ou None cc\n",
    "    \n",
    "    >>> encontra(\"abcde\",\"a\")\n",
    "    0\n",
    "\n",
    "    sequencia sem elementos;\n",
    "    >>> encontra([],0)\n",
    "    \n",
    "    sequencia com um só elemento e valor não pertencente a sequencia;\n",
    "    >>> encontra([1],0)\n",
    "    \n",
    "    sequencia com um só elemento e valor a pertencer a sequencia;\n",
    "    >>> encontra([1],1)\n",
    "    0\n",
    "    \n",
    "    sequencia com vários elementos e valor não pertencente a sequencia;\n",
    "    >>> encontra([1,2,3,4],5)\n",
    "    \n",
    "    sequencia com vários elementos e valor o primeiro valor da sequencia;\n",
    "    >>> encontra([1,2,3,4,5],1)\n",
    "    0\n",
    "    \n",
    "    sequencia com vários elementos e valor um dos valores do meio;\n",
    "    >>> encontra([1,2,3,4,5,6],3)\n",
    "    2\n",
    "        \n",
    "    sequencia com vários elementos e valor o último valor da sequencia.\n",
    "    >>> encontra([1,2,3,4,5],5)\n",
    "    4\n",
    "    \"\"\"\n",
    "        \n",
    "    i = 0\n",
    "    for elemento in sequencia:\n",
    "        if valor == elemento:\n",
    "            return valor\n",
    "        else:\n",
    "            return None"
   ]
  },
  {
   "cell_type": "code",
   "execution_count": 47,
   "metadata": {
    "collapsed": false
   },
   "outputs": [
    {
     "name": "stdout",
     "output_type": "stream",
     "text": [
      "**********************************************************************\n",
      "File \"__main__\", line 6, in __main__.encontra\n",
      "Failed example:\n",
      "    encontra(\"abcde\",\"a\")\n",
      "Expected:\n",
      "    0\n",
      "Got:\n",
      "    'a'\n",
      "**********************************************************************\n",
      "File \"__main__\", line 16, in __main__.encontra\n",
      "Failed example:\n",
      "    encontra([1],1)\n",
      "Expected:\n",
      "    0\n",
      "Got:\n",
      "    1\n",
      "**********************************************************************\n",
      "File \"__main__\", line 23, in __main__.encontra\n",
      "Failed example:\n",
      "    encontra([1,2,3,4,5],1)\n",
      "Expected:\n",
      "    0\n",
      "Got:\n",
      "    1\n",
      "**********************************************************************\n",
      "File \"__main__\", line 27, in __main__.encontra\n",
      "Failed example:\n",
      "    encontra([1,2,3,4,5,6],3)\n",
      "Expected:\n",
      "    2\n",
      "Got nothing\n",
      "**********************************************************************\n",
      "File \"__main__\", line 31, in __main__.encontra\n",
      "Failed example:\n",
      "    encontra([1,2,3,4,5],5)\n",
      "Expected:\n",
      "    4\n",
      "Got nothing\n",
      "**********************************************************************\n",
      "1 items had failures:\n",
      "   5 of   8 in __main__.encontra\n",
      "***Test Failed*** 5 failures.\n"
     ]
    },
    {
     "data": {
      "text/plain": [
       "TestResults(failed=5, attempted=25)"
      ]
     },
     "execution_count": 47,
     "metadata": {},
     "output_type": "execute_result"
    }
   ],
   "source": [
    "doctest.testmod()"
   ]
  },
  {
   "cell_type": "markdown",
   "metadata": {},
   "source": [
    "Uma solução que corrige os problemas encontrados:"
   ]
  },
  {
   "cell_type": "code",
   "execution_count": 48,
   "metadata": {
    "collapsed": true
   },
   "outputs": [],
   "source": [
    "def encontra(sequencia, valor):\n",
    "    \"\"\"\n",
    "    Requires: uma *sequencia* de valores de um dado tipo, um *valor* desse tipo\n",
    "    Ensures:  retorna a 1a posição do elemento na sequência, ou None cc\n",
    "    \n",
    "    >>> encontra(\"abcde\",\"a\")\n",
    "    0\n",
    "\n",
    "    sequencia sem elementos;\n",
    "    >>> encontra([],0)\n",
    "    \n",
    "    sequencia com um só elemento e valor não pertencente a sequencia;\n",
    "    >>> encontra([1],0)\n",
    "    \n",
    "    sequencia com um só elemento e valor a pertencer a sequencia;\n",
    "    >>> encontra([1],1)\n",
    "    0\n",
    "    \n",
    "    sequencia com vários elementos e valor não pertencente a sequencia;\n",
    "    >>> encontra([1,2,3,4],5)\n",
    "    \n",
    "    sequencia com vários elementos e valor o primeiro valor da sequencia;\n",
    "    >>> encontra([1,2,3,4,5],1)\n",
    "    0\n",
    "    \n",
    "    sequencia com vários elementos e valor um dos valores do meio;\n",
    "    >>> encontra([1,2,3,4,5,6],3)\n",
    "    2\n",
    "        \n",
    "    sequencia com vários elementos e valor o último valor da sequencia.\n",
    "    >>> encontra([1,2,3,4,5],5)\n",
    "    4\n",
    "    \"\"\"\n",
    "    i, result, found = 0, None, False\n",
    "    while i < len(sequencia) and not found:\n",
    "        if valor == sequencia[i]:\n",
    "            found, result = True, i\n",
    "        else:\n",
    "            i += 1\n",
    "    return result"
   ]
  },
  {
   "cell_type": "code",
   "execution_count": 1,
   "metadata": {
    "collapsed": false
   },
   "outputs": [
    {
     "ename": "NameError",
     "evalue": "name 'doctest' is not defined",
     "output_type": "error",
     "traceback": [
      "\u001b[1;31m---------------------------------------------------------------------------\u001b[0m",
      "\u001b[1;31mNameError\u001b[0m                                 Traceback (most recent call last)",
      "\u001b[1;32m<ipython-input-1-aa223a5ff88d>\u001b[0m in \u001b[0;36m<module>\u001b[1;34m()\u001b[0m\n\u001b[1;32m----> 1\u001b[1;33m \u001b[0mdoctest\u001b[0m\u001b[1;33m.\u001b[0m\u001b[0mtestmod\u001b[0m\u001b[1;33m(\u001b[0m\u001b[1;33m)\u001b[0m\u001b[1;33m\u001b[0m\u001b[0m\n\u001b[0m",
      "\u001b[1;31mNameError\u001b[0m: name 'doctest' is not defined"
     ]
    }
   ],
   "source": [
    "doctest.testmod()"
   ]
  },
  {
   "cell_type": "markdown",
   "metadata": {},
   "source": [
    "## Problemas"
   ]
  },
  {
   "cell_type": "markdown",
   "metadata": {},
   "source": [
    "1) Considere a seguinte função que efetua a diferença de duas listas tal como se\n",
    "descreve a seguir."
   ]
  },
  {
   "cell_type": "code",
   "execution_count": 2,
   "metadata": {
    "collapsed": true
   },
   "outputs": [],
   "source": [
    "def diferenca(l1, l2):\n",
    "    \"\"\"\n",
    "    requires: l1 uma lista\n",
    "    requires: l2 uma lista\n",
    "    ensures: devolve uma lista que contém os elementos de l1 que não estão\n",
    "             em l2. As listas l1 e l2 não são alteradas.\n",
    "    \"\"\"\n",
    "    result = l1\n",
    "    i = 1\n",
    "    while i < len(l1):\n",
    "        if i in l2:\n",
    "            result.remove(i)\n",
    "        i += 1\n",
    "    return result"
   ]
  },
  {
   "cell_type": "markdown",
   "metadata": {},
   "source": [
    "a) Escreva testes unitários para a função tendo em conta um critério apropriado."
   ]
  },
  {
   "cell_type": "code",
   "execution_count": 33,
   "metadata": {
    "collapsed": true
   },
   "outputs": [],
   "source": [
    "def diferenca(l1, l2):\n",
    "    \"\"\"\n",
    "    requires: l1 uma lista\n",
    "    requires: l2 uma lista\n",
    "    ensures: devolve uma lista que contém os elementos de l1 que não estão\n",
    "             em l2. As listas l1 e l2 não são alteradas.\n",
    "             \n",
    "    >>> diferenca([], [])\n",
    "    []\n",
    "    \n",
    "    >>> diferenca([1,2,3], [1,2,3])\n",
    "    []\n",
    "    \n",
    "    >>> diferenca([], [1])\n",
    "    []\n",
    "    \n",
    "    >>> diferenca([1,2], [])\n",
    "    [1, 2]\n",
    "    \n",
    "    >>> diferenca([1,2,3], [1,2])\n",
    "    [3]\n",
    "    \"\"\"\n",
    "    result = l1\n",
    "    i = 1\n",
    "    while i < len(l1):\n",
    "        if i in l2:\n",
    "            result.remove(i)\n",
    "        i += 1\n",
    "    return result"
   ]
  },
  {
   "cell_type": "code",
   "execution_count": 34,
   "metadata": {
    "collapsed": false
   },
   "outputs": [
    {
     "name": "stdout",
     "output_type": "stream",
     "text": [
      "**********************************************************************\n",
      "File \"__main__\", line 11, in __main__.diferenca\n",
      "Failed example:\n",
      "    diferenca([1,2,3], [1,2,3])\n",
      "Expected:\n",
      "    []\n",
      "Got:\n",
      "    [2, 3]\n",
      "**********************************************************************\n",
      "File \"__main__\", line 20, in __main__.diferenca\n",
      "Failed example:\n",
      "    diferenca([1,2,3], [1,2])\n",
      "Expected:\n",
      "    [3]\n",
      "Got:\n",
      "    [2, 3]\n",
      "**********************************************************************\n",
      "1 items had failures:\n",
      "   2 of   5 in __main__.diferenca\n",
      "***Test Failed*** 2 failures.\n"
     ]
    },
    {
     "data": {
      "text/plain": [
       "TestResults(failed=2, attempted=5)"
      ]
     },
     "execution_count": 34,
     "metadata": {},
     "output_type": "execute_result"
    }
   ],
   "source": [
    "doctest.testmod()"
   ]
  },
  {
   "cell_type": "markdown",
   "metadata": {},
   "source": [
    "b) Ao executar os testes, o que pode concluir sobre a correção da função?\n",
    "Consegue escrever algum teste que falhe?\n",
    "\n",
    "A função falhou em dois dos testes. A função aparenta ter um erro que apaga apenas o 1º elemento, se ele existir na 2ª lista.\n",
    "\n",
    "c) Faça o teste e depuração da função com vista a determinar o erro (ou erros)\n",
    "que a função possui. Recorra à impressão de valores intermédios para tentar\n",
    "identificar os erros."
   ]
  },
  {
   "cell_type": "code",
   "execution_count": 18,
   "metadata": {
    "collapsed": false
   },
   "outputs": [
    {
     "name": "stdout",
     "output_type": "stream",
     "text": [
      "checking index i = 1 where l1[i] is 2\n",
      "** the element exists in l2, let's remove it\n",
      "checking index i = 2 where l1[i] is 4\n",
      "** the element exists in l2, let's remove it\n"
     ]
    },
    {
     "data": {
      "text/plain": [
       "[3, 4]"
      ]
     },
     "execution_count": 18,
     "metadata": {},
     "output_type": "execute_result"
    }
   ],
   "source": [
    "def diferenca(l1, l2):\n",
    "    \"\"\"\n",
    "    requires: l1 uma lista\n",
    "    requires: l2 uma lista\n",
    "    ensures: devolve uma lista que contém os elementos de l1 que não estão\n",
    "             em l2. As listas l1 e l2 não são alteradas.\n",
    "    \"\"\"\n",
    "    result = l1\n",
    "    i = 1\n",
    "    while i < len(l1):\n",
    "        print \"checking index i =\", i, \"where l1[i] is\", l1[i]\n",
    "        if i in l2:\n",
    "            print \"** the element exists in l2, let's remove it\"\n",
    "            result.remove(i)\n",
    "        i += 1\n",
    "    return result\n",
    "\n",
    "diferenca([1,2,3,4], [1,2,3])"
   ]
  },
  {
   "cell_type": "markdown",
   "metadata": {},
   "source": [
    "A função não começou no inicío e também não verificou o último elemento! Para além disso há um problema com o índice com o elemento da lista: l1[2] não é 4 (!)\n",
    "\n",
    "O primeiro problema tem a ver com a variável de progresso que se inicia no 1 e não no 0. De qualquer forma, podemos evitá-la, criando um ciclo for diretamente sobre os elementos:"
   ]
  },
  {
   "cell_type": "code",
   "execution_count": 23,
   "metadata": {
    "collapsed": false
   },
   "outputs": [
    {
     "name": "stdout",
     "output_type": "stream",
     "text": [
      "checking element 1\n",
      "** the element exists in l2, let's remove it\n",
      "checking element 3\n",
      "** the element exists in l2, let's remove it\n"
     ]
    },
    {
     "data": {
      "text/plain": [
       "[2, 4]"
      ]
     },
     "execution_count": 23,
     "metadata": {},
     "output_type": "execute_result"
    }
   ],
   "source": [
    "def diferenca(l1, l2):\n",
    "    \"\"\"\n",
    "    requires: l1 uma lista\n",
    "    requires: l2 uma lista\n",
    "    ensures: devolve uma lista que contém os elementos de l1 que não estão\n",
    "             em l2. As listas l1 e l2 não são alteradas.\n",
    "    \"\"\"\n",
    "    result = l1\n",
    "    for element in result:\n",
    "        print \"checking element\", element\n",
    "        if element in l2:\n",
    "            print \"** the element exists in l2, let's remove it\"\n",
    "            result.remove(element)\n",
    "    return result\n",
    "\n",
    "diferenca([1,2,3,4], [1,2,3])"
   ]
  },
  {
   "cell_type": "markdown",
   "metadata": {},
   "source": [
    "Mas detectamos outro problema: a função não passou pelo elemento 2 da lista l1. Após análise do código percebemos outro erro: estamos a remover da lista resultado, mas esta representa a mesma lista original, que seria suposto não se modificar para o ciclo poder funcionar correctamente! Este problema existe porque as listas em Python são objectos mutáveis. Precisamos criar um clone da lista original l1 e colocar esta no cabeçalho do ciclo:"
   ]
  },
  {
   "cell_type": "code",
   "execution_count": 27,
   "metadata": {
    "collapsed": false
   },
   "outputs": [
    {
     "name": "stdout",
     "output_type": "stream",
     "text": [
      "checking element 1\n",
      "** the element exists in l2, let's remove it\n",
      "checking element 2\n",
      "** the element exists in l2, let's remove it\n",
      "checking element 3\n",
      "** the element exists in l2, let's remove it\n",
      "checking element 4\n"
     ]
    },
    {
     "data": {
      "text/plain": [
       "[4]"
      ]
     },
     "execution_count": 27,
     "metadata": {},
     "output_type": "execute_result"
    }
   ],
   "source": [
    "def diferenca(l1, l2):\n",
    "    \"\"\"\n",
    "    requires: l1 uma lista\n",
    "    requires: l2 uma lista\n",
    "    ensures: devolve uma lista que contém os elementos de l1 que não estão\n",
    "             em l2. As listas l1 e l2 não são alteradas.\n",
    "    \"\"\"\n",
    "    result = l1[:]\n",
    "    for element in l1:\n",
    "        print \"checking element\", element\n",
    "        if element in l2:\n",
    "            print \"** the element exists in l2, let's remove it\"\n",
    "            result.remove(element)\n",
    "    return result\n",
    "\n",
    "diferenca([1,2,3,4], [1,2,3])"
   ]
  },
  {
   "cell_type": "markdown",
   "metadata": {},
   "source": [
    "Vamos novamente verificar a função com os nossos testes:"
   ]
  },
  {
   "cell_type": "code",
   "execution_count": 35,
   "metadata": {
    "collapsed": false
   },
   "outputs": [],
   "source": [
    "def diferenca(l1, l2):\n",
    "    \"\"\"\n",
    "    requires: l1 uma lista\n",
    "    requires: l2 uma lista\n",
    "    ensures: devolve uma lista que contém os elementos de l1 que não estão\n",
    "             em l2. As listas l1 e l2 não são alteradas.\n",
    "             \n",
    "    >>> diferenca([], [])\n",
    "    []\n",
    "    \n",
    "    >>> diferenca([1,2,3], [1,2,3])\n",
    "    []\n",
    "    \n",
    "    >>> diferenca([], [1])\n",
    "    []\n",
    "    \n",
    "    >>> diferenca([1,2], [])\n",
    "    [1, 2]\n",
    "    \n",
    "    >>> diferenca([1,2,3], [1,2])\n",
    "    [3]\n",
    "    \"\"\"\n",
    "    result = l1[:]\n",
    "    for element in l1:\n",
    "        if element in l2:\n",
    "            result.remove(element)\n",
    "    return result"
   ]
  },
  {
   "cell_type": "code",
   "execution_count": 37,
   "metadata": {
    "collapsed": false
   },
   "outputs": [
    {
     "data": {
      "text/plain": [
       "TestResults(failed=0, attempted=5)"
      ]
     },
     "execution_count": 37,
     "metadata": {},
     "output_type": "execute_result"
    }
   ],
   "source": [
    "doctest.testmod()"
   ]
  },
  {
   "cell_type": "markdown",
   "metadata": {},
   "source": [
    "Considere os seguintes testes unitários de uma função f.\n",
    "\n",
    "    >>> f (1,1,0)\n",
    "    [[0]]\n",
    "    >>> f (3,3,1)\n",
    "    [[1, 1, 1], [1, 1, 1], [1, 1, 1]]\n",
    "    >>> f (1, 5, 0)\n",
    "    [[0, 0, 0, 0, 0]]\n",
    "    >>> f (5, 1, 2)\n",
    "    [[2], [2], [2], [2], [2]]\n",
    "\n",
    "a) Implemente uma função f que passe os testes acima.\n",
    "\n",
    "b) Descreva o que faz a função que desenvolveu e elabore o seu contrato."
   ]
  },
  {
   "cell_type": "code",
   "execution_count": 40,
   "metadata": {
    "collapsed": true
   },
   "outputs": [],
   "source": [
    "def f(rows, cols, n):\n",
    "    \"\"\"\n",
    "    Returns a matrix sized *rows* x *cols*, in list form, initialized with value *n*\n",
    "    \n",
    "    >>> f (1,1,0)\n",
    "    [[0]]\n",
    "    \n",
    "    >>> f (3,3,1)\n",
    "    [[1, 1, 1], [1, 1, 1], [1, 1, 1]]\n",
    "    \n",
    "    >>> f (1, 5, 0)\n",
    "    [[0, 0, 0, 0, 0]]\n",
    "    \n",
    "    >>> f (5, 1, 2)\n",
    "    [[2], [2], [2], [2], [2]]\n",
    "    \"\"\"\n",
    "    return [[n]*cols]*rows"
   ]
  },
  {
   "cell_type": "code",
   "execution_count": 41,
   "metadata": {
    "collapsed": false
   },
   "outputs": [
    {
     "data": {
      "text/plain": [
       "TestResults(failed=0, attempted=9)"
      ]
     },
     "execution_count": 41,
     "metadata": {},
     "output_type": "execute_result"
    }
   ],
   "source": [
    "doctest.testmod()"
   ]
  }
 ],
 "metadata": {
  "kernelspec": {
   "display_name": "Python 2",
   "language": "python",
   "name": "python2"
  },
  "language_info": {
   "codemirror_mode": {
    "name": "ipython",
    "version": 2
   },
   "file_extension": ".py",
   "mimetype": "text/x-python",
   "name": "python",
   "nbconvert_exporter": "python",
   "pygments_lexer": "ipython2",
   "version": "2.7.10"
  }
 },
 "nbformat": 4,
 "nbformat_minor": 0
}
