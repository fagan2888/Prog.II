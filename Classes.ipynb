{
 "cells": [
  {
   "cell_type": "code",
   "execution_count": 15,
   "metadata": {
    "collapsed": true
   },
   "outputs": [],
   "source": [
    "import math\n",
    "\n",
    "class Point2D:\n",
    "    \"\"\"represent points in 2D space\"\"\"\n",
    "    \n",
    "    def __init__(self):\n",
    "        self.x = self.y = 0.0\n",
    "    \n",
    "    def __init__(self, x, y):\n",
    "        \"\"\"Assume x,y are ints or floats\"\"\"\n",
    "        self.x = float(x)\n",
    "        self.y = float(y)\n",
    "    \n",
    "    def getX(self):\n",
    "        return self.x\n",
    "    \n",
    "    def getY(self):\n",
    "        return self.y\n",
    "    \n",
    "    def setX(self, newX):\n",
    "        self.x = newX\n",
    "        \n",
    "    def setY(self, newY):\n",
    "        self.y = newY\n",
    "        \n",
    "    def distanceOrigin(self):\n",
    "        return math.sqrt(self.x**2 + self.y**2)\n",
    "    \n",
    "    def __str__(self):\n",
    "        return \"(\" + str(self.x) + \",\" + str(self.y) + \")\""
   ]
  },
  {
   "cell_type": "code",
   "execution_count": 17,
   "metadata": {
    "collapsed": false
   },
   "outputs": [
    {
     "name": "stdout",
     "output_type": "stream",
     "text": [
      "(3.0,4.0)\n",
      "5.0\n"
     ]
    }
   ],
   "source": [
    "p = Point2D(3,4)\n",
    "\n",
    "print p\n",
    "print p.distanceOrigin()"
   ]
  },
  {
   "cell_type": "code",
   "execution_count": 18,
   "metadata": {
    "collapsed": true
   },
   "outputs": [],
   "source": [
    "import datetime\n",
    "class Person(object):\n",
    "    def __init__(self, name):\n",
    "        \"\"\"Create a person\"\"\"\n",
    "        self.name = name\n",
    "        try:\n",
    "            lastBlank = name.rindex(' ')\n",
    "            self.lastName = name[lastBlank+1:]\n",
    "        except:\n",
    "            self.lastName = name\n",
    "        self.birthday = None\n",
    "        \n",
    "    def getName(self):\n",
    "        \"\"\"Returns self's full name\"\"\"\n",
    "        return self.name\n",
    "\n",
    "    def getLastName(self):\n",
    "        \"\"\"Returns self's last name\"\"\"\n",
    "        return self.lastName\n",
    "\n",
    "    def setBirthday(self, birthdate):\n",
    "        \"\"\"Assumes birthdate is of type datetime.date\n",
    "        Sets self's birthday to birthdate\"\"\"\n",
    "        self.birthday = birthdate\n",
    "    \n",
    "    def getAge(self):\n",
    "        \"\"\"Returns self's current age in days\"\"\"\n",
    "        if self.birthday == None:\n",
    "            raise ValueError\n",
    "        return (datetime.date.today() - self.birthday).days\n",
    "\n",
    "    def __lt__(self, other):\n",
    "        \"\"\"Returns True if self's name is lexicographically\n",
    "        less than other's name, and False otherwise\"\"\"\n",
    "        if self.lastName == other.lastName:\n",
    "            return self.name < other.name\n",
    "        return self.lastName < other.lastName\n",
    "\n",
    "    def __str__(self):\n",
    "        \"\"\"Returns self's name\"\"\"\n",
    "        return self.name"
   ]
  },
  {
   "cell_type": "code",
   "execution_count": 23,
   "metadata": {
    "collapsed": false
   },
   "outputs": [
    {
     "name": "stdout",
     "output_type": "stream",
     "text": [
      "Obama\n",
      "Barack Hussein Obama is 19914 days old\n",
      "Michael Guttag\n",
      "Barack Hussein Obama\n",
      "Madonna\n",
      "Michael Guttag\n",
      "Madonna\n",
      "Barack Hussein Obama\n"
     ]
    }
   ],
   "source": [
    "me  = Person('Michael Guttag')\n",
    "him = Person('Barack Hussein Obama')\n",
    "her = Person('Madonna')\n",
    "print him.getLastName()\n",
    "him.setBirthday(datetime.date(1961, 8, 4))\n",
    "her.setBirthday(datetime.date(1958, 8, 16))\n",
    "print him.getName(), 'is', him.getAge(), 'days old'\n",
    "\n",
    "pList = [me, him, her]\n",
    "for p in pList:\n",
    "    print p\n",
    "pList.sort()\n",
    "for p in pList:\n",
    "    print p"
   ]
  },
  {
   "cell_type": "markdown",
   "metadata": {},
   "source": [
    "## Inheritance"
   ]
  },
  {
   "cell_type": "code",
   "execution_count": 24,
   "metadata": {
    "collapsed": true
   },
   "outputs": [],
   "source": [
    "class MITPerson(Person):        # MITPerson is a subclass of Person\n",
    "    \n",
    "    nextIdNum = 0               # add attribute: identification number\n",
    "    \n",
    "    def __init__(self, name):   # method override\n",
    "        Person.__init__(self, name)\n",
    "        self.idNum = MITPerson.nextIdNum\n",
    "        MITPerson.nextIdNum += 1\n",
    "        \n",
    "    def getIdNum(self):\n",
    "        return self.idNum\n",
    "    \n",
    "    def __lt__(self, other):    # method override\n",
    "        return self.idNum < other.idNum"
   ]
  },
  {
   "cell_type": "code",
   "execution_count": 28,
   "metadata": {
    "collapsed": false
   },
   "outputs": [
    {
     "name": "stdout",
     "output_type": "stream",
     "text": [
      "None\n"
     ]
    }
   ],
   "source": [
    "mit = MITPerson(\"Genghis Khan\")\n",
    "\n",
    "print mit.birthday"
   ]
  }
 ],
 "metadata": {
  "kernelspec": {
   "display_name": "Python 2",
   "language": "python",
   "name": "python2"
  },
  "language_info": {
   "codemirror_mode": {
    "name": "ipython",
    "version": 2
   },
   "file_extension": ".py",
   "mimetype": "text/x-python",
   "name": "python",
   "nbconvert_exporter": "python",
   "pygments_lexer": "ipython2",
   "version": "2.7.10"
  }
 },
 "nbformat": 4,
 "nbformat_minor": 0
}
