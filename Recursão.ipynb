{
 "cells": [
  {
   "cell_type": "code",
   "execution_count": null,
   "metadata": {
    "collapsed": false
   },
   "outputs": [],
   "source": []
  },
  {
   "cell_type": "markdown",
   "metadata": {},
   "source": [
    "### Factorial"
   ]
  },
  {
   "cell_type": "code",
   "execution_count": 19,
   "metadata": {
    "collapsed": true
   },
   "outputs": [],
   "source": [
    "def fact(n):\n",
    "    \"\"\"pre: int n >= 0\n",
    "    Returns n!\"\"\"\n",
    "    if n == 0:\n",
    "        return 1\n",
    "    else:\n",
    "        return n*fact(n - 1)"
   ]
  },
  {
   "cell_type": "code",
   "execution_count": 20,
   "metadata": {
    "collapsed": false
   },
   "outputs": [
    {
     "name": "stdout",
     "output_type": "stream",
     "text": [
      "1 1 2 6 24 120 720 5040 40320 362880\n"
     ]
    }
   ],
   "source": [
    "for i in range(10):\n",
    "    print fact(i),"
   ]
  },
  {
   "cell_type": "markdown",
   "metadata": {},
   "source": [
    "### Fibonacci"
   ]
  },
  {
   "cell_type": "markdown",
   "metadata": {},
   "source": [
    "Naïve version: many computations are repeated"
   ]
  },
  {
   "cell_type": "code",
   "execution_count": 3,
   "metadata": {
    "collapsed": false
   },
   "outputs": [],
   "source": [
    "def fib(n):\n",
    "    \"\"\"pre: int n >= 0\n",
    "    Exponential version\n",
    "    Returns Fibonacci of n\"\"\"\n",
    "    if n == 0 or n == 1:\n",
    "        return 1\n",
    "    else:\n",
    "        return fib(n-1) + fib(n-2)"
   ]
  },
  {
   "cell_type": "markdown",
   "metadata": {},
   "source": [
    "In this next version we use _memoization_, i.e., we keep the computed solutions for later use."
   ]
  },
  {
   "cell_type": "code",
   "execution_count": 4,
   "metadata": {
    "collapsed": false
   },
   "outputs": [],
   "source": [
    "def fibMem(n):\n",
    "    \"\"\"pre: int n >= 0\n",
    "    Linear version using memoization, ie, save all solutions to avoid doing things twice\n",
    "    Returns Fibonacci of n\"\"\"\n",
    "    \n",
    "    UNKNOWN = -1\n",
    "    sols = [1,1] + [UNKNOWN]*(n-1)  # solution array (initially we only know the base cases)\n",
    "    \n",
    "    def fibMemR(n):\n",
    "        if sols[n] != UNKNOWN:                # if already known, no need to recompute it\n",
    "            return sols[n]\n",
    "        sols[n] = fibMemR(n-1) + fibMemR(n-2) # save the solution for future needs\n",
    "        return sols[n]\n",
    "    \n",
    "    return fibMemR(n)    "
   ]
  },
  {
   "cell_type": "code",
   "execution_count": 5,
   "metadata": {
    "collapsed": false
   },
   "outputs": [
    {
     "name": "stdout",
     "output_type": "stream",
     "text": [
      "1 1 2 3 5 8 13 21 34 55 89 144 233 377 610 987 1597 2584 4181 6765\n",
      "1 1 2 3 5 8 13 21 34 55 89 144 233 377 610 987 1597 2584 4181 6765\n"
     ]
    }
   ],
   "source": [
    "for i in range(20):\n",
    "    print fib(i),\n",
    "print\n",
    "for i in range(20):\n",
    "    print fibMem(i),"
   ]
  },
  {
   "cell_type": "markdown",
   "metadata": {},
   "source": [
    "### Compare performance between versions"
   ]
  },
  {
   "cell_type": "code",
   "execution_count": 6,
   "metadata": {
    "collapsed": false
   },
   "outputs": [],
   "source": [
    "import time\n",
    "\n",
    "n = 25\n",
    "\n",
    "times = [0]*n\n",
    "for i in range(n):\n",
    "    start_time = time.clock()\n",
    "    fib(i)\n",
    "    times[i] = time.clock() - start_time\n",
    "    \n",
    "timesMem = [0]*n\n",
    "for i in range(n):\n",
    "    start_time = time.clock()\n",
    "    fibMem(i)\n",
    "    timesMem[i] = time.clock() - start_time "
   ]
  },
  {
   "cell_type": "markdown",
   "metadata": {},
   "source": [
    "Let's plot both times arrays to check their behaviour when the input increases. Also note the times each version takes to finish."
   ]
  },
  {
   "cell_type": "code",
   "execution_count": 7,
   "metadata": {
    "collapsed": false
   },
   "outputs": [
    {
     "data": {
      "image/png": "[encoded data removed]",
      "text/plain": [
       "<matplotlib.figure.Figure at 0x487a5b0>"
      ]
     },
     "metadata": {},
     "output_type": "display_data"
    },
    {
     "data": {
      "image/png": "[encoded data removed]",
      "text/plain": [
       "<matplotlib.figure.Figure at 0x49712b0>"
      ]
     },
     "metadata": {},
     "output_type": "display_data"
    }
   ],
   "source": [
    "%matplotlib inline\n",
    "\n",
    "import numpy as np\n",
    "import matplotlib.pyplot as plt\n",
    "\n",
    "plt.bar(np.arange(n), times)\n",
    "plt.suptitle('Exponential version')\n",
    "plt.xlabel('Size')\n",
    "plt.ylabel('Time')\n",
    "plt.show()\n",
    "\n",
    "plt.bar(np.arange(n), timesMem, color='r')\n",
    "plt.suptitle('Linear version')\n",
    "axes = plt.gca()\n",
    "axes.set_ylim([0,max(timesMem)*1.25])\n",
    "plt.show()"
   ]
  },
  {
   "cell_type": "markdown",
   "metadata": {},
   "source": [
    "### Recursion in a text function"
   ]
  },
  {
   "cell_type": "code",
   "execution_count": 8,
   "metadata": {
    "collapsed": true
   },
   "outputs": [],
   "source": [
    "def isPalindrome(s):\n",
    "    \"\"\"Assumes s is a str\n",
    "    Returns True if the letters in s form a palindrome;\n",
    "    False otherwise. Non-letters and capitalization are ignored.\"\"\"\n",
    "    \n",
    "    def toChars(s):\n",
    "        s = s.lower()\n",
    "        letters = ''\n",
    "        for c in s:\n",
    "            if c in 'abcdefghijklmnopqrstuvwxyz':\n",
    "                letters = letters + c\n",
    "        return letters\n",
    "    \n",
    "    def isPal(s):\n",
    "        if len(s) <= 1:\n",
    "            return True\n",
    "        else:\n",
    "            return s[0] == s[-1] and isPal(s[1:-1])\n",
    "    \n",
    "    return isPal(toChars(s))"
   ]
  },
  {
   "cell_type": "code",
   "execution_count": 9,
   "metadata": {
    "collapsed": false
   },
   "outputs": [
    {
     "name": "stdout",
     "output_type": "stream",
     "text": [
      "True\n",
      "False\n"
     ]
    }
   ],
   "source": [
    "print isPalindrome('Deliver desserts - demanded Nemesis - emended, named, stressed, reviled.')\n",
    "print isPalindrome('This is surely not a palindrome')"
   ]
  },
  {
   "cell_type": "markdown",
   "metadata": {},
   "source": [
    "### Other Egs"
   ]
  },
  {
   "cell_type": "markdown",
   "metadata": {},
   "source": [
    "Finding Maximum recursively"
   ]
  },
  {
   "cell_type": "code",
   "execution_count": 10,
   "metadata": {
    "collapsed": false
   },
   "outputs": [],
   "source": [
    "def maxR(xs):\n",
    "    \"\"\"Assumes a non-empty list of ints\"\"\"\n",
    "    if len(xs)==1:\n",
    "        return xs[0]\n",
    "\n",
    "    maxTail = maxR(xs[1:])                        # find max of remaining list, recursively\n",
    "    return xs[0] if xs[0] > maxTail else maxTail"
   ]
  },
  {
   "cell_type": "code",
   "execution_count": 11,
   "metadata": {
    "collapsed": false
   },
   "outputs": [
    {
     "name": "stdout",
     "output_type": "stream",
     "text": [
      "[75, 75, 65, 91, 23, 70, 76, 67, 34, 28, 96, 48, 92, 1, 68, 33, 9, 3, 30, 4]\n",
      "96\n"
     ]
    }
   ],
   "source": [
    "import random\n",
    "\n",
    "L3 = [int(100*random.random()) for i in range(20)]  # list of 20 random numbers between [0,99]\n",
    "print L3\n",
    "print maxR(L3)"
   ]
  },
  {
   "cell_type": "markdown",
   "metadata": {},
   "source": [
    "Euclide's greatest common divider"
   ]
  },
  {
   "cell_type": "code",
   "execution_count": 12,
   "metadata": {
    "collapsed": false
   },
   "outputs": [
    {
     "name": "stdout",
     "output_type": "stream",
     "text": [
      "96\n"
     ]
    }
   ],
   "source": [
    "# from the std library (iterative version)\n",
    "def gcd(a, b):\n",
    "    \"\"\"Calculate the Greatest Common Divisor of a and b.\n",
    "\n",
    "    Unless b==0, the result will have the same sign as b (so that when\n",
    "    b is divided by it, the result comes out positive).\n",
    "    \"\"\"\n",
    "    while b:\n",
    "        a, b = b, a%b\n",
    "    return a\n",
    "\n",
    "print gcd(2016,192)"
   ]
  },
  {
   "cell_type": "code",
   "execution_count": 13,
   "metadata": {
    "collapsed": true
   },
   "outputs": [],
   "source": [
    "# recursive version:\n",
    "\n",
    "def gcdR(a, b):\n",
    "    if b == 0:\n",
    "        return a\n",
    "\n",
    "    return gcdR(b, a%b)"
   ]
  },
  {
   "cell_type": "code",
   "execution_count": 14,
   "metadata": {
    "collapsed": false
   },
   "outputs": [
    {
     "name": "stdout",
     "output_type": "stream",
     "text": [
      "96\n"
     ]
    }
   ],
   "source": [
    "print gcdR(2016,192)"
   ]
  },
  {
   "cell_type": "markdown",
   "metadata": {},
   "source": [
    "Hanoi Towers, check [ref](https://en.wikipedia.org/wiki/Tower_of_Hanoi) for description and rules"
   ]
  },
  {
   "cell_type": "code",
   "execution_count": 15,
   "metadata": {
    "collapsed": true
   },
   "outputs": [],
   "source": [
    "def hanoi(n):\n",
    "    \n",
    "    def hanoiR(n, origin, destination, temp):\n",
    "        if n==1:\n",
    "            print \"move disk 1 : \", origin, \"->\", destination\n",
    "        else:\n",
    "            hanoiR(n-1, origin, temp, destination)\n",
    "            print \"move disk\", n, \": \", origin, \"->\", destination\n",
    "            hanoiR(n-1, temp, destination, origin)\n",
    "    \n",
    "    hanoiR(n, \"A\", \"C\", \"B\")"
   ]
  },
  {
   "cell_type": "code",
   "execution_count": 16,
   "metadata": {
    "collapsed": false
   },
   "outputs": [
    {
     "name": "stdout",
     "output_type": "stream",
     "text": [
      "move disk 1 :  A -> B\n",
      "move disk 2 :  A -> C\n",
      "move disk 1 :  B -> C\n",
      "move disk 3 :  A -> B\n",
      "move disk 1 :  C -> A\n",
      "move disk 2 :  C -> B\n",
      "move disk 1 :  A -> B\n",
      "move disk 4 :  A -> C\n",
      "move disk 1 :  B -> C\n",
      "move disk 2 :  B -> A\n",
      "move disk 1 :  C -> A\n",
      "move disk 3 :  B -> C\n",
      "move disk 1 :  A -> B\n",
      "move disk 2 :  A -> C\n",
      "move disk 1 :  B -> C\n"
     ]
    }
   ],
   "source": [
    "hanoi(4)"
   ]
  },
  {
   "cell_type": "markdown",
   "metadata": {},
   "source": [
    "Permutations, [ref](http://stackoverflow.com/questions/104420/how-to-generate-all-permutations-of-a-list-in-python)"
   ]
  },
  {
   "cell_type": "code",
   "execution_count": 17,
   "metadata": {
    "collapsed": true
   },
   "outputs": [],
   "source": [
    "def permutations(head, tail=''):\n",
    "    if len(head) == 0: \n",
    "        print tail,\n",
    "    else:\n",
    "        for i in range(len(head)):\n",
    "            permutations(head[0:i] + head[i+1:], tail+head[i])"
   ]
  },
  {
   "cell_type": "code",
   "execution_count": 18,
   "metadata": {
    "collapsed": false
   },
   "outputs": [
    {
     "name": "stdout",
     "output_type": "stream",
     "text": [
      "*abc *acb *bac *bca *cab *cba a*bc a*cb ab*c abc* ac*b acb* b*ac b*ca ba*c bac* bc*a bca* c*ab c*ba ca*b cab* cb*a cba*\n"
     ]
    }
   ],
   "source": [
    "permutations('*abc')"
   ]
  }
 ],
 "metadata": {
  "kernelspec": {
   "display_name": "Python 2",
   "language": "python",
   "name": "python2"
  },
  "language_info": {
   "codemirror_mode": {
    "name": "ipython",
    "version": 2
   },
   "file_extension": ".py",
   "mimetype": "text/x-python",
   "name": "python",
   "nbconvert_exporter": "python",
   "pygments_lexer": "ipython2",
   "version": "2.7.10"
  }
 },
 "nbformat": 4,
 "nbformat_minor": 0
}
