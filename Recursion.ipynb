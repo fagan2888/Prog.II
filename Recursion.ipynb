{
 "cells": [
  {
   "cell_type": "markdown",
   "metadata": {},
   "source": [
    "## Recursão"
   ]
  },
  {
   "cell_type": "markdown",
   "metadata": {},
   "source": [
    "O uso da recursão é útil na resolução de problemas que podem ser decompostos em subproblemas mais simples e onde a solução final obtém-se pela composição das soluções desses subproblemas. Para aplicar soluções recursivas é necessário: \n",
    "\n",
    "+ existir um conjunto de um ou mais casos triviais que não precisam de nenhuma computação suplementar – denominado **caso base** ou **base da recursão**, \n",
    "\n",
    "+ ser possível decompor o problema em subproblemas no qual pode ser construída a solução final – denomina-se esta decomposição por **passo da recursão** e \n",
    "\n",
    "+ os subproblemas chegam inevitavelmente ao caso base.\n",
    "\n",
    "A estrutura de um programa recursivo é a seguinte:\n",
    "\n",
    "    problema(P):\n",
    "      se o caso base B responde a P\n",
    "        devolver B\n",
    "      senão\n",
    "        decompor P em P1, ..., Pn\n",
    "        R1 = problema(P1)\n",
    "          ...\n",
    "        Rn = problema(Pn)\n",
    "        R = construir resposta com R1, ..., Rn \n",
    "        devolver R \n",
    "\n",
    "A esta técnica de decomposição de um problema em subproblemas relacionados também se designa por **dividir para conquistar** (do inglês, _divide and conquer_).\n",
    "\n",
    "Os subproblemas têm de receber a informação necessária para a resolução e têm de devolver informação suficiente para a construção da resposta global. Se a decomposição dos subproblemas nunca chegar ao caso base, a recursão não tem forma de parar. É uma **recursão infinita** e o programa terminará eventualmente por falta de recursos de memória.\n"
   ]
  },
  {
   "cell_type": "markdown",
   "metadata": {},
   "source": [
    "### Factorial"
   ]
  },
  {
   "cell_type": "markdown",
   "metadata": {},
   "source": [
    "A função factorial é o 'Hello World' dos exemplos recursivos.\n",
    "\n",
    "É possível definir o factorial de forma recursiva, que corresponde à estrutura da função Python:\n",
    "\n",
    "$$ \\text{factorial}(n) =\n",
    "  \\begin{cases} \n",
    "      \\hfill 1                              \\hfill & \\text{ $n=0$} \\\\\n",
    "      \\hfill n \\times \\text{factorial}(n-1) \\hfill & \\text{ $n \\gt 0$} \\\\\n",
    "  \\end{cases}$$"
   ]
  },
  {
   "cell_type": "code",
   "execution_count": 19,
   "metadata": {
    "collapsed": true
   },
   "outputs": [],
   "source": [
    "def fact(n):\n",
    "    \"\"\"pre: int n >= 0\n",
    "    Returns n!\"\"\"\n",
    "    if n == 0:\n",
    "        return 1\n",
    "    else:\n",
    "        return n*fact(n - 1)"
   ]
  },
  {
   "cell_type": "code",
   "execution_count": 20,
   "metadata": {
    "collapsed": false
   },
   "outputs": [
    {
     "name": "stdout",
     "output_type": "stream",
     "text": [
      "1 1 2 6 24 120 720 5040 40320 362880\n"
     ]
    }
   ],
   "source": [
    "for i in range(10):\n",
    "    print fact(i),"
   ]
  },
  {
   "cell_type": "markdown",
   "metadata": {},
   "source": [
    "### Fibonacci"
   ]
  },
  {
   "cell_type": "markdown",
   "metadata": {},
   "source": [
    "A [sequência de Fibonacci](https://pt.wikipedia.org/wiki/Sequ%C3%AAncia_de_Fibonacci) é dada pela seguinte definição:\n",
    "\n",
    "$$ \\text{fib}(n) =\n",
    "  \\begin{cases} \n",
    "      \\hfill 1                              \\hfill & \\text{ $n = 0 \\vee n = 1$} \\\\\n",
    "      \\hfill \\text{fib}(n-1) + \\text{fib}(n-2) \\hfill & \\text{ $n \\gt 1$} \\\\\n",
    "  \\end{cases}$$\n",
    "\n",
    "A seguinte implementação recursiva espelha a definição:"
   ]
  },
  {
   "cell_type": "code",
   "execution_count": 21,
   "metadata": {
    "collapsed": false
   },
   "outputs": [],
   "source": [
    "def fib(n):\n",
    "    \"\"\"pre: int n >= 0\n",
    "    Exponential version\n",
    "    Returns Fibonacci of n\"\"\"\n",
    "    if n == 0 or n == 1:\n",
    "        return 1\n",
    "    else:\n",
    "        return fib(n-1) + fib(n-2)"
   ]
  },
  {
   "cell_type": "code",
   "execution_count": 22,
   "metadata": {
    "collapsed": false
   },
   "outputs": [
    {
     "name": "stdout",
     "output_type": "stream",
     "text": [
      "1 1 2 3 5 8 13 21 34 55 89 144 233 377 610 987 1597 2584 4181 6765 10946 17711 28657 46368 75025\n"
     ]
    }
   ],
   "source": [
    "for i in range(25):\n",
    "    print fib(i),"
   ]
  },
  {
   "cell_type": "markdown",
   "metadata": {},
   "source": [
    "Mas, este método tem um problema grave. Quando num método existe apenas uma invocação a si próprio (como no caso do factorial) diz-se uma **recursão linear**. Quando o método invoca se duas ou mais vezes (como no caso da função de Fibonacci) trata-se de uma **recursão não linear**. Se uma recursão não-linear invocar um método, com os mesmos argumentos, mais do que uma vez, a resolução do problema pode ser ineficiente. De facto, se se tentar invocar a função para um número grande (maior que 50, por exemplo) o tempo pode ser de horas, dias, ou mesmo mais lento.\n",
    "\n",
    "Uma alternativa recursiva é usar a técnica da **memorização** (_memoization_) que basicamente o que faz é guardar as soluções encontradas para evitar invocações repetidas.\n",
    "\n",
    "A próxima implementação usa memorização. Como funciona? É criado uma lista de soluções inicialmente quase toda com valores desconhecidos (usamos a constante <code>UNKNOWN</code> para representar ausência de solução) estando apenas preenchida as primeiras posições que correspondem aos casos base da recursão, <code>fib(0)</code> e <code>fib(1)</code>. Quando é pedido um novo valor, o progama verifica se conhece a solução e só em caso negativo é que a calcula."
   ]
  },
  {
   "cell_type": "code",
   "execution_count": 42,
   "metadata": {
    "collapsed": false
   },
   "outputs": [],
   "source": [
    "def fibMem(n):\n",
    "    \"\"\"pre: int n >= 0\n",
    "    Linear version using memoization, ie, save all solutions to avoid doing things twice\n",
    "    Returns Fibonacci of n\"\"\"\n",
    "    \n",
    "    UNKNOWN = -1\n",
    "    sols = [1,1] + [UNKNOWN]*(n-1)  # solution array (initially we only know the base cases)\n",
    "    \n",
    "    def fibMemR(n):\n",
    "        if sols[n] == UNKNOWN:                    # if already known, no need to recompute it\n",
    "            sols[n] = fibMemR(n-1) + fibMemR(n-2) # save the solution for future needs\n",
    "        return sols[n]\n",
    "    \n",
    "    return fibMemR(n)    "
   ]
  },
  {
   "cell_type": "code",
   "execution_count": 24,
   "metadata": {
    "collapsed": false
   },
   "outputs": [
    {
     "name": "stdout",
     "output_type": "stream",
     "text": [
      "1 1 2 3 5 8 13 21 34 55 89 144 233 377 610 987 1597 2584 4181 6765 10946 17711 28657 46368 75025\n"
     ]
    }
   ],
   "source": [
    "for i in range(25):\n",
    "    print fibMem(i),"
   ]
  },
  {
   "cell_type": "markdown",
   "metadata": {},
   "source": [
    "Vamos comparar o desempenho das duas soluções. Para cada um dos primeiros valores, vamos guardar o tempo de execução de <code>fib</code> e <code>fibMem</code>. Para isso utilizamos a biblioteca <code>time</code>."
   ]
  },
  {
   "cell_type": "code",
   "execution_count": 45,
   "metadata": {
    "collapsed": false
   },
   "outputs": [],
   "source": [
    "import time\n",
    "\n",
    "n = 25\n",
    "\n",
    "times = [0]*n\n",
    "for i in range(n):\n",
    "    start_time = time.clock()\n",
    "    fib(i)\n",
    "    times[i] = time.clock() - start_time\n",
    "    \n",
    "timesMem = [0]*n\n",
    "for i in range(n):\n",
    "    start_time = time.clock()\n",
    "    fibMem(i)\n",
    "    timesMem[i] = time.clock() - start_time "
   ]
  },
  {
   "cell_type": "markdown",
   "metadata": {},
   "source": [
    "E agora fazemos um plot para verificar como cada função se comporta à medida que o valor de _n_ aumenta. Reparem também no eixo vertical dos dois gráficos para comparar o tempo que demorou a executar cada invocação de cada função:"
   ]
  },
  {
   "cell_type": "code",
   "execution_count": 46,
   "metadata": {
    "collapsed": false
   },
   "outputs": [
    {
     "data": {
      "image/png": "[encoded data removed]",
      "text/plain": [
       "<matplotlib.figure.Figure at 0xba1f828>"
      ]
     },
     "metadata": {},
     "output_type": "display_data"
    },
    {
     "data": {
      "image/png": "[encoded data removed]",
      "text/plain": [
       "<matplotlib.figure.Figure at 0xba305f8>"
      ]
     },
     "metadata": {},
     "output_type": "display_data"
    }
   ],
   "source": [
    "%matplotlib inline\n",
    "\n",
    "import numpy as np\n",
    "import matplotlib.pyplot as plt\n",
    "\n",
    "plt.figure(figsize=(15,6)) \n",
    "plt.bar(np.arange(n), times)\n",
    "plt.suptitle('Exponential version')\n",
    "plt.xlabel('Size')\n",
    "plt.ylabel('Time')\n",
    "plt.show()\n",
    "\n",
    "plt.figure(figsize=(15,6)) \n",
    "plt.bar(np.arange(n), timesMem, color='r')\n",
    "plt.suptitle('Linear version')\n",
    "axes = plt.gca()\n",
    "axes.set_ylim([0,max(timesMem)*1.25])\n",
    "plt.show()"
   ]
  },
  {
   "cell_type": "markdown",
   "metadata": {},
   "source": [
    "Facilmente se observa que a primeira versão tem um crescimento muito acentuado para valores crescentes de _n_. Já a segunda versão é mais robusta tendo o tempo de execução crescido linearmente. \n",
    "\n",
    "Se compararmos o tempo que demorou <code>fib(25)</code> e <code>fibMem(25)</code>:"
   ]
  },
  {
   "cell_type": "code",
   "execution_count": 27,
   "metadata": {
    "collapsed": false
   },
   "outputs": [
    {
     "name": "stdout",
     "output_type": "stream",
     "text": [
      "0.0228030301411 segundos para fib(25)\n",
      "1.45392034483e-05 segundos para fibMem(25)\n",
      "fibMem() foi 1568x mais rápido que fib()\n"
     ]
    }
   ],
   "source": [
    "print times[24], \"segundos para fib(25)\"\n",
    "print timesMem[24], \"segundos para fibMem(25)\"\n",
    "print \"fibMem() foi %1.0fx mais rápido que fib()\" % (times[24]/timesMem[24])"
   ]
  },
  {
   "cell_type": "markdown",
   "metadata": {},
   "source": [
    "### Exercícios"
   ]
  },
  {
   "cell_type": "markdown",
   "metadata": {},
   "source": [
    "1) Considere a seguinte função recursiva:"
   ]
  },
  {
   "cell_type": "code",
   "execution_count": 2,
   "metadata": {
    "collapsed": false
   },
   "outputs": [
    {
     "name": "stdout",
     "output_type": "stream",
     "text": [
      "6 15\n"
     ]
    }
   ],
   "source": [
    "def recursiva(n):\n",
    "    if n == 0:\n",
    "        return n\n",
    "    else:\n",
    "        return n + recursiva(n-1)  "
   ]
  },
  {
   "cell_type": "markdown",
   "metadata": {},
   "source": [
    "a) Qual o valor de recursiva(3)? E de recursiva (5)?"
   ]
  },
  {
   "cell_type": "code",
   "execution_count": 4,
   "metadata": {
    "collapsed": false
   },
   "outputs": [
    {
     "name": "stdout",
     "output_type": "stream",
     "text": [
      "6 15\n"
     ]
    }
   ],
   "source": [
    "print recursiva(3), recursiva(5)  "
   ]
  },
  {
   "cell_type": "markdown",
   "metadata": {},
   "source": [
    "b) O que faz esta função?\n",
    "\n",
    "Calcula o valor do somatório $\\sum_{i=0}^n n$\n",
    "\n",
    "c) O que caracteriza uma função recursiva?\n",
    "\n",
    "A função invocar-se a si mesma. Uma função recursiva deve igualmente invocar-se com argumentos que se aproximam progressivamente das bases de recursão.\n",
    "\n",
    "d) Escreva uma função iterativa que faça o mesmo que a função recursiva."
   ]
  },
  {
   "cell_type": "code",
   "execution_count": 9,
   "metadata": {
    "collapsed": false
   },
   "outputs": [],
   "source": [
    "def iterativa(n):\n",
    "    return sum(range(n+1))"
   ]
  },
  {
   "cell_type": "code",
   "execution_count": 11,
   "metadata": {
    "collapsed": false
   },
   "outputs": [
    {
     "name": "stdout",
     "output_type": "stream",
     "text": [
      "6 15\n"
     ]
    }
   ],
   "source": [
    "print iterativa(3), iterativa(5)"
   ]
  },
  {
   "cell_type": "markdown",
   "metadata": {},
   "source": [
    "4) Considere a seguinte função que calcula, de forma recursiva, a divisão de um\n",
    "número n por 2, calculando para isso o número de vezes que se consegue subtrair\n",
    "2 a n."
   ]
  },
  {
   "cell_type": "code",
   "execution_count": 13,
   "metadata": {
    "collapsed": true
   },
   "outputs": [],
   "source": [
    "def div2(n):\n",
    "    if (n == 0):\n",
    "        return 0\n",
    "    else:\n",
    "        return 1 + div2(n - 2)"
   ]
  },
  {
   "cell_type": "markdown",
   "metadata": {},
   "source": [
    "a) Simule as seguintes chamadas à função div2:\n",
    "\n",
    "    div2(16)\n",
    "    div2(6)\n",
    "    div2(7)"
   ]
  },
  {
   "cell_type": "code",
   "execution_count": 4,
   "metadata": {
    "collapsed": false
   },
   "outputs": [
    {
     "name": "stdout",
     "output_type": "stream",
     "text": [
      "16 14 12 10 8 6 4 2 0 \n",
      "\n",
      "6 4 2 0 \n",
      "\n",
      "7 5 3 1 -1 -3 -5 -7 -9 -11 -13 -15 -17 -19 -21 -23 -25 -27 -29 -31 -33 -35 -37 -39 -41 -43 -45 -47 -49 -51 -53 -55 -57 -59 -61 -63 -65 -67 -69 -71 -73 -75 -77 -79 -81 -83 -85 -87 -89 -91 -93 -95 -97 -99 ...\n"
     ]
    },
    {
     "data": {
      "text/plain": [
       "54"
      ]
     },
     "execution_count": 4,
     "metadata": {},
     "output_type": "execute_result"
    }
   ],
   "source": [
    "def div2Verbose(n):\n",
    "    if (n > - 100):\n",
    "        print n, \n",
    "    elif (n > -102):\n",
    "        print \"...\"\n",
    "        return 0\n",
    "    if (n == 0):\n",
    "        return 0\n",
    "    else:\n",
    "        return 1 + div2Verbose(n - 2)\n",
    "                        \n",
    "div2Verbose(16)\n",
    "print \"\\n\"\n",
    "div2Verbose(6)\n",
    "print \"\\n\"\n",
    "div2Verbose(7)                        "
   ]
  },
  {
   "cell_type": "markdown",
   "metadata": {},
   "source": [
    "b) Corrija o caso base de forma a evitar o problema encontrado na alínea anterior."
   ]
  },
  {
   "cell_type": "code",
   "execution_count": 7,
   "metadata": {
    "collapsed": false
   },
   "outputs": [
    {
     "name": "stdout",
     "output_type": "stream",
     "text": [
      "8\n",
      "3\n",
      "3\n"
     ]
    }
   ],
   "source": [
    "def div2(n):\n",
    "    if (n <= 1):\n",
    "        return 0\n",
    "    else:\n",
    "        return 1 + div2(n - 2)\n",
    "    \n",
    "print div2(16)\n",
    "print div2(6)\n",
    "print div2(7)    "
   ]
  },
  {
   "cell_type": "markdown",
   "metadata": {},
   "source": [
    "### More Exercises\n",
    "\n",
    "Recursion in a text function"
   ]
  },
  {
   "cell_type": "code",
   "execution_count": 28,
   "metadata": {
    "collapsed": true
   },
   "outputs": [],
   "source": [
    "def isPalindrome(s):\n",
    "    \"\"\"Assumes s is a str\n",
    "    Returns True if the letters in s form a palindrome;\n",
    "    False otherwise. Non-letters and capitalization are ignored.\"\"\"\n",
    "    \n",
    "    def toChars(s):\n",
    "        s = s.lower()\n",
    "        letters = ''\n",
    "        for c in s:\n",
    "            if c in 'abcdefghijklmnopqrstuvwxyz':\n",
    "                letters = letters + c\n",
    "        return letters\n",
    "    \n",
    "    def isPal(s):\n",
    "        if len(s) <= 1:\n",
    "            return True\n",
    "        else:\n",
    "            return s[0] == s[-1] and isPal(s[1:-1])\n",
    "    \n",
    "    return isPal(toChars(s))"
   ]
  },
  {
   "cell_type": "code",
   "execution_count": 29,
   "metadata": {
    "collapsed": false
   },
   "outputs": [
    {
     "name": "stdout",
     "output_type": "stream",
     "text": [
      "True\n",
      "False\n"
     ]
    }
   ],
   "source": [
    "print isPalindrome('Deliver desserts - demanded Nemesis - emended, named, stressed, reviled.')\n",
    "print isPalindrome('This is surely not a palindrome')"
   ]
  },
  {
   "cell_type": "markdown",
   "metadata": {},
   "source": [
    "5) Euclide's greatest common divider"
   ]
  },
  {
   "cell_type": "code",
   "execution_count": 8,
   "metadata": {
    "collapsed": false
   },
   "outputs": [
    {
     "name": "stdout",
     "output_type": "stream",
     "text": [
      "96\n"
     ]
    }
   ],
   "source": [
    "# from the std library (iterative version)\n",
    "def gcd(a, b):\n",
    "    \"\"\"Calculate the Greatest Common Divisor of a and b.\n",
    "\n",
    "    Unless b==0, the result will have the same sign as b (so that when\n",
    "    b is divided by it, the result comes out positive).\n",
    "    \"\"\"\n",
    "    while b:\n",
    "        a, b = b, a%b\n",
    "    return a\n",
    "\n",
    "print gcd(2016,192)"
   ]
  },
  {
   "cell_type": "markdown",
   "metadata": {},
   "source": [
    "a) Implemente o algoritmo de Euclides de forma recursiva."
   ]
  },
  {
   "cell_type": "code",
   "execution_count": 11,
   "metadata": {
    "collapsed": false
   },
   "outputs": [
    {
     "name": "stdout",
     "output_type": "stream",
     "text": [
      "96\n"
     ]
    }
   ],
   "source": [
    "# recursive version:\n",
    "\n",
    "def gcdRec(a, b):\n",
    "    if b == 0:\n",
    "        return a\n",
    "\n",
    "    return gcdRec(b, a%b)\n",
    "\n",
    "print gcdR(2016,192)"
   ]
  },
  {
   "cell_type": "markdown",
   "metadata": {},
   "source": [
    "b) Simule a execução de mdc(4,2) e de mdc(66,42)."
   ]
  },
  {
   "cell_type": "code",
   "execution_count": 20,
   "metadata": {
    "collapsed": false
   },
   "outputs": [
    {
     "name": "stdout",
     "output_type": "stream",
     "text": [
      "(a =  4, b =  2)\n",
      "\n",
      "(a =  2, b =  0)\n",
      "\n",
      "(a = 66, b = 42)\n",
      "\n",
      "(a = 42, b = 24)\n",
      "\n",
      "(a = 24, b = 18)\n",
      "\n",
      "(a = 18, b =  6)\n",
      "\n",
      "(a =  6, b =  0)\n",
      "\n"
     ]
    },
    {
     "data": {
      "text/plain": [
       "6"
      ]
     },
     "execution_count": 20,
     "metadata": {},
     "output_type": "execute_result"
    }
   ],
   "source": [
    "def gcdRecVerbose(a, b):\n",
    "    print \"(a = %2d, b = %2d)\\n\" % (a, b)\n",
    "    if b == 0:\n",
    "        return a\n",
    "\n",
    "    return gcdRecVerbose(b, a%b)\n",
    "\n",
    "gcdRecVerbose(4,2)\n",
    "gcdRecVerbose(66,42)"
   ]
  },
  {
   "cell_type": "markdown",
   "metadata": {},
   "source": [
    "7) Considere as seguintes funções e exemplos de uso:"
   ]
  },
  {
   "cell_type": "code",
   "execution_count": 21,
   "metadata": {
    "collapsed": false
   },
   "outputs": [
    {
     "name": "stdout",
     "output_type": "stream",
     "text": [
      "6\n",
      "6\n"
     ]
    }
   ],
   "source": [
    "def f1(n):\n",
    "    if n == 0:\n",
    "        return 0\n",
    "    else:\n",
    "        return n + f1(n - 1)\n",
    "    \n",
    "def f2(n, result):\n",
    "    if n == 0:\n",
    "        return result\n",
    "    else:\n",
    "        return f2(n - 1, n + result)\n",
    "        \n",
    "print(f1(3))\n",
    "print(f2(3, 0))"
   ]
  },
  {
   "cell_type": "markdown",
   "metadata": {},
   "source": [
    "a) Simule a execução das duas últimas linhas do programa apresentado."
   ]
  },
  {
   "cell_type": "code",
   "execution_count": 22,
   "metadata": {
    "collapsed": false
   },
   "outputs": [
    {
     "name": "stdout",
     "output_type": "stream",
     "text": [
      "(a =  3, b =  0)\n",
      "\n",
      "(a =  2, b =  3)\n",
      "\n",
      "(a =  1, b =  5)\n",
      "\n",
      "(a =  0, b =  6)\n",
      "\n",
      "6\n"
     ]
    }
   ],
   "source": [
    "def f2Verbose(n, result):\n",
    "    print \"(a = %2d, b = %2d)\\n\" % (n, result)\n",
    "    if n == 0:\n",
    "        return result\n",
    "    else:\n",
    "        return f2Verbose(n - 1, n + result)\n",
    "    \n",
    "print f2Verbose(3, 0)"
   ]
  },
  {
   "cell_type": "markdown",
   "metadata": {},
   "source": [
    "b) O que é tail-recursion? Qual das duas funções (f1 ou f2) aplica tail-recursion?"
   ]
  },
  {
   "cell_type": "markdown",
   "metadata": {},
   "source": [
    "Uma função f é tail-recursiva quando a sua última instrução é a chamada recursiva. Apenas a f2 é tail-recursive."
   ]
  },
  {
   "cell_type": "markdown",
   "metadata": {},
   "source": [
    "### Problemas"
   ]
  },
  {
   "cell_type": "markdown",
   "metadata": {},
   "source": [
    "1) Escreva uma função que calcule o produto de dois inteiros positivos de forma recursiva:"
   ]
  },
  {
   "cell_type": "code",
   "execution_count": 29,
   "metadata": {
    "collapsed": false
   },
   "outputs": [
    {
     "data": {
      "text/plain": [
       "110"
      ]
     },
     "execution_count": 29,
     "metadata": {},
     "output_type": "execute_result"
    }
   ],
   "source": [
    "def produtoRec(a, b):\n",
    "    if b==1:\n",
    "        return a\n",
    "    else:\n",
    "        return a + produtoRec(a, b-1)\n",
    "    \n",
    "produtoRec(11,10)"
   ]
  },
  {
   "cell_type": "code",
   "execution_count": 32,
   "metadata": {
    "collapsed": false
   },
   "outputs": [
    {
     "name": "stdout",
     "output_type": "stream",
     "text": [
      "1\n"
     ]
    }
   ],
   "source": [
    "print int(True)"
   ]
  },
  {
   "cell_type": "markdown",
   "metadata": {},
   "source": [
    "5) Escreva uma função que lide com potências de expoente inteiro (positivo, zero e negativo)."
   ]
  },
  {
   "cell_type": "code",
   "execution_count": 34,
   "metadata": {
    "collapsed": false
   },
   "outputs": [
    {
     "name": "stdout",
     "output_type": "stream",
     "text": [
      "16 32\n"
     ]
    }
   ],
   "source": [
    "# just positives\n",
    "\n",
    "def potRecLog(a, b):\n",
    "    if b==0:\n",
    "        return 1\n",
    "    else:\n",
    "        result = potRecLog(a, int(b/2))\n",
    "        result = result * result\n",
    "        if b % 2 == 1:\n",
    "            result *= a\n",
    "        return result\n",
    "    \n",
    "print potRecLog(2,4), potRecLog(2,5)"
   ]
  },
  {
   "cell_type": "code",
   "execution_count": 49,
   "metadata": {
    "collapsed": false
   },
   "outputs": [
    {
     "name": "stdout",
     "output_type": "stream",
     "text": [
      "0.25 0.03125\n"
     ]
    },
    {
     "data": {
      "text/plain": [
       "0.03125"
      ]
     },
     "execution_count": 49,
     "metadata": {},
     "output_type": "execute_result"
    }
   ],
   "source": [
    "def potRecLog(a, b):\n",
    "    if b==0:\n",
    "        return 1\n",
    "    elif b==-1:\n",
    "        return 1.0/a\n",
    "    else:\n",
    "        result = potRecLog(a, int(b/2))\n",
    "        result = result * result\n",
    "        if b % 2 == 1:\n",
    "            result *= a\n",
    "        return result\n",
    "    \n",
    "print potRecLog(2,-2), potRecLog(2,-5)"
   ]
  },
  {
   "cell_type": "markdown",
   "metadata": {},
   "source": [
    "### Other Egs"
   ]
  },
  {
   "cell_type": "markdown",
   "metadata": {},
   "source": [
    "Finding Maximum recursively"
   ]
  },
  {
   "cell_type": "code",
   "execution_count": 30,
   "metadata": {
    "collapsed": false
   },
   "outputs": [],
   "source": [
    "def maxR(xs):\n",
    "    \"\"\"Assumes a non-empty list of ints\"\"\"\n",
    "    if len(xs)==1:\n",
    "        return xs[0]\n",
    "\n",
    "    maxTail = maxR(xs[1:])                        # find max of remaining list, recursively\n",
    "    return xs[0] if xs[0] > maxTail else maxTail"
   ]
  },
  {
   "cell_type": "code",
   "execution_count": 31,
   "metadata": {
    "collapsed": false
   },
   "outputs": [
    {
     "name": "stdout",
     "output_type": "stream",
     "text": [
      "[67, 98, 54, 25, 57, 30, 44, 4, 19, 71, 91, 22, 61, 32, 61, 38, 83, 74, 96, 38]\n",
      "98\n"
     ]
    }
   ],
   "source": [
    "import random\n",
    "\n",
    "L3 = [int(100*random.random()) for i in range(20)]  # list of 20 random numbers between [0,99]\n",
    "print L3\n",
    "print maxR(L3)"
   ]
  },
  {
   "cell_type": "markdown",
   "metadata": {},
   "source": [
    "Hanoi Towers, check [ref](https://en.wikipedia.org/wiki/Tower_of_Hanoi) for description and rules"
   ]
  },
  {
   "cell_type": "code",
   "execution_count": 35,
   "metadata": {
    "collapsed": true
   },
   "outputs": [],
   "source": [
    "def hanoi(n):\n",
    "    \n",
    "    def hanoiR(n, origin, destination, temp):\n",
    "        if n==1:\n",
    "            print \"move disk 1 : \", origin, \"->\", destination\n",
    "        else:\n",
    "            hanoiR(n-1, origin, temp, destination)\n",
    "            print \"move disk\", n, \": \", origin, \"->\", destination\n",
    "            hanoiR(n-1, temp, destination, origin)\n",
    "    \n",
    "    hanoiR(n, \"A\", \"C\", \"B\")"
   ]
  },
  {
   "cell_type": "code",
   "execution_count": 36,
   "metadata": {
    "collapsed": false
   },
   "outputs": [
    {
     "name": "stdout",
     "output_type": "stream",
     "text": [
      "move disk 1 :  A -> B\n",
      "move disk 2 :  A -> C\n",
      "move disk 1 :  B -> C\n",
      "move disk 3 :  A -> B\n",
      "move disk 1 :  C -> A\n",
      "move disk 2 :  C -> B\n",
      "move disk 1 :  A -> B\n",
      "move disk 4 :  A -> C\n",
      "move disk 1 :  B -> C\n",
      "move disk 2 :  B -> A\n",
      "move disk 1 :  C -> A\n",
      "move disk 3 :  B -> C\n",
      "move disk 1 :  A -> B\n",
      "move disk 2 :  A -> C\n",
      "move disk 1 :  B -> C\n"
     ]
    }
   ],
   "source": [
    "hanoi(4)"
   ]
  },
  {
   "cell_type": "markdown",
   "metadata": {},
   "source": [
    "Permutations, [ref](http://stackoverflow.com/questions/104420/how-to-generate-all-permutations-of-a-list-in-python)"
   ]
  },
  {
   "cell_type": "code",
   "execution_count": 37,
   "metadata": {
    "collapsed": true
   },
   "outputs": [],
   "source": [
    "def permutations(head, tail=''):\n",
    "    if len(head) == 0: \n",
    "        print tail,\n",
    "    else:\n",
    "        for i in range(len(head)):\n",
    "            permutations(head[0:i] + head[i+1:], tail+head[i])"
   ]
  },
  {
   "cell_type": "code",
   "execution_count": 38,
   "metadata": {
    "collapsed": false
   },
   "outputs": [
    {
     "name": "stdout",
     "output_type": "stream",
     "text": [
      "*abc *acb *bac *bca *cab *cba a*bc a*cb ab*c abc* ac*b acb* b*ac b*ca ba*c bac* bc*a bca* c*ab c*ba ca*b cab* cb*a cba*\n"
     ]
    }
   ],
   "source": [
    "permutations('*abc')"
   ]
  }
 ],
 "metadata": {
  "kernelspec": {
   "display_name": "Python 2",
   "language": "python",
   "name": "python2"
  },
  "language_info": {
   "codemirror_mode": {
    "name": "ipython",
    "version": 2
   },
   "file_extension": ".py",
   "mimetype": "text/x-python",
   "name": "python",
   "nbconvert_exporter": "python",
   "pygments_lexer": "ipython2",
   "version": "2.7.10"
  }
 },
 "nbformat": 4,
 "nbformat_minor": 0
}
